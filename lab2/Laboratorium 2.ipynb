{
 "cells": [
  {
   "cell_type": "markdown",
   "id": "4932936a-a64d-4169-b7f3-446f906d71ed",
   "metadata": {},
   "source": [
    "Jakub Rękas, Kacper Szot"
   ]
  },
  {
   "cell_type": "markdown",
   "id": "27c4a080-70ed-4ec4-8aa4-c653e62d91b8",
   "metadata": {},
   "source": [
    "# Zadanie"
   ]
  },
  {
   "cell_type": "markdown",
   "id": "632be073-756a-476e-9fe9-b6c00cc6b660",
   "metadata": {},
   "source": [
    "## Cel"
   ]
  },
  {
   "cell_type": "markdown",
   "id": "65933bcb-94e5-433a-886a-b1bcd244c8e3",
   "metadata": {},
   "source": [
    "Celem zadania jest zastosowanie metody najmniejszych kwadratów do wytrenowania modelu służącego do predykcji czy dany nowotwór piersi jest złośliwy czy łagodny na podstawie określonego zestawu danych"
   ]
  },
  {
   "cell_type": "markdown",
   "id": "b8afc118-7ebf-4586-be2f-977ed5b5beab",
   "metadata": {},
   "source": [
    "W zadaniu wykorzystane zostały macierze pseudoodwrotne, które wylicza się ze wzoru $(1)$: $$A^{\\dagger}=(A^TA)^{-1}A$$"
   ]
  },
  {
   "cell_type": "markdown",
   "id": "0791cad2-c3c0-4f4e-a406-b91d6524ecae",
   "metadata": {},
   "source": [
    "Na podstawie macierzy $A^{\\dagger}$ otrzymuje się wektor $w$ za pomocą wzoru $(2)$: $$w=A^{\\dagger}b$$ gdzie $w$ to wektor wag dla poszczególnych cech w macierzy $A$."
   ]
  },
  {
   "cell_type": "markdown",
   "id": "29dd6fdc-01bf-433b-ac90-904f0724525a",
   "metadata": {},
   "source": [
    "## Biblioteki"
   ]
  },
  {
   "cell_type": "code",
   "execution_count": 1,
   "id": "e32863ab",
   "metadata": {
    "tags": []
   },
   "outputs": [],
   "source": [
    "import pandas as pd\n",
    "import numpy as np\n",
    "import matplotlib.pyplot as plt\n",
    "from sklearn.preprocessing import PolynomialFeatures"
   ]
  },
  {
   "cell_type": "markdown",
   "id": "761bc500-5be7-48f2-9f21-20f800b1c4cd",
   "metadata": {},
   "source": [
    "- `pandas` - bibiloteka służąca do odczytu danych i zebrania ich w *Data Frame*\n",
    "- `numpy` - biblioteka służąca do obliczeń\n",
    "- `matplotlib.pyplot` - biblioteka do rysowania histogramów\n",
    "- `sklearn.preprocessing` - z biblioteki została wykorzystana funkcja `PolynomialFeatures` służąca do stworzenia macierzy kwadratowej"
   ]
  },
  {
   "cell_type": "markdown",
   "id": "3443c4d7-b505-43b1-aa54-31757c9ee946",
   "metadata": {},
   "source": [
    "## Dane"
   ]
  },
  {
   "cell_type": "code",
   "execution_count": 2,
   "id": "3ca82a6c",
   "metadata": {
    "tags": []
   },
   "outputs": [],
   "source": [
    "labels = []\n",
    "with open(\"breast-cancer.labels\") as f:\n",
    "    for line in f:\n",
    "        labels.append(line.replace(\"\\n\",\"\"))"
   ]
  },
  {
   "cell_type": "code",
   "execution_count": 3,
   "id": "f13d5ac9",
   "metadata": {
    "tags": []
   },
   "outputs": [
    {
     "data": {
      "text/html": [
       "<div>\n",
       "<style scoped>\n",
       "    .dataframe tbody tr th:only-of-type {\n",
       "        vertical-align: middle;\n",
       "    }\n",
       "\n",
       "    .dataframe tbody tr th {\n",
       "        vertical-align: top;\n",
       "    }\n",
       "\n",
       "    .dataframe thead th {\n",
       "        text-align: right;\n",
       "    }\n",
       "</style>\n",
       "<table border=\"1\" class=\"dataframe\">\n",
       "  <thead>\n",
       "    <tr style=\"text-align: right;\">\n",
       "      <th></th>\n",
       "      <th>patient ID</th>\n",
       "      <th>radius (mean)</th>\n",
       "      <th>perimeter (mean)</th>\n",
       "      <th>area (mean)</th>\n",
       "      <th>symmetry (mean)</th>\n",
       "    </tr>\n",
       "  </thead>\n",
       "  <tbody>\n",
       "    <tr>\n",
       "      <th>0</th>\n",
       "      <td>842302</td>\n",
       "      <td>17.99</td>\n",
       "      <td>122.80</td>\n",
       "      <td>1001.0</td>\n",
       "      <td>0.2419</td>\n",
       "    </tr>\n",
       "    <tr>\n",
       "      <th>1</th>\n",
       "      <td>842517</td>\n",
       "      <td>20.57</td>\n",
       "      <td>132.90</td>\n",
       "      <td>1326.0</td>\n",
       "      <td>0.1812</td>\n",
       "    </tr>\n",
       "    <tr>\n",
       "      <th>2</th>\n",
       "      <td>84300903</td>\n",
       "      <td>19.69</td>\n",
       "      <td>130.00</td>\n",
       "      <td>1203.0</td>\n",
       "      <td>0.2069</td>\n",
       "    </tr>\n",
       "    <tr>\n",
       "      <th>3</th>\n",
       "      <td>84348301</td>\n",
       "      <td>11.42</td>\n",
       "      <td>77.58</td>\n",
       "      <td>386.1</td>\n",
       "      <td>0.2597</td>\n",
       "    </tr>\n",
       "    <tr>\n",
       "      <th>4</th>\n",
       "      <td>84358402</td>\n",
       "      <td>20.29</td>\n",
       "      <td>135.10</td>\n",
       "      <td>1297.0</td>\n",
       "      <td>0.1809</td>\n",
       "    </tr>\n",
       "  </tbody>\n",
       "</table>\n",
       "</div>"
      ],
      "text/plain": [
       "   patient ID  radius (mean)  perimeter (mean)  area (mean)  symmetry (mean)\n",
       "0      842302          17.99            122.80       1001.0           0.2419\n",
       "1      842517          20.57            132.90       1326.0           0.1812\n",
       "2    84300903          19.69            130.00       1203.0           0.2069\n",
       "3    84348301          11.42             77.58        386.1           0.2597\n",
       "4    84358402          20.29            135.10       1297.0           0.1809"
      ]
     },
     "execution_count": 3,
     "metadata": {},
     "output_type": "execute_result"
    }
   ],
   "source": [
    "train_data = pd.io.parsers.read_csv(filepath_or_buffer=\"breast-cancer-train.dat\", names=labels)\n",
    "train_data[[\"patient ID\", \"radius (mean)\", \"perimeter (mean)\", \"area (mean)\", \"symmetry (mean)\"]].head()"
   ]
  },
  {
   "cell_type": "markdown",
   "id": "e98f2919-124d-48f1-9127-4c046e699b5f",
   "metadata": {},
   "source": [
    "**Tab. 1** - tabela z przykładowymi danymi wykorzystanymi do trenowania modelu"
   ]
  },
  {
   "cell_type": "code",
   "execution_count": 4,
   "id": "861bfa16",
   "metadata": {
    "tags": []
   },
   "outputs": [
    {
     "data": {
      "text/html": [
       "<div>\n",
       "<style scoped>\n",
       "    .dataframe tbody tr th:only-of-type {\n",
       "        vertical-align: middle;\n",
       "    }\n",
       "\n",
       "    .dataframe tbody tr th {\n",
       "        vertical-align: top;\n",
       "    }\n",
       "\n",
       "    .dataframe thead th {\n",
       "        text-align: right;\n",
       "    }\n",
       "</style>\n",
       "<table border=\"1\" class=\"dataframe\">\n",
       "  <thead>\n",
       "    <tr style=\"text-align: right;\">\n",
       "      <th></th>\n",
       "      <th>patient ID</th>\n",
       "      <th>radius (mean)</th>\n",
       "      <th>perimeter (mean)</th>\n",
       "      <th>area (mean)</th>\n",
       "      <th>symmetry (mean)</th>\n",
       "    </tr>\n",
       "  </thead>\n",
       "  <tbody>\n",
       "    <tr>\n",
       "      <th>0</th>\n",
       "      <td>892438</td>\n",
       "      <td>19.53</td>\n",
       "      <td>129.50</td>\n",
       "      <td>1217.0</td>\n",
       "      <td>0.1792</td>\n",
       "    </tr>\n",
       "    <tr>\n",
       "      <th>1</th>\n",
       "      <td>892604</td>\n",
       "      <td>12.46</td>\n",
       "      <td>80.43</td>\n",
       "      <td>471.3</td>\n",
       "      <td>0.1781</td>\n",
       "    </tr>\n",
       "    <tr>\n",
       "      <th>2</th>\n",
       "      <td>89263202</td>\n",
       "      <td>20.09</td>\n",
       "      <td>134.70</td>\n",
       "      <td>1247.0</td>\n",
       "      <td>0.2249</td>\n",
       "    </tr>\n",
       "    <tr>\n",
       "      <th>3</th>\n",
       "      <td>892657</td>\n",
       "      <td>10.49</td>\n",
       "      <td>66.86</td>\n",
       "      <td>334.3</td>\n",
       "      <td>0.1482</td>\n",
       "    </tr>\n",
       "    <tr>\n",
       "      <th>4</th>\n",
       "      <td>89296</td>\n",
       "      <td>11.46</td>\n",
       "      <td>73.59</td>\n",
       "      <td>403.1</td>\n",
       "      <td>0.1411</td>\n",
       "    </tr>\n",
       "  </tbody>\n",
       "</table>\n",
       "</div>"
      ],
      "text/plain": [
       "   patient ID  radius (mean)  perimeter (mean)  area (mean)  symmetry (mean)\n",
       "0      892438          19.53            129.50       1217.0           0.1792\n",
       "1      892604          12.46             80.43        471.3           0.1781\n",
       "2    89263202          20.09            134.70       1247.0           0.2249\n",
       "3      892657          10.49             66.86        334.3           0.1482\n",
       "4       89296          11.46             73.59        403.1           0.1411"
      ]
     },
     "execution_count": 4,
     "metadata": {},
     "output_type": "execute_result"
    }
   ],
   "source": [
    "validate_data = pd.io.parsers.read_csv(filepath_or_buffer=\"breast-cancer-validate.dat\", names=labels)\n",
    "validate_data[[\"patient ID\", \"radius (mean)\", \"perimeter (mean)\", \"area (mean)\", \"symmetry (mean)\"]].head()"
   ]
  },
  {
   "cell_type": "markdown",
   "id": "303e9756-62e0-488f-9aed-a8cb3683552a",
   "metadata": {},
   "source": [
    "**Tab. 2** - tabela z przykładowymi danymi wykorzystanymi do sprawdzenia skuteczności modelu"
   ]
  },
  {
   "cell_type": "code",
   "execution_count": 5,
   "id": "22f70803-c8b9-4ede-9cfe-1c4a00f68732",
   "metadata": {},
   "outputs": [
    {
     "name": "stdout",
     "output_type": "stream",
     "text": [
      "Validation cases: 260\n"
     ]
    }
   ],
   "source": [
    "cases = len(validate_data)\n",
    "print(\"Validation cases:\", cases)"
   ]
  },
  {
   "cell_type": "markdown",
   "id": "e7d09de7-bb0c-4541-80cd-91e972740f2a",
   "metadata": {},
   "source": [
    "Liczba rekordów w zestawie testowym wynosi 260."
   ]
  },
  {
   "cell_type": "markdown",
   "id": "a9217dad",
   "metadata": {},
   "source": [
    "## Histogramy"
   ]
  },
  {
   "cell_type": "markdown",
   "id": "d8f36695-4822-4ca6-9df2-13ff37b62bdc",
   "metadata": {},
   "source": [
    "Histogramy przedstawiające częstości występowania wartości pól wybranych do trenowania modelu."
   ]
  },
  {
   "cell_type": "code",
   "execution_count": 6,
   "id": "9db300b7",
   "metadata": {
    "jupyter": {
     "source_hidden": true
    },
    "tags": []
   },
   "outputs": [
    {
     "data": {
      "image/png": "[encoded data removed]",
      "text/plain": [
       "<Figure size 640x480 with 1 Axes>"
      ]
     },
     "metadata": {},
     "output_type": "display_data"
    }
   ],
   "source": [
    "plt.title(\"Radius (mean)\")\n",
    "plt.xlabel(\"Radius\")\n",
    "plt.ylabel(\"Frequency\")\n",
    "plt.hist(train_data[\"radius (mean)\"], ec=\"black\", alpha=.5)\n",
    "plt.show()"
   ]
  },
  {
   "cell_type": "markdown",
   "id": "bfefd330-de55-44eb-b27b-67270aa49715",
   "metadata": {},
   "source": [
    "**Wyk. 1** - histogram dla kolumny *radius (mean)*"
   ]
  },
  {
   "cell_type": "code",
   "execution_count": 7,
   "id": "3ce0f7ce",
   "metadata": {
    "tags": []
   },
   "outputs": [
    {
     "data": {
      "image/png": "[encoded data removed]",
      "text/plain": [
       "<Figure size 640x480 with 1 Axes>"
      ]
     },
     "metadata": {},
     "output_type": "display_data"
    }
   ],
   "source": [
    "plt.title(\"Perimeter (mean)\")\n",
    "plt.xlabel(\"Perimeter\")\n",
    "plt.ylabel(\"Frequency\")\n",
    "plt.hist(train_data[\"perimeter (mean)\"], ec=\"black\", alpha=.5)\n",
    "plt.show()"
   ]
  },
  {
   "cell_type": "markdown",
   "id": "38f90a05-5111-416f-80cc-84acace43931",
   "metadata": {},
   "source": [
    "**Wyk. 2** - histogram dla kolumny *perimeter (mean)*"
   ]
  },
  {
   "cell_type": "code",
   "execution_count": 8,
   "id": "cc83b7c2",
   "metadata": {
    "tags": []
   },
   "outputs": [
    {
     "data": {
      "image/png": "[encoded data removed]",
      "text/plain": [
       "<Figure size 640x480 with 1 Axes>"
      ]
     },
     "metadata": {},
     "output_type": "display_data"
    }
   ],
   "source": [
    "plt.title(\"Area (mean)\")\n",
    "plt.xlabel(\"Area\")\n",
    "plt.ylabel(\"Frequency\")\n",
    "plt.hist(train_data[\"area (mean)\"], ec=\"black\", alpha=.5)\n",
    "plt.show()"
   ]
  },
  {
   "cell_type": "markdown",
   "id": "eb67993d-4f3a-447a-a507-a1a0d92f2116",
   "metadata": {},
   "source": [
    "**Wyk. 3** - histogram dla kolumny *area (mean)*"
   ]
  },
  {
   "cell_type": "code",
   "execution_count": 9,
   "id": "b978fc61-025a-41a0-a51e-e5bb49540b2a",
   "metadata": {},
   "outputs": [
    {
     "data": {
      "image/png": "[encoded data removed]",
      "text/plain": [
       "<Figure size 640x480 with 1 Axes>"
      ]
     },
     "metadata": {},
     "output_type": "display_data"
    }
   ],
   "source": [
    "plt.title(\"Symmetry (mean)\")\n",
    "plt.xlabel(\"Symmetry\")\n",
    "plt.ylabel(\"Frequency\")\n",
    "plt.hist(train_data[\"symmetry (mean)\"], ec=\"black\", alpha=.5)\n",
    "plt.show()"
   ]
  },
  {
   "cell_type": "markdown",
   "id": "93445af9-ed33-4b09-abf6-74c44855e63c",
   "metadata": {},
   "source": [
    "**Wyk. 4** - wykres dla kolumny *symmetry (mean)*"
   ]
  },
  {
   "cell_type": "markdown",
   "id": "60c80eab-bbd4-4b54-8cca-9abbad9af3fa",
   "metadata": {
    "tags": []
   },
   "source": [
    "## Model Klasyfikatora oparty na Metodzie najmniejszych kwadratów"
   ]
  },
  {
   "cell_type": "markdown",
   "id": "c695f24c-1165-472a-a002-2088c0af2939",
   "metadata": {
    "tags": []
   },
   "source": [
    "Do klasyfikacji złośliwości nowotworu w celu redukcji wymiarowości wykorzystamy tylko te cechy:"
   ]
  },
  {
   "cell_type": "markdown",
   "id": "777694af-33fe-457f-932f-4ab918a06968",
   "metadata": {
    "tags": []
   },
   "source": [
    "- *radius (mean)*,\n",
    "- *perimeter (mean)*,\n",
    "- *area (mean)*,\n",
    "- *symmetry (mean)*"
   ]
  },
  {
   "cell_type": "markdown",
   "id": "aa4420e1-fb93-4950-a340-9d7fa6c23d1c",
   "metadata": {},
   "source": [
    "### Odwrócenie macierzy metodą `np.linalg.inv()`"
   ]
  },
  {
   "cell_type": "markdown",
   "id": "94957c0a-7a63-45c6-bbd9-aabdf9c2708d",
   "metadata": {},
   "source": [
    "W poniższum sposobie wektor $w$ jest wyliczony bezpośrednio przy użyciu wzoru $(2)$ oraz macierzy $A^{\\dagger}$"
   ]
  },
  {
   "cell_type": "markdown",
   "id": "8c2e2641-3cbd-488a-8429-145c54a19860",
   "metadata": {},
   "source": [
    "**Macierz liniowa**"
   ]
  },
  {
   "cell_type": "code",
   "execution_count": 10,
   "id": "1041fbf3",
   "metadata": {
    "tags": []
   },
   "outputs": [],
   "source": [
    "labels_lin = [\"radius (mean)\", \"perimeter (mean)\", \"area (mean)\", \"symmetry (mean)\"]"
   ]
  },
  {
   "cell_type": "code",
   "execution_count": 11,
   "id": "5911a644",
   "metadata": {
    "tags": []
   },
   "outputs": [],
   "source": [
    "A_lin = np.matrix(train_data[labels_lin])"
   ]
  },
  {
   "cell_type": "code",
   "execution_count": 12,
   "id": "a62b77c5",
   "metadata": {
    "tags": []
   },
   "outputs": [],
   "source": [
    "# Prepare results vector\n",
    "b_train = np.where(train_data[\"Malignant/Benign\"] == \"M\", [1], [-1])\n",
    "b_validate = np.where(validate_data[\"Malignant/Benign\"] == \"M\", [1], [-1])"
   ]
  },
  {
   "cell_type": "markdown",
   "id": "29ec3b5d-8a6c-436d-858c-a90abaf54fc9",
   "metadata": {},
   "source": [
    "Wektor $b$ to wektor zawierający informacje o tym czy nowotwór jest łagodny czy złośliwy. Wektor $b_{train}$ został stworzony na podstawie **Tab. 1** (dane testowe), natomiast wektor $b_{validate}$ na podstawie **Tab. 2** (dane walidacyjne). "
   ]
  },
  {
   "cell_type": "code",
   "execution_count": 13,
   "id": "7f67edf5-1bd7-4bf5-a715-a409b9444394",
   "metadata": {
    "tags": []
   },
   "outputs": [],
   "source": [
    "psuedoinverse_A_lin = np.linalg.inv((A_lin.T * A_lin)) * A_lin.T"
   ]
  },
  {
   "cell_type": "markdown",
   "id": "665f203a-cdf6-41d9-befc-c2cd05cb00da",
   "metadata": {},
   "source": [
    "Liniowa macierz pseudoodwrotna otrzymana ze wzoru $(1)$."
   ]
  },
  {
   "cell_type": "code",
   "execution_count": 14,
   "id": "91abf38d-6b44-4779-9c8b-ee586085d41f",
   "metadata": {
    "tags": []
   },
   "outputs": [],
   "source": [
    "w_lin=psuedoinverse_A_lin*np.matrix(b_train).T"
   ]
  },
  {
   "cell_type": "markdown",
   "id": "d7c3ed09-c34a-466e-9b1a-38776fa1bbf6",
   "metadata": {},
   "source": [
    "$w_{lin}$ to wektor wag macierzy liniowej otrzymany ze wzoru $(2)$."
   ]
  },
  {
   "cell_type": "code",
   "execution_count": 15,
   "id": "4fabe7b9-5319-4e3b-9036-0bb925fddd96",
   "metadata": {
    "tags": []
   },
   "outputs": [],
   "source": [
    "validate_result_lin = np.sign(np.matrix(validate_data[labels_lin]) * w_lin).T"
   ]
  },
  {
   "cell_type": "markdown",
   "id": "d0d6dbfb-7444-4968-80a3-153696449883",
   "metadata": {},
   "source": [
    "`validate_result_lin` - wektor testowy zawierający predykcje uzyskane dzięki $w_{lin}$ na walidacyjnym zestawie danych"
   ]
  },
  {
   "cell_type": "code",
   "execution_count": 16,
   "id": "b17de964-0e55-4537-a627-bf7d6faeebf7",
   "metadata": {
    "tags": []
   },
   "outputs": [],
   "source": [
    "correct_classification_lin = len(np.asarray(validate_result_lin == b_validate).nonzero()[0])\n",
    "false_negative_lin = len(np.asarray(validate_result_lin < b_validate).nonzero()[0])\n",
    "false_positive_lin = len(np.asarray(validate_result_lin > b_validate).nonzero()[0])"
   ]
  },
  {
   "cell_type": "code",
   "execution_count": 17,
   "id": "9f5bc082-8eef-40ad-b2f9-cd80cb8ca391",
   "metadata": {},
   "outputs": [
    {
     "name": "stdout",
     "output_type": "stream",
     "text": [
      "Correct classification: 245\n",
      "False positives: 8\n",
      "False negatives: 7\n",
      "Accuracy: 94.23076923076923\n"
     ]
    }
   ],
   "source": [
    "print(\"Correct classification:\", correct_classification_lin)\n",
    "print(\"False positives:\", false_positive_lin)\n",
    "print(\"False negatives:\", false_negative_lin)\n",
    "print(\"Accuracy:\", correct_classification_lin/cases * 100)"
   ]
  },
  {
   "cell_type": "markdown",
   "id": "9dbec963-c289-473b-bca2-2380ff73f863",
   "metadata": {},
   "source": [
    "Z 260 rekordów w **Tab. 2** model wytrenowany na podstawie danych z **Tab. 1** dla macierzy liniowej poprawnie przewidział 245 przypadków nowotworu - skuteczność $94.2\\%$. 8 razy wynik był fałszywie pozytywny, 7 razy fałszywie negatywny."
   ]
  },
  {
   "cell_type": "markdown",
   "id": "26c1b728-629d-4912-91f8-db95ea4ec2f5",
   "metadata": {},
   "source": [
    "**Macierz kwadratowa**"
   ]
  },
  {
   "cell_type": "markdown",
   "id": "4844a4c1-d80e-490d-b7dd-041468704d38",
   "metadata": {},
   "source": [
    "Kroki trenowania modelu w przypadku macierzy kwadratowe są identyczne jak w przypadku macierzy liniowej."
   ]
  },
  {
   "cell_type": "markdown",
   "id": "1b2dc703-6ce2-43dd-9655-13b8e22417df",
   "metadata": {},
   "source": [
    "Poniższy kod wykorzystuje funkcję `PolynomialFeatures` z biblioteki `sklearn.preprocessing` aby stworzyć macierz kwadratową."
   ]
  },
  {
   "cell_type": "code",
   "execution_count": 18,
   "id": "55eeb768-d869-44e9-854a-ac2825e08268",
   "metadata": {
    "tags": []
   },
   "outputs": [],
   "source": [
    "#Prepare Data Transformator \n",
    "quad = PolynomialFeatures(degree=2, include_bias=False)\n",
    "quad.feature_names_in = labels_lin\n",
    "A_quad = np.matrix(quad.fit_transform(np.asarray(A_lin)))\n",
    "validate_data_quad = np.matrix(quad.fit_transform(np.asarray(validate_data[labels_lin])))\n",
    "labels_quad = quad.get_feature_names_out(labels_lin).tolist()"
   ]
  },
  {
   "cell_type": "markdown",
   "id": "c7f9ac6e-f289-4274-9ff2-bdeda57ca63a",
   "metadata": {},
   "source": [
    "W macierzy kwadratowej powstały następujące pola"
   ]
  },
  {
   "cell_type": "markdown",
   "id": "888f745c-4820-4059-944b-07671cca66c5",
   "metadata": {},
   "source": [
    "- *radius (mean)*\n",
    "- *perimeter (mean)*\n",
    "- *area (mean)*\n",
    "- *symmetry (mean)*\n",
    "- *radius (mean)$^2$*\n",
    "- *radius (mean) perimeter (mean)*\n",
    "- *radius (mean) area (mean)*\n",
    "- *radius (mean) symmetry (mean)*\n",
    "- *perimeter (mean)$^2$*\n",
    "- *perimeter (mean) area (mean)*\n",
    "- *perimeter (mean) symmetry (mean)*\n",
    "- *area (mean)$^2$*\n",
    "- *area (mean) symmetry (mean)*\n",
    "- *symmetry (mean)$^2$*"
   ]
  },
  {
   "cell_type": "code",
   "execution_count": 19,
   "id": "0df32ce1-4391-4a98-ae6a-c119f63709aa",
   "metadata": {
    "tags": []
   },
   "outputs": [],
   "source": [
    "psuedoinverse_A_quad = np.linalg.inv((A_quad.T * A_quad)) * A_quad.T"
   ]
  },
  {
   "cell_type": "markdown",
   "id": "6a55fe50-4b3a-434c-a053-30ff4f44ec09",
   "metadata": {},
   "source": [
    "Macierz pseudoodwrotna wyliczona na podstawie wzoru $(1)$."
   ]
  },
  {
   "cell_type": "code",
   "execution_count": 20,
   "id": "8ee64fef-6465-4921-af1b-91b9a0d89bb9",
   "metadata": {
    "tags": []
   },
   "outputs": [],
   "source": [
    "w_quad=psuedoinverse_A_quad*np.matrix(b_train).T"
   ]
  },
  {
   "cell_type": "markdown",
   "id": "23032f39-db01-4956-97f3-df567296749b",
   "metadata": {},
   "source": [
    "$w_{quad}$ - wektor wag wyliczony na podstawie wzoru $(2)$ oraz macierzy $A^{\\dagger}$ dla reprezentacji kwadratowej."
   ]
  },
  {
   "cell_type": "code",
   "execution_count": 21,
   "id": "07b67179-fdfb-46ef-b7e3-ddf0854b17e7",
   "metadata": {
    "tags": []
   },
   "outputs": [],
   "source": [
    "validate_result_quad = np.sign(np.matrix(validate_data_quad) * w_quad).T"
   ]
  },
  {
   "cell_type": "markdown",
   "id": "a68a02c2-5e02-441e-b3a4-e8d4a5ed2d67",
   "metadata": {},
   "source": [
    "`validate_result_quad` - wektor testowy zawierający predykcje uzyskane dzięki $w_{quad}$ na walidacyjnym zestawie danych"
   ]
  },
  {
   "cell_type": "code",
   "execution_count": 22,
   "id": "749e11ad-c5bb-42e4-b704-1913ef2a4a88",
   "metadata": {},
   "outputs": [],
   "source": [
    "correct_classification_quad = len(np.asarray(validate_result_quad == b_validate).nonzero()[0])\n",
    "false_negative_quad = len(np.asarray(validate_result_quad < b_validate).nonzero()[0])\n",
    "false_positive_quad = len(np.asarray(validate_result_quad > b_validate).nonzero()[0])"
   ]
  },
  {
   "cell_type": "code",
   "execution_count": 23,
   "id": "f7fad889-b592-4cd7-80e1-035fdcce7d44",
   "metadata": {},
   "outputs": [
    {
     "name": "stdout",
     "output_type": "stream",
     "text": [
      "Correct classification: 240\n",
      "False positives: 15\n",
      "False negatives: 5\n",
      "Accuracy: 92.3076923076923\n"
     ]
    }
   ],
   "source": [
    "print(\"Correct classification:\", correct_classification_quad)\n",
    "print(\"False positives:\", false_positive_quad)\n",
    "print(\"False negatives:\", false_negative_quad)\n",
    "print(\"Accuracy:\", correct_classification_quad/cases * 100)"
   ]
  },
  {
   "cell_type": "markdown",
   "id": "4df91c4f-f211-4efc-8415-33469effa10a",
   "metadata": {},
   "source": [
    "Z 260 rekordów w **Tab. 2** model wytrenowany na podstawie danych z **Tab. 1** dla macierzy kwadratowej poprawnie przewidział 240 przypadków nowotworu - skuteczność $92.3\\%$. 15 razy wynik był fałszywie pozytywny, 5 razy fałszywie negatywny."
   ]
  },
  {
   "cell_type": "markdown",
   "id": "f42cab60-0cc8-4abc-95df-a6836378849e",
   "metadata": {},
   "source": [
    "### Wyliczenie wektora $w$ za pomocą `np.linalg.solve()`"
   ]
  },
  {
   "cell_type": "markdown",
   "id": "d07ddd18-b134-4220-a1d2-dbface310e1b",
   "metadata": {},
   "source": [
    "Teraz wektor $w$ wyliczany jest z równania otrzymanego za pomocą przekształczenia wzory $(1)$ w $(3)$: $$\\left(A^TA\\right)w=A^Tb$$"
   ]
  },
  {
   "cell_type": "markdown",
   "id": "649ebfe4-19fe-4e67-af96-5c8f7f5e5764",
   "metadata": {},
   "source": [
    "**Macierz liniowa**"
   ]
  },
  {
   "cell_type": "code",
   "execution_count": 24,
   "id": "78139050-9162-4bb8-9a67-fdc1fbfa8407",
   "metadata": {
    "tags": []
   },
   "outputs": [],
   "source": [
    "labels_lin = [\"radius (mean)\", \"perimeter (mean)\", \"area (mean)\", \"symmetry (mean)\"]"
   ]
  },
  {
   "cell_type": "code",
   "execution_count": 25,
   "id": "8cf55afc-2874-4dbc-9a2c-ea68569405c7",
   "metadata": {
    "tags": []
   },
   "outputs": [],
   "source": [
    "A_lin = np.matrix(train_data[labels_lin])"
   ]
  },
  {
   "cell_type": "code",
   "execution_count": 26,
   "id": "a372f020-1931-44a3-a8e8-6a5f32ce92f8",
   "metadata": {
    "tags": []
   },
   "outputs": [],
   "source": [
    "# Prepare results vector\n",
    "b_train = np.where(train_data[\"Malignant/Benign\"] == \"M\", [1], [-1])\n",
    "b_validate = np.where(validate_data[\"Malignant/Benign\"] == \"M\", [1], [-1])"
   ]
  },
  {
   "cell_type": "markdown",
   "id": "bf6e1256-3274-4733-aeed-b7344f96a1ae",
   "metadata": {},
   "source": [
    "Wektor $b$ to wektor zawierający informacje o tym czy nowotwór jest łagodny czy złośliwy. Wektor $b_{train}$ został stworzony na podstawie **Tab. 1** (dane testowe), natomiast wektor $b_{validate}$ na podstawie **Tab. 2** (dane walidacyjne). "
   ]
  },
  {
   "cell_type": "code",
   "execution_count": 27,
   "id": "b8ca4120-8852-465f-97c8-19ba287e05ee",
   "metadata": {
    "tags": []
   },
   "outputs": [],
   "source": [
    "prod_A = np.matmul(A_lin.T, A_lin)\n",
    "prod_Ab = np.matmul(A_lin.T, b_train).T"
   ]
  },
  {
   "cell_type": "code",
   "execution_count": 28,
   "id": "b3f7d447-4395-42c5-b35e-05c8778a5a5b",
   "metadata": {
    "tags": []
   },
   "outputs": [],
   "source": [
    "w_lin = np.linalg.solve(prod_A, prod_Ab)"
   ]
  },
  {
   "cell_type": "markdown",
   "id": "c9c34139-0a24-418f-9380-f4c43923d795",
   "metadata": {},
   "source": [
    "$w_{lin}$ to wektor wag macierzy liniowej otrzymany poprzez rozwiązanie równania $(3)$."
   ]
  },
  {
   "cell_type": "code",
   "execution_count": 29,
   "id": "cb078771-4b26-48e7-8de3-444a4e448f00",
   "metadata": {
    "tags": []
   },
   "outputs": [],
   "source": [
    "validate_result_lin = np.sign(np.matrix(validate_data[labels_lin]) * w_lin).T"
   ]
  },
  {
   "cell_type": "markdown",
   "id": "ccd7b90e-915a-465e-b129-fa754a2e99e3",
   "metadata": {},
   "source": [
    "`validate_result_lin` - wektor testowy zawierający predykcje uzyskane dzięki $w_{lin}$ na walidacyjnym zestawie danych"
   ]
  },
  {
   "cell_type": "code",
   "execution_count": 30,
   "id": "ec1d96bb-25b8-43a2-9f62-18ce2ec8227a",
   "metadata": {
    "tags": []
   },
   "outputs": [],
   "source": [
    "correct_classification_lin = len(np.asarray(validate_result_lin == b_validate).nonzero()[0])\n",
    "false_negative_lin = len(np.asarray(validate_result_lin < b_validate).nonzero()[0])\n",
    "false_positive_lin = len(np.asarray(validate_result_lin > b_validate).nonzero()[0])"
   ]
  },
  {
   "cell_type": "code",
   "execution_count": 31,
   "id": "14e73dd1-4406-41a3-b14d-d254109d2a79",
   "metadata": {},
   "outputs": [
    {
     "name": "stdout",
     "output_type": "stream",
     "text": [
      "Correct classification: 245\n",
      "False positives: 8\n",
      "False negatives: 7\n",
      "Accuracy: 94.23076923076923\n"
     ]
    }
   ],
   "source": [
    "print(\"Correct classification:\", correct_classification_lin)\n",
    "print(\"False positives:\", false_positive_lin)\n",
    "print(\"False negatives:\", false_negative_lin)\n",
    "print(\"Accuracy:\", correct_classification_lin/cases * 100)"
   ]
  },
  {
   "cell_type": "markdown",
   "id": "521e0c9a-8156-4f70-8605-06f6c872b7e8",
   "metadata": {},
   "source": [
    "Z 260 rekordów w **Tab. 2** model wytrenowany na podstawie danych z **Tab. 1** dla macierzy liniowej poprawnie przewidział 245 przypadków nowotworu - skuteczność $94.2\\%$. 8 razy wynik był fałszywie pozytywny, 7 razy fałszywie negatywny."
   ]
  },
  {
   "cell_type": "markdown",
   "id": "db01fd73-c7ce-43cf-9c05-8708597662d0",
   "metadata": {
    "tags": []
   },
   "source": [
    "**Macierz kwadratowa**"
   ]
  },
  {
   "cell_type": "code",
   "execution_count": 32,
   "id": "7e166b08-e3ba-4430-8f96-a0cc33faa700",
   "metadata": {
    "tags": []
   },
   "outputs": [],
   "source": [
    "#Prepare Data Transformator \n",
    "quad = PolynomialFeatures(degree=2, include_bias=False)\n",
    "quad.feature_names_in = labels_lin\n",
    "A_quad = np.matrix(quad.fit_transform(np.asarray(A_lin)))\n",
    "validate_data_quad = np.matrix(quad.fit_transform(np.asarray(validate_data[labels_lin])))\n",
    "labels_quad = quad.get_feature_names_out(labels_lin).tolist()"
   ]
  },
  {
   "cell_type": "code",
   "execution_count": 33,
   "id": "62c7ebbf-867d-4423-a958-73ca117b16aa",
   "metadata": {
    "tags": []
   },
   "outputs": [],
   "source": [
    "prod_A = np.matmul(A_quad.T, A_quad)\n",
    "prod_Ab = np.matmul(A_quad.T, b_train).T"
   ]
  },
  {
   "cell_type": "code",
   "execution_count": 34,
   "id": "eb750fe2-9810-442d-bcf4-a0e134121063",
   "metadata": {},
   "outputs": [],
   "source": [
    "w_quad = np.linalg.solve(prod_A, prod_Ab)"
   ]
  },
  {
   "cell_type": "code",
   "execution_count": 35,
   "id": "371eac84-ca5d-4680-9ac2-29f65a150816",
   "metadata": {
    "tags": []
   },
   "outputs": [],
   "source": [
    "w_quad=psuedoinverse_A_quad*np.matrix(b_train).T"
   ]
  },
  {
   "cell_type": "markdown",
   "id": "f6bca7eb-ba6f-4d20-ba5e-053186739aea",
   "metadata": {},
   "source": [
    "$w_{quad}$ - wektor wag wyliczony poprzez rozwiązanie układu równań $(3)$ dla reprezentacji kwadratowej."
   ]
  },
  {
   "cell_type": "code",
   "execution_count": 36,
   "id": "7b564ab5-fd50-466a-b923-4b80e203c6ba",
   "metadata": {
    "tags": []
   },
   "outputs": [],
   "source": [
    "validate_result_quad = np.sign(np.matrix(validate_data_quad) * w_quad).T"
   ]
  },
  {
   "cell_type": "markdown",
   "id": "a0f9f448-d466-4a20-afa5-ad096e7bc134",
   "metadata": {},
   "source": [
    "`validate_result_quad` - wektor testowy zawierający predykcje uzyskane dzięki $w_{quad}$ na walidacyjnym zestawie danych"
   ]
  },
  {
   "cell_type": "code",
   "execution_count": 37,
   "id": "aa11bb49-d8d3-4cf4-92e8-0c4a532bf266",
   "metadata": {},
   "outputs": [],
   "source": [
    "correct_classification_quad = len(np.asarray(validate_result_quad == b_validate).nonzero()[0])\n",
    "false_negative_quad = len(np.asarray(validate_result_quad < b_validate).nonzero()[0])\n",
    "false_positive_quad = len(np.asarray(validate_result_quad > b_validate).nonzero()[0])"
   ]
  },
  {
   "cell_type": "code",
   "execution_count": 38,
   "id": "ff33efad-640c-463b-b50f-263b20630cd0",
   "metadata": {},
   "outputs": [
    {
     "name": "stdout",
     "output_type": "stream",
     "text": [
      "Correct classification: 240\n",
      "False positives: 15\n",
      "False negatives: 5\n",
      "Accuracy: 92.3076923076923\n"
     ]
    }
   ],
   "source": [
    "print(\"Correct classification:\", correct_classification_quad)\n",
    "print(\"False positives:\", false_positive_quad)\n",
    "print(\"False negatives:\", false_negative_quad)\n",
    "print(\"Accuracy:\", correct_classification_quad/cases * 100)"
   ]
  },
  {
   "cell_type": "markdown",
   "id": "8acf1021-72b3-48f9-84d5-c65b28f7790e",
   "metadata": {},
   "source": [
    "Z 260 rekordów w **Tab. 2** model wytrenowany na podstawie danych z **Tab. 1** dla macierzy kwadratowej poprawnie przewidział 240 przypadków nowotworu - skuteczność $92.3\\%$. 15 razy wynik był fałszywie pozytywny, 5 razy fałszywie negatywny."
   ]
  },
  {
   "cell_type": "markdown",
   "id": "e26dee50-4801-4be8-9c98-afa941f86fb4",
   "metadata": {},
   "source": [
    "## Obliczenie współczynnika uwarunkowania macierzy"
   ]
  },
  {
   "cell_type": "markdown",
   "id": "b19ff46c-4481-4821-84a6-ed32791bb688",
   "metadata": {},
   "source": [
    "Aby wyliczyć współczynnik uwarunkowania $\\text{cond}(A^TA)$ należy wykorzystać wzór $$\\text{cond}(A^TA)=\\text{cond}(A)^2$$"
   ]
  },
  {
   "cell_type": "code",
   "execution_count": 39,
   "id": "77d9316a-5e86-40a4-8ef6-3299ba342e75",
   "metadata": {
    "tags": []
   },
   "outputs": [
    {
     "data": {
      "text/plain": [
       "828804275.0196037"
      ]
     },
     "execution_count": 39,
     "metadata": {},
     "output_type": "execute_result"
    }
   ],
   "source": [
    "cond_lin = np.linalg.cond(A_lin) ** 2\n",
    "cond_lin"
   ]
  },
  {
   "cell_type": "code",
   "execution_count": 40,
   "id": "09cf0bf1-b492-4527-8bb5-e3655f0883f1",
   "metadata": {
    "tags": []
   },
   "outputs": [
    {
     "data": {
      "text/plain": [
       "9.056816679082345e+17"
      ]
     },
     "execution_count": 40,
     "metadata": {},
     "output_type": "execute_result"
    }
   ],
   "source": [
    "cond_quad = np.linalg.cond(A_quad) ** 2\n",
    "cond_quad"
   ]
  },
  {
   "cell_type": "markdown",
   "id": "0387ca85-d6b8-4421-9bd5-140422fd8ada",
   "metadata": {},
   "source": [
    "Dla $A_{lin}$ - $\\text{cond}(A^TA)=828804275.0196037$  \n",
    "Dla $A_{quad}$ - $\\text{cond}(A^TA)=9.056816679082345\\cdot10^{17}$"
   ]
  },
  {
   "cell_type": "markdown",
   "id": "9a0f7414-6fab-42c8-8c31-982e29c3e8b7",
   "metadata": {},
   "source": [
    "# Wnioski"
   ]
  },
  {
   "cell_type": "markdown",
   "id": "0611f9d2-406c-4594-adcb-f2e5670bbf19",
   "metadata": {},
   "source": [
    "Pomimo uzyskania lepszych wyników przez model dla reprezentacji liniowej, w rzeczywistych zastosowaniach medycznych reprezentacja kwadratowa może okazać się lepszym rozwiązaniem. Wynika to z faktu, że fałszywe negatywy mogą stanowić znaczne ryzyko dla zdrowia pacjenta, natomiast fałszywe pozytywy mogą być wykluczone poprzez dokładniejsze badania.  \n",
    "Wyniki są jednakowe niezależnie od sposobu uzyskania wektora wag $w$. Liczba fałszywych wyników pozytywnych oraz fałszywych wyników negatywnych jest identyczna w przypadku użycia `np.linalg.inv()` i `np.linalg.solve()`."
   ]
  }
 ],
 "metadata": {
  "kernelspec": {
   "display_name": "Python 3 (ipykernel)",
   "language": "python",
   "name": "python3"
  },
  "language_info": {
   "codemirror_mode": {
    "name": "ipython",
    "version": 3
   },
   "file_extension": ".py",
   "mimetype": "text/x-python",
   "name": "python",
   "nbconvert_exporter": "python",
   "pygments_lexer": "ipython3",
   "version": "3.11.7"
  }
 },
 "nbformat": 4,
 "nbformat_minor": 5
}
