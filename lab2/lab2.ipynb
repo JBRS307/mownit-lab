{
 "cells": [
  {
   "cell_type": "code",
   "execution_count": 1,
   "id": "448a2137",
   "metadata": {},
   "outputs": [],
   "source": [
    "import pandas as pd\n",
    "import numpy as np\n",
    "import matplotlib.pyplot as plt\n",
    "from sklearn.preprocessing import PolynomialFeatures"
   ]
  },
  {
   "cell_type": "code",
   "execution_count": 2,
   "id": "123a9c91",
   "metadata": {},
   "outputs": [],
   "source": [
    "labels = []\n",
    "with open(\"breast-cancer.labels\") as f:\n",
    "    for line in f:\n",
    "        labels.append(line.replace(\"\\n\",\"\"))"
   ]
  },
  {
   "cell_type": "code",
   "execution_count": 3,
   "id": "ba64c5cf",
   "metadata": {},
   "outputs": [
    {
     "data": {
      "text/html": [
       "<div>\n",
       "<style scoped>\n",
       "    .dataframe tbody tr th:only-of-type {\n",
       "        vertical-align: middle;\n",
       "    }\n",
       "\n",
       "    .dataframe tbody tr th {\n",
       "        vertical-align: top;\n",
       "    }\n",
       "\n",
       "    .dataframe thead th {\n",
       "        text-align: right;\n",
       "    }\n",
       "</style>\n",
       "<table border=\"1\" class=\"dataframe\">\n",
       "  <thead>\n",
       "    <tr style=\"text-align: right;\">\n",
       "      <th></th>\n",
       "      <th>patient ID</th>\n",
       "      <th>Malignant/Benign</th>\n",
       "      <th>radius (mean)</th>\n",
       "      <th>texture (mean)</th>\n",
       "      <th>perimeter (mean)</th>\n",
       "      <th>area (mean)</th>\n",
       "      <th>smoothness (mean)</th>\n",
       "      <th>compactness (mean)</th>\n",
       "      <th>concavity (mean)</th>\n",
       "      <th>concave points (mean)</th>\n",
       "      <th>...</th>\n",
       "      <th>radius (worst)</th>\n",
       "      <th>texture (worst)</th>\n",
       "      <th>perimeter (worst)</th>\n",
       "      <th>area (worst)</th>\n",
       "      <th>smoothness (worst)</th>\n",
       "      <th>compactness (worst)</th>\n",
       "      <th>concavity (worst)</th>\n",
       "      <th>concave points (worst)</th>\n",
       "      <th>symmetry (worst)</th>\n",
       "      <th>fractal dimension (worst)</th>\n",
       "    </tr>\n",
       "  </thead>\n",
       "  <tbody>\n",
       "    <tr>\n",
       "      <th>0</th>\n",
       "      <td>842302</td>\n",
       "      <td>M</td>\n",
       "      <td>17.99</td>\n",
       "      <td>10.38</td>\n",
       "      <td>122.8</td>\n",
       "      <td>1001.0</td>\n",
       "      <td>0.1184</td>\n",
       "      <td>0.2776</td>\n",
       "      <td>0.3001</td>\n",
       "      <td>0.1471</td>\n",
       "      <td>...</td>\n",
       "      <td>25.38</td>\n",
       "      <td>17.33</td>\n",
       "      <td>184.6</td>\n",
       "      <td>2019.0</td>\n",
       "      <td>0.1622</td>\n",
       "      <td>0.6656</td>\n",
       "      <td>0.7119</td>\n",
       "      <td>0.2654</td>\n",
       "      <td>0.4601</td>\n",
       "      <td>0.1189</td>\n",
       "    </tr>\n",
       "  </tbody>\n",
       "</table>\n",
       "<p>1 rows × 32 columns</p>\n",
       "</div>"
      ],
      "text/plain": [
       "   patient ID Malignant/Benign  radius (mean)  texture (mean)  \\\n",
       "0      842302                M          17.99           10.38   \n",
       "\n",
       "   perimeter (mean)  area (mean)  smoothness (mean)  compactness (mean)  \\\n",
       "0             122.8       1001.0             0.1184              0.2776   \n",
       "\n",
       "   concavity (mean)  concave points (mean)  ...  radius (worst)  \\\n",
       "0            0.3001                 0.1471  ...           25.38   \n",
       "\n",
       "   texture (worst)  perimeter (worst)  area (worst)  smoothness (worst)  \\\n",
       "0            17.33              184.6        2019.0              0.1622   \n",
       "\n",
       "   compactness (worst)  concavity (worst)  concave points (worst)  \\\n",
       "0               0.6656             0.7119                  0.2654   \n",
       "\n",
       "   symmetry (worst)  fractal dimension (worst)  \n",
       "0            0.4601                     0.1189  \n",
       "\n",
       "[1 rows x 32 columns]"
      ]
     },
     "execution_count": 3,
     "metadata": {},
     "output_type": "execute_result"
    }
   ],
   "source": [
    "train_data = pd.io.parsers.read_csv(filepath_or_buffer=\"breast-cancer-train.dat\", names=labels)\n",
    "train_data.loc[[0]]"
   ]
  },
  {
   "cell_type": "code",
   "execution_count": 4,
   "id": "dc24efb7",
   "metadata": {},
   "outputs": [
    {
     "data": {
      "text/html": [
       "<div>\n",
       "<style scoped>\n",
       "    .dataframe tbody tr th:only-of-type {\n",
       "        vertical-align: middle;\n",
       "    }\n",
       "\n",
       "    .dataframe tbody tr th {\n",
       "        vertical-align: top;\n",
       "    }\n",
       "\n",
       "    .dataframe thead th {\n",
       "        text-align: right;\n",
       "    }\n",
       "</style>\n",
       "<table border=\"1\" class=\"dataframe\">\n",
       "  <thead>\n",
       "    <tr style=\"text-align: right;\">\n",
       "      <th></th>\n",
       "      <th>patient ID</th>\n",
       "      <th>Malignant/Benign</th>\n",
       "      <th>radius (mean)</th>\n",
       "      <th>texture (mean)</th>\n",
       "      <th>perimeter (mean)</th>\n",
       "      <th>area (mean)</th>\n",
       "      <th>smoothness (mean)</th>\n",
       "      <th>compactness (mean)</th>\n",
       "      <th>concavity (mean)</th>\n",
       "      <th>concave points (mean)</th>\n",
       "      <th>...</th>\n",
       "      <th>radius (worst)</th>\n",
       "      <th>texture (worst)</th>\n",
       "      <th>perimeter (worst)</th>\n",
       "      <th>area (worst)</th>\n",
       "      <th>smoothness (worst)</th>\n",
       "      <th>compactness (worst)</th>\n",
       "      <th>concavity (worst)</th>\n",
       "      <th>concave points (worst)</th>\n",
       "      <th>symmetry (worst)</th>\n",
       "      <th>fractal dimension (worst)</th>\n",
       "    </tr>\n",
       "  </thead>\n",
       "  <tbody>\n",
       "    <tr>\n",
       "      <th>0</th>\n",
       "      <td>892438</td>\n",
       "      <td>M</td>\n",
       "      <td>19.53</td>\n",
       "      <td>18.9</td>\n",
       "      <td>129.5</td>\n",
       "      <td>1217.0</td>\n",
       "      <td>0.115</td>\n",
       "      <td>0.1642</td>\n",
       "      <td>0.2197</td>\n",
       "      <td>0.1062</td>\n",
       "      <td>...</td>\n",
       "      <td>25.93</td>\n",
       "      <td>26.24</td>\n",
       "      <td>171.1</td>\n",
       "      <td>2053.0</td>\n",
       "      <td>0.1495</td>\n",
       "      <td>0.4116</td>\n",
       "      <td>0.6121</td>\n",
       "      <td>0.198</td>\n",
       "      <td>0.2968</td>\n",
       "      <td>0.09929</td>\n",
       "    </tr>\n",
       "  </tbody>\n",
       "</table>\n",
       "<p>1 rows × 32 columns</p>\n",
       "</div>"
      ],
      "text/plain": [
       "   patient ID Malignant/Benign  radius (mean)  texture (mean)  \\\n",
       "0      892438                M          19.53            18.9   \n",
       "\n",
       "   perimeter (mean)  area (mean)  smoothness (mean)  compactness (mean)  \\\n",
       "0             129.5       1217.0              0.115              0.1642   \n",
       "\n",
       "   concavity (mean)  concave points (mean)  ...  radius (worst)  \\\n",
       "0            0.2197                 0.1062  ...           25.93   \n",
       "\n",
       "   texture (worst)  perimeter (worst)  area (worst)  smoothness (worst)  \\\n",
       "0            26.24              171.1        2053.0              0.1495   \n",
       "\n",
       "   compactness (worst)  concavity (worst)  concave points (worst)  \\\n",
       "0               0.4116             0.6121                   0.198   \n",
       "\n",
       "   symmetry (worst)  fractal dimension (worst)  \n",
       "0            0.2968                    0.09929  \n",
       "\n",
       "[1 rows x 32 columns]"
      ]
     },
     "execution_count": 4,
     "metadata": {},
     "output_type": "execute_result"
    }
   ],
   "source": [
    "validate_data = pd.io.parsers.read_csv(filepath_or_buffer=\"breast-cancer-validate.dat\", names=labels)\n",
    "validate_data.loc[[0]]"
   ]
  },
  {
   "cell_type": "code",
   "execution_count": 5,
   "id": "09d2f5a0",
   "metadata": {
    "scrolled": true
   },
   "outputs": [
    {
     "data": {
      "image/png": "[encoded data removed]",
      "text/plain": [
       "<Figure size 640x480 with 1 Axes>"
      ]
     },
     "metadata": {},
     "output_type": "display_data"
    }
   ],
   "source": [
    "plt.title(\"Radius histogram\")\n",
    "plt.xlabel(\"Radius\")\n",
    "plt.ylabel(\"Frequency\")\n",
    "plt.hist(train_data[\"radius (mean)\"], ec=\"black\", alpha=.5)\n",
    "plt.show()"
   ]
  },
  {
   "cell_type": "code",
   "execution_count": 6,
   "id": "dc328d3d",
   "metadata": {},
   "outputs": [
    {
     "name": "stdout",
     "output_type": "stream",
     "text": [
      "radius (mean)\n",
      "perimeter (mean)\n",
      "area (mean)\n",
      "symmetry (mean)\n"
     ]
    }
   ],
   "source": [
    "lin_labels = [\"radius (mean)\", \"perimeter (mean)\", \"area (mean)\", \"symmetry (mean)\"]\n",
    "print(*lin_labels, sep=\"\\n\")"
   ]
  },
  {
   "cell_type": "code",
   "execution_count": 7,
   "id": "ebe1ecee",
   "metadata": {},
   "outputs": [
    {
     "data": {
      "text/plain": [
       "matrix([[1.799e+01, 1.228e+02, 1.001e+03, 2.419e-01],\n",
       "        [2.057e+01, 1.329e+02, 1.326e+03, 1.812e-01],\n",
       "        [1.969e+01, 1.300e+02, 1.203e+03, 2.069e-01],\n",
       "        ...,\n",
       "        [1.176e+01, 7.500e+01, 4.311e+02, 1.619e-01],\n",
       "        [1.426e+01, 9.122e+01, 6.331e+02, 1.635e-01],\n",
       "        [1.051e+01, 6.685e+01, 3.342e+02, 1.695e-01]])"
      ]
     },
     "execution_count": 7,
     "metadata": {},
     "output_type": "execute_result"
    }
   ],
   "source": [
    "train_matrix_lin = np.matrix(train_data[lin_labels])\n",
    "train_matrix_lin"
   ]
  },
  {
   "cell_type": "code",
   "execution_count": 8,
   "id": "b7e4854f",
   "metadata": {},
   "outputs": [],
   "source": [
    "validate_matrix_lin = np.matrix(validate_data[lin_labels])"
   ]
  },
  {
   "cell_type": "code",
   "execution_count": 9,
   "id": "378517e0",
   "metadata": {},
   "outputs": [],
   "source": [
    "quad = PolynomialFeatures(degree=2, include_bias=False)\n",
    "quad.feature_names_in = lin_labels"
   ]
  },
  {
   "cell_type": "code",
   "execution_count": 10,
   "id": "5b082f43",
   "metadata": {},
   "outputs": [],
   "source": [
    "train_matrix_quad = np.matrix(quad.fit_transform(np.asarray(train_matrix_lin)))"
   ]
  },
  {
   "cell_type": "code",
   "execution_count": 11,
   "id": "88ca5189",
   "metadata": {},
   "outputs": [],
   "source": [
    "validate_matrix_quad = np.matrix(quad.fit_transform(np.asarray(validate_matrix_lin)))"
   ]
  },
  {
   "cell_type": "code",
   "execution_count": 12,
   "id": "b58cc14a",
   "metadata": {},
   "outputs": [
    {
     "name": "stdout",
     "output_type": "stream",
     "text": [
      "radius (mean)\n",
      "perimeter (mean)\n",
      "area (mean)\n",
      "symmetry (mean)\n",
      "radius (mean)^2\n",
      "radius (mean) perimeter (mean)\n",
      "radius (mean) area (mean)\n",
      "radius (mean) symmetry (mean)\n",
      "perimeter (mean)^2\n",
      "perimeter (mean) area (mean)\n",
      "perimeter (mean) symmetry (mean)\n",
      "area (mean)^2\n",
      "area (mean) symmetry (mean)\n",
      "symmetry (mean)^2\n"
     ]
    }
   ],
   "source": [
    "quad_labels = quad.get_feature_names_out(lin_labels).tolist()\n",
    "print(*quad_labels, sep=\"\\n\")"
   ]
  },
  {
   "cell_type": "code",
   "execution_count": 13,
   "id": "c6fb904e",
   "metadata": {},
   "outputs": [],
   "source": [
    "b_train = np.where(train_data[\"Malignant/Benign\"] == \"M\", [1], [-1])\n",
    "b_validate = np.where(validate_data[\"Malignant/Benign\"] == \"M\", [1], [-1])"
   ]
  },
  {
   "cell_type": "code",
   "execution_count": 14,
   "id": "2bef6929",
   "metadata": {},
   "outputs": [
    {
     "data": {
      "text/plain": [
       "matrix([[-1.13805949e+00],\n",
       "        [ 1.67513623e-01],\n",
       "        [ 1.64742308e-03],\n",
       "        [-2.61582982e+00]])"
      ]
     },
     "execution_count": 14,
     "metadata": {},
     "output_type": "execute_result"
    }
   ],
   "source": [
    "w_lin = np.matmul(np.matmul(np.linalg.inv(np.matmul(train_matrix_lin.T, train_matrix_lin)), train_matrix_lin.T), np.matrix(b_train).T)\n",
    "w_lin"
   ]
  },
  {
   "cell_type": "code",
   "execution_count": 15,
   "id": "054026ca",
   "metadata": {},
   "outputs": [
    {
     "data": {
      "text/plain": [
       "matrix([[-1.10289314e+00],\n",
       "        [-4.64857667e-02],\n",
       "        [ 2.06239401e-02],\n",
       "        [ 3.39810344e+01],\n",
       "        [-9.00483113e-01],\n",
       "        [ 3.29273060e-01],\n",
       "        [-2.73043991e-03],\n",
       "        [-1.89181327e+01],\n",
       "        [-2.81764869e-02],\n",
       "        [ 2.85829220e-04],\n",
       "        [ 3.21386440e+00],\n",
       "        [ 2.20689632e-06],\n",
       "        [-3.56902645e-02],\n",
       "        [-9.64051177e+01]])"
      ]
     },
     "execution_count": 15,
     "metadata": {},
     "output_type": "execute_result"
    }
   ],
   "source": [
    "w_quad = np.matmul(np.matmul(np.linalg.inv(np.matmul(train_matrix_quad.T, train_matrix_quad)), train_matrix_quad.T), np.matrix(b_train).T)\n",
    "w_quad"
   ]
  },
  {
   "cell_type": "code",
   "execution_count": 16,
   "id": "190ba2f0",
   "metadata": {},
   "outputs": [
    {
     "data": {
      "text/plain": [
       "828804275.0196037"
      ]
     },
     "execution_count": 16,
     "metadata": {},
     "output_type": "execute_result"
    }
   ],
   "source": [
    "cond_lin = np.linalg.cond(train_matrix_lin) ** 2\n",
    "cond_lin"
   ]
  },
  {
   "cell_type": "code",
   "execution_count": 17,
   "id": "7ea9c8bf",
   "metadata": {},
   "outputs": [
    {
     "data": {
      "text/plain": [
       "9.056816679082345e+17"
      ]
     },
     "execution_count": 17,
     "metadata": {},
     "output_type": "execute_result"
    }
   ],
   "source": [
    "cond_quad = np.linalg.cond(train_matrix_quad) ** 2\n",
    "cond_quad"
   ]
  },
  {
   "cell_type": "code",
   "execution_count": 18,
   "id": "e1509a80",
   "metadata": {},
   "outputs": [
    {
     "data": {
      "text/plain": [
       "array([ 1., -1.,  1., -1., -1., -1., -1., -1., -1., -1., -1., -1., -1.,\n",
       "       -1., -1., -1., -1.,  1., -1., -1., -1.,  1., -1.,  1., -1., -1.,\n",
       "       -1., -1.,  1.,  1.,  1., -1., -1., -1., -1.,  1., -1.,  1., -1.,\n",
       "        1., -1., -1., -1.,  1., -1., -1., -1., -1., -1., -1., -1.,  1.,\n",
       "        1.,  1., -1., -1., -1., -1., -1., -1., -1., -1., -1.,  1., -1.,\n",
       "        1.,  1., -1.,  1.,  1.,  1., -1.,  1.,  1., -1.,  1., -1., -1.,\n",
       "       -1., -1., -1., -1., -1., -1., -1., -1., -1., -1., -1.,  1., -1.,\n",
       "       -1.,  1.,  1., -1., -1., -1., -1., -1., -1.,  1., -1., -1., -1.,\n",
       "       -1., -1., -1., -1.,  1., -1., -1., -1., -1., -1., -1., -1., -1.,\n",
       "        1., -1., -1., -1.,  1., -1., -1., -1., -1., -1., -1., -1., -1.,\n",
       "        1., -1.,  1.,  1., -1., -1., -1., -1., -1., -1., -1.,  1., -1.,\n",
       "       -1.,  1., -1.,  1., -1., -1.,  1., -1.,  1., -1., -1., -1., -1.,\n",
       "       -1., -1., -1., -1.,  1.,  1., -1., -1., -1., -1., -1., -1.,  1.,\n",
       "       -1., -1., -1., -1., -1., -1., -1., -1., -1., -1.,  1., -1., -1.,\n",
       "       -1., -1.,  1., -1., -1.,  1., -1., -1., -1.,  1.,  1., -1., -1.,\n",
       "       -1., -1., -1.,  1.,  1.,  1.,  1., -1.,  1., -1., -1., -1., -1.,\n",
       "       -1.,  1., -1., -1., -1., -1., -1., -1.,  1.,  1., -1., -1., -1.,\n",
       "        1., -1., -1., -1., -1., -1., -1., -1., -1., -1., -1., -1.,  1.,\n",
       "       -1.,  1.,  1., -1., -1., -1., -1.,  1., -1., -1., -1., -1., -1.,\n",
       "       -1., -1., -1., -1., -1., -1., -1., -1., -1., -1., -1.,  1., -1.])"
      ]
     },
     "execution_count": 18,
     "metadata": {},
     "output_type": "execute_result"
    }
   ],
   "source": [
    "lin_test_vec = np.array(np.sign(np.matmul(validate_matrix_lin, w_lin).T))[0]\n",
    "lin_test_vec"
   ]
  },
  {
   "cell_type": "code",
   "execution_count": 19,
   "id": "91cb8309",
   "metadata": {},
   "outputs": [
    {
     "data": {
      "text/plain": [
       "array([ 1., -1.,  1., -1., -1., -1., -1., -1., -1., -1., -1., -1., -1.,\n",
       "       -1., -1., -1., -1.,  1., -1., -1., -1.,  1., -1.,  1., -1., -1.,\n",
       "       -1., -1.,  1.,  1.,  1., -1., -1., -1., -1.,  1., -1.,  1., -1.,\n",
       "        1.,  1., -1., -1.,  1., -1., -1., -1., -1., -1., -1., -1.,  1.,\n",
       "        1.,  1., -1., -1., -1., -1., -1., -1., -1., -1., -1.,  1., -1.,\n",
       "        1.,  1., -1.,  1.,  1.,  1., -1.,  1.,  1., -1.,  1., -1., -1.,\n",
       "       -1., -1., -1., -1., -1., -1., -1., -1., -1., -1., -1.,  1., -1.,\n",
       "       -1.,  1.,  1., -1., -1., -1., -1., -1., -1.,  1., -1., -1., -1.,\n",
       "       -1., -1.,  1., -1.,  1., -1., -1., -1., -1.,  1., -1., -1., -1.,\n",
       "        1., -1., -1., -1.,  1., -1.,  1., -1., -1., -1., -1., -1., -1.,\n",
       "        1., -1.,  1.,  1., -1., -1., -1., -1., -1., -1., -1.,  1., -1.,\n",
       "       -1.,  1., -1.,  1.,  1., -1.,  1., -1.,  1., -1., -1., -1., -1.,\n",
       "       -1., -1., -1., -1.,  1.,  1., -1., -1., -1., -1., -1., -1.,  1.,\n",
       "       -1., -1., -1.,  1., -1., -1., -1., -1., -1., -1.,  1., -1., -1.,\n",
       "       -1., -1.,  1.,  1., -1.,  1., -1.,  1., -1.,  1.,  1., -1., -1.,\n",
       "       -1., -1., -1.,  1.,  1.,  1.,  1., -1.,  1., -1., -1., -1., -1.,\n",
       "        1.,  1., -1., -1.,  1., -1., -1., -1.,  1.,  1., -1., -1., -1.,\n",
       "        1., -1., -1., -1., -1., -1., -1., -1., -1., -1., -1., -1.,  1.,\n",
       "       -1.,  1.,  1., -1., -1., -1., -1.,  1., -1., -1., -1., -1., -1.,\n",
       "       -1., -1., -1., -1., -1., -1., -1., -1., -1., -1., -1., -1., -1.])"
      ]
     },
     "execution_count": 19,
     "metadata": {},
     "output_type": "execute_result"
    }
   ],
   "source": [
    "quad_test_vec = np.array(np.sign(np.matmul(validate_matrix_quad, w_quad).T))[0]\n",
    "quad_test_vec"
   ]
  },
  {
   "cell_type": "code",
   "execution_count": 20,
   "id": "4a892948",
   "metadata": {},
   "outputs": [
    {
     "data": {
      "text/plain": [
       "245"
      ]
     },
     "execution_count": 20,
     "metadata": {},
     "output_type": "execute_result"
    }
   ],
   "source": [
    "lin_correct = len(np.asarray(np.sign(lin_test_vec) == np.sign(b_validate)).nonzero()[0])\n",
    "lin_correct"
   ]
  },
  {
   "cell_type": "code",
   "execution_count": 21,
   "id": "366ce4ba-c0db-41ba-a21d-f7374a102eae",
   "metadata": {},
   "outputs": [
    {
     "name": "stdout",
     "output_type": "stream",
     "text": [
      "Linear:\n",
      "False positive: 8\n",
      "False negative: 7\n"
     ]
    }
   ],
   "source": [
    "lin_false_positive = len(np.asarray(lin_test_vec > b_validate).nonzero()[0])\n",
    "lin_false_negative = len(np.asarray(lin_test_vec < b_validate).nonzero()[0])\n",
    "print(\"Linear:\")\n",
    "print(\"False positive:\", lin_false_positive)\n",
    "print(\"False negative:\", lin_false_negative)"
   ]
  },
  {
   "cell_type": "code",
   "execution_count": 22,
   "id": "543a80d4",
   "metadata": {},
   "outputs": [
    {
     "data": {
      "text/plain": [
       "240"
      ]
     },
     "execution_count": 22,
     "metadata": {},
     "output_type": "execute_result"
    }
   ],
   "source": [
    "quad_correct = len(np.asarray(np.sign(quad_test_vec) == np.sign(b_validate)).nonzero()[0])\n",
    "quad_correct"
   ]
  },
  {
   "cell_type": "code",
   "execution_count": 23,
   "id": "58df0187",
   "metadata": {},
   "outputs": [
    {
     "name": "stdout",
     "output_type": "stream",
     "text": [
      "Quadratic:\n",
      "False positive: 15\n",
      "False negative: 5\n"
     ]
    }
   ],
   "source": [
    "quad_false_positive = len(np.asarray(quad_test_vec > b_validate).nonzero()[0])\n",
    "quad_false_negative = len(np.asarray(quad_test_vec < b_validate).nonzero()[0])\n",
    "print(\"Quadratic:\")\n",
    "print(\"False positive:\", quad_false_positive)\n",
    "print(\"False negative:\", quad_false_negative)"
   ]
  },
  {
   "cell_type": "code",
   "execution_count": null,
   "id": "455bfa29-d067-4385-a729-6cb02ce06ded",
   "metadata": {},
   "outputs": [],
   "source": []
  }
 ],
 "metadata": {
  "kernelspec": {
   "display_name": "Python 3 (ipykernel)",
   "language": "python",
   "name": "python3"
  },
  "language_info": {
   "codemirror_mode": {
    "name": "ipython",
    "version": 3
   },
   "file_extension": ".py",
   "mimetype": "text/x-python",
   "name": "python",
   "nbconvert_exporter": "python",
   "pygments_lexer": "ipython3",
   "version": "3.11.7"
  }
 },
 "nbformat": 4,
 "nbformat_minor": 5
}
