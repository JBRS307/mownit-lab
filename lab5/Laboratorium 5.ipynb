{
 "cells": [
  {
   "cell_type": "markdown",
   "id": "ee962413-5b2e-41d5-a432-46ebc59d37d3",
   "metadata": {},
   "source": [
    "# Zadanie 1"
   ]
  },
  {
   "cell_type": "markdown",
   "id": "1d74ad70-480b-418e-903b-05f4ec2cbc7f",
   "metadata": {},
   "source": [
    "Zadanie polega na znalezieniu wielomianu aproksymacyjnego dla populacji USA w latach 1900 - 1980 na podstawie 9 punktków (populacja co 10 lat) dla $n=1,...,6$, gdzie $n$ to stopień wielomianu. Wielomian należy ekstrapolować na rok 1990 oraz porównać błędy względne od wartości prawdziwej dla każdego $n$"
   ]
  },
  {
   "cell_type": "markdown",
   "id": "8083ad8b-26f2-48fd-b4f5-ee6d81e09031",
   "metadata": {},
   "source": [
    "## Biblioteki"
   ]
  },
  {
   "cell_type": "code",
   "execution_count": 1,
   "id": "bea97b11-8024-4345-a7bf-a7484034c0ac",
   "metadata": {},
   "outputs": [],
   "source": [
    "import pandas as pd\n",
    "import numpy as np\n",
    "import matplotlib.pyplot as plt\n",
    "from numpy.polynomial.polynomial import Polynomial"
   ]
  },
  {
   "cell_type": "markdown",
   "id": "65dff94c-297c-4001-bb63-6b1b9d913e9f",
   "metadata": {},
   "source": [
    "- `pandas` - biblioteka do przetwarzania danych\n",
    "- `numpy` - biblioteka do obliczeń algebraicznych\n",
    "- `matplotlib.pyplot` - biblioteka do rysowania wykresów\n",
    "- klasa `Polynomial` z biblioteki `numpy` słuząca do ewaluacji wielomianów"
   ]
  },
  {
   "cell_type": "markdown",
   "id": "a438ee84-f2b0-4be7-979d-56284d71a903",
   "metadata": {},
   "source": [
    "## Funkcje i dane"
   ]
  },
  {
   "cell_type": "code",
   "execution_count": 2,
   "id": "054371f5-9015-43d7-8e37-693c8aa6d825",
   "metadata": {},
   "outputs": [],
   "source": [
    "def build_matrix(m, n, xs):\n",
    "    n += 1\n",
    "    matrix = np.zeros(shape=(m, n))\n",
    "    for i in range(m):\n",
    "        for j in range(n):\n",
    "            matrix[i][j] = xs[i]**j\n",
    "    return matrix"
   ]
  },
  {
   "cell_type": "markdown",
   "id": "1db21142-69aa-4a74-9a4f-b50be8a6f090",
   "metadata": {},
   "source": [
    "- `build_matrix` - funkcja służąca do zbudowania macierzy $m{\\times}n$ do aproksymacji"
   ]
  },
  {
   "cell_type": "code",
   "execution_count": 3,
   "id": "d1099b52-6e01-4acc-9d08-9694ae0b877d",
   "metadata": {
    "tags": []
   },
   "outputs": [
    {
     "data": {
      "text/html": [
       "<div>\n",
       "<style scoped>\n",
       "    .dataframe tbody tr th:only-of-type {\n",
       "        vertical-align: middle;\n",
       "    }\n",
       "\n",
       "    .dataframe tbody tr th {\n",
       "        vertical-align: top;\n",
       "    }\n",
       "\n",
       "    .dataframe thead th {\n",
       "        text-align: right;\n",
       "    }\n",
       "</style>\n",
       "<table border=\"1\" class=\"dataframe\">\n",
       "  <thead>\n",
       "    <tr style=\"text-align: right;\">\n",
       "      <th></th>\n",
       "      <th>year</th>\n",
       "      <th>population</th>\n",
       "    </tr>\n",
       "  </thead>\n",
       "  <tbody>\n",
       "    <tr>\n",
       "      <th>0</th>\n",
       "      <td>1900</td>\n",
       "      <td>76212168</td>\n",
       "    </tr>\n",
       "    <tr>\n",
       "      <th>1</th>\n",
       "      <td>1910</td>\n",
       "      <td>92228496</td>\n",
       "    </tr>\n",
       "    <tr>\n",
       "      <th>2</th>\n",
       "      <td>1920</td>\n",
       "      <td>106021537</td>\n",
       "    </tr>\n",
       "    <tr>\n",
       "      <th>3</th>\n",
       "      <td>1930</td>\n",
       "      <td>123202624</td>\n",
       "    </tr>\n",
       "    <tr>\n",
       "      <th>4</th>\n",
       "      <td>1940</td>\n",
       "      <td>132164569</td>\n",
       "    </tr>\n",
       "    <tr>\n",
       "      <th>5</th>\n",
       "      <td>1950</td>\n",
       "      <td>151325798</td>\n",
       "    </tr>\n",
       "    <tr>\n",
       "      <th>6</th>\n",
       "      <td>1960</td>\n",
       "      <td>179323175</td>\n",
       "    </tr>\n",
       "    <tr>\n",
       "      <th>7</th>\n",
       "      <td>1970</td>\n",
       "      <td>203302031</td>\n",
       "    </tr>\n",
       "    <tr>\n",
       "      <th>8</th>\n",
       "      <td>1980</td>\n",
       "      <td>226542199</td>\n",
       "    </tr>\n",
       "  </tbody>\n",
       "</table>\n",
       "</div>"
      ],
      "text/plain": [
       "   year  population\n",
       "0  1900    76212168\n",
       "1  1910    92228496\n",
       "2  1920   106021537\n",
       "3  1930   123202624\n",
       "4  1940   132164569\n",
       "5  1950   151325798\n",
       "6  1960   179323175\n",
       "7  1970   203302031\n",
       "8  1980   226542199"
      ]
     },
     "execution_count": 3,
     "metadata": {},
     "output_type": "execute_result"
    }
   ],
   "source": [
    "population_1990 = 248_709_973\n",
    "data = np.array([[1900, 76_212_168],\n",
    "                 [1910, 92_228_496],\n",
    "                 [1920, 106_021_537],\n",
    "                 [1930, 123_202_624],\n",
    "                 [1940, 132_164_569],\n",
    "                 [1950, 151_325_798],\n",
    "                 [1960, 179_323_175],\n",
    "                 [1970, 203_302_031],\n",
    "                 [1980, 226_542_199]\n",
    "                ], dtype=np.int64)\n",
    "df = pd.DataFrame(data, columns=[\"year\",\"population\"])\n",
    "df"
   ]
  },
  {
   "cell_type": "markdown",
   "id": "f8d5d022-35d9-4bbf-987a-59539b277d0f",
   "metadata": {},
   "source": [
    "**Tab. 1** - populacja USA w latach 1900 - 1980"
   ]
  },
  {
   "cell_type": "code",
   "execution_count": 4,
   "id": "49045a6d-0730-4941-846d-6051d7a954b0",
   "metadata": {
    "tags": []
   },
   "outputs": [
    {
     "data": {
      "image/png": "[encoded data removed]",
      "text/plain": [
       "<Figure size 640x480 with 1 Axes>"
      ]
     },
     "metadata": {},
     "output_type": "display_data"
    }
   ],
   "source": [
    "plt.xlabel(\"Year\") \n",
    "plt.ylabel(\"Population\")\n",
    "plt.scatter(df[\"year\"], df[\"population\"], color =\"green\")\n",
    "plt.show()"
   ]
  },
  {
   "cell_type": "markdown",
   "id": "6eb5647b-9ed0-4194-9a32-b3c2236278c8",
   "metadata": {},
   "source": [
    "**Wyk. 1** - populacja USA w latach 1900 - 1980"
   ]
  },
  {
   "cell_type": "markdown",
   "id": "f7bd02bf-bbdf-4361-8deb-57a729c36d2c",
   "metadata": {},
   "source": [
    "## Aproksymacja"
   ]
  },
  {
   "cell_type": "code",
   "execution_count": 5,
   "id": "324605ff-850d-4b10-955c-3baed01a753e",
   "metadata": {
    "tags": []
   },
   "outputs": [],
   "source": [
    "years = np.array(df[\"year\"])\n",
    "population = np.array(df[\"population\"])\n",
    "y = population.T\n",
    "m = len(years)"
   ]
  },
  {
   "cell_type": "code",
   "execution_count": 6,
   "id": "4459fd19-a22e-471f-a1d4-b325a877aa15",
   "metadata": {},
   "outputs": [],
   "source": [
    "errors = []\n",
    "sum_of_error_squares = []\n",
    "for n in range(7):\n",
    "    A = build_matrix(m, n, years)\n",
    "    left = np.matmul(A.T, A)\n",
    "    right = np.matmul(A.T, y)\n",
    "    c = np.linalg.solve(left, right).T\n",
    "    p = Polynomial(c)\n",
    "    relative_error = round((abs(population_1990 - p(1990))/population_1990) * 100, 2)\n",
    "    sum_of_error_squares.append(sum((population - p(years))**2))\n",
    "    errors.append(relative_error)"
   ]
  },
  {
   "cell_type": "markdown",
   "id": "6b61317f-9bc6-4fda-8351-0b4905262e92",
   "metadata": {},
   "source": [
    "Wyliczenie wielomianu aproksymacjnego dla kazdego $n$ ze wzoru $A^TAc=A^Ty$ gdzie:"
   ]
  },
  {
   "cell_type": "markdown",
   "id": "afbfdd3b-283b-4a10-9780-48baaa837b42",
   "metadata": {},
   "source": [
    " - $A$ to macierz $m{\\times}n$ postaci $a_{ij}=x_i^j$, $i=0,...,m$, $j=0,...,n$\n",
    " - $y$ to wartości populacji w latach $m=1900,1910,...,1980$\n",
    " - $c$ to szukana macierz współczynników wielomianu aproksymacyjnego, który ma postać $\\sum_{j=0}^{n}c_jx^j$"
   ]
  },
  {
   "cell_type": "markdown",
   "id": "a43815c0-ab3b-4ee3-a083-d027aaab8a68",
   "metadata": {},
   "source": [
    "Dodatkowe wektory przechowujące dane:"
   ]
  },
  {
   "cell_type": "markdown",
   "id": "2b539e66-9dcc-4d6d-bd64-7456de105333",
   "metadata": {},
   "source": [
    "- `errors` - tablica przechowująca relatywne błędy ekstrapolacji wielomianów na rok 1990 dla każdego $n$\n",
    "- `sum_of_error_squares` - tablica przechowująca sumę kwadratów błędów dla punktów $m=1900,1910,...,1980$ dla każdego $n$. Sumy te posłużą do wyliczenia $\\text{AICc}$"
   ]
  },
  {
   "cell_type": "code",
   "execution_count": 7,
   "id": "2ef9abc0-791a-48aa-8cbf-2d666c2d16a5",
   "metadata": {
    "tags": []
   },
   "outputs": [
    {
     "data": {
      "image/png": "[encoded data removed]",
      "text/plain": [
       "<Figure size 640x480 with 1 Axes>"
      ]
     },
     "metadata": {},
     "output_type": "display_data"
    }
   ],
   "source": [
    "plt.scatter(range(7), errors, color=\"green\")\n",
    "plt.xlabel(\"Degree of polynomial\")\n",
    "plt.ylabel(\"Relative error for year 1990 [%]\")\n",
    "plt.yscale(\"log\")\n",
    "plt.show()"
   ]
  },
  {
   "cell_type": "markdown",
   "id": "73c7f139-d421-4d75-ad30-f26ec47c4fac",
   "metadata": {},
   "source": [
    "**Wyk. 2** - błąd względny aproksymacji dla roku 1990 w zależności od stopnia wielomianu"
   ]
  },
  {
   "cell_type": "code",
   "execution_count": 8,
   "id": "4d26f161-8032-4ec9-9a67-00c9f3622424",
   "metadata": {
    "tags": []
   },
   "outputs": [
    {
     "data": {
      "image/png": "[encoded data removed]",
      "text/plain": [
       "<Figure size 640x480 with 1 Axes>"
      ]
     },
     "metadata": {},
     "output_type": "display_data"
    }
   ],
   "source": [
    "plt.scatter(range(6), errors[:-1], color=\"green\")\n",
    "plt.xlabel(\"Degree of polynomial\")\n",
    "plt.ylabel(\"Relative error for year 1990 [%]\")\n",
    "plt.show()"
   ]
  },
  {
   "cell_type": "markdown",
   "id": "f741425e-4901-4ab2-81b5-28b10dd8cd9d",
   "metadata": {},
   "source": [
    "**Wyk. 3** - błąd względny aproksymacji dla roku 1990 w zależności od stopnia wielomianu dla $n=1,...,5$"
   ]
  },
  {
   "cell_type": "code",
   "execution_count": 9,
   "id": "91fc8bb4-25bd-4851-b1b1-b7c871938a84",
   "metadata": {
    "tags": []
   },
   "outputs": [
    {
     "name": "stdout",
     "output_type": "stream",
     "text": [
      "Smallest relative error: 2.41% for polynomial of degree 2\n"
     ]
    }
   ],
   "source": [
    "smallest_error = min(errors)\n",
    "best_degree = errors.index(smallest_error)\n",
    "print(f\"Smallest relative error: {smallest_error}% for polynomial of degree {best_degree}\")"
   ]
  },
  {
   "cell_type": "markdown",
   "id": "f68c1a63-aaf5-4858-ba91-e656c59da341",
   "metadata": {},
   "source": [
    "Najmniejszy błąd względny wynosi $2.41\\%$ dla $n=2$"
   ]
  },
  {
   "cell_type": "code",
   "execution_count": 10,
   "id": "86393e77-5ab2-45e9-a200-fa976a2aabdc",
   "metadata": {
    "tags": []
   },
   "outputs": [],
   "source": [
    "A = build_matrix(m, 2, years)\n",
    "left = np.matmul(A.T, A)\n",
    "right = np.matmul(A.T, y)\n",
    "c = np.linalg.solve(left, right).T\n",
    "p = Polynomial(c)\n",
    "annual_points = np.arange(start=1900, stop=1991, step=1)\n",
    "population_approx = p(annual_points)"
   ]
  },
  {
   "cell_type": "code",
   "execution_count": 11,
   "id": "629f5c20-a8c8-415b-9a24-f222624dc8e0",
   "metadata": {
    "tags": []
   },
   "outputs": [
    {
     "data": {
      "image/png": "[encoded data removed]",
      "text/plain": [
       "<Figure size 640x480 with 1 Axes>"
      ]
     },
     "metadata": {},
     "output_type": "display_data"
    }
   ],
   "source": [
    "plt.plot(annual_points, population_approx)\n",
    "plt.scatter(years, population, color=\"green\", zorder=2)\n",
    "plt.xlabel(\"Year\")\n",
    "plt.ylabel(\"Population\")\n",
    "plt.show()"
   ]
  },
  {
   "cell_type": "markdown",
   "id": "23181495-e391-4424-97b6-fe0a2f11c0fd",
   "metadata": {},
   "source": [
    "**Wyk. 4** - wykres wielomianu aproksymacyjnego drugiego stopnia"
   ]
  },
  {
   "cell_type": "code",
   "execution_count": 12,
   "id": "f836a48f-c47f-4ecf-9d3b-3e5ce52f0180",
   "metadata": {},
   "outputs": [
    {
     "data": {
      "text/html": [
       "<div>\n",
       "<style scoped>\n",
       "    .dataframe tbody tr th:only-of-type {\n",
       "        vertical-align: middle;\n",
       "    }\n",
       "\n",
       "    .dataframe tbody tr th {\n",
       "        vertical-align: top;\n",
       "    }\n",
       "\n",
       "    .dataframe thead th {\n",
       "        text-align: right;\n",
       "    }\n",
       "</style>\n",
       "<table border=\"1\" class=\"dataframe\">\n",
       "  <thead>\n",
       "    <tr style=\"text-align: right;\">\n",
       "      <th></th>\n",
       "      <th>AICc</th>\n",
       "    </tr>\n",
       "  </thead>\n",
       "  <tbody>\n",
       "    <tr>\n",
       "      <th>0</th>\n",
       "      <td>321.010975</td>\n",
       "    </tr>\n",
       "    <tr>\n",
       "      <th>1</th>\n",
       "      <td>289.056478</td>\n",
       "    </tr>\n",
       "    <tr>\n",
       "      <th>2</th>\n",
       "      <td>279.453374</td>\n",
       "    </tr>\n",
       "    <tr>\n",
       "      <th>3</th>\n",
       "      <td>284.880402</td>\n",
       "    </tr>\n",
       "    <tr>\n",
       "      <th>4</th>\n",
       "      <td>296.259105</td>\n",
       "    </tr>\n",
       "    <tr>\n",
       "      <th>5</th>\n",
       "      <td>327.750166</td>\n",
       "    </tr>\n",
       "    <tr>\n",
       "      <th>6</th>\n",
       "      <td>687.137418</td>\n",
       "    </tr>\n",
       "  </tbody>\n",
       "</table>\n",
       "</div>"
      ],
      "text/plain": [
       "         AICc\n",
       "0  321.010975\n",
       "1  289.056478\n",
       "2  279.453374\n",
       "3  284.880402\n",
       "4  296.259105\n",
       "5  327.750166\n",
       "6  687.137418"
      ]
     },
     "execution_count": 12,
     "metadata": {},
     "output_type": "execute_result"
    }
   ],
   "source": [
    "akaikes = []\n",
    "for n in range(7):\n",
    "    k = n+1\n",
    "    AIC = 2*k + m * np.log(sum_of_error_squares[n]/m)\n",
    "    AICc = AIC + (2*k*(k+1))/(m-k-1)\n",
    "    akaikes.append(AICc)\n",
    "df_akaike = pd.DataFrame(akaikes, columns=[\"AICc\"])\n",
    "df_akaike"
   ]
  },
  {
   "cell_type": "markdown",
   "id": "aabe3891-e62f-41d0-9d5a-98cf83b2d420",
   "metadata": {},
   "source": [
    "**Tab. 2** - $\\text{AICc}$ dla różnych stopni wielomianu aproksymacyjnego"
   ]
  },
  {
   "cell_type": "markdown",
   "id": "94adb606-4ca5-4ff2-bfff-51d517bc6c53",
   "metadata": {},
   "source": [
    "$\\text{AIC}$ to kryterium informacyjne Akaikego wyliczane ze wzoru $\\text{AIC}=2k+m\\ln\\left(\\frac{\\sum_{i=0}^{m-1}\\left[y_i-\\hat{y}(x_i)\\right]^2}{m}\\right)$, gdzie"
   ]
  },
  {
   "cell_type": "markdown",
   "id": "308e7081-8053-48e0-8740-0535b2118349",
   "metadata": {},
   "source": [
    "- $k$ to liczba parametrów modelu, która dla wielomianów aproksymacyjnych jest jest równa $n+1$, gdzie $n$ to stopień wielomianu\n",
    "- $m$ to liczba punktów"
   ]
  },
  {
   "cell_type": "markdown",
   "id": "7194dbec-ebc8-4a0d-81a7-6f14ecf72986",
   "metadata": {},
   "source": [
    "Liczba punktów jest mała, $\\frac{m}{k}<40$, zatem do obliczeń należy dodać składnik korygujący $\\text{AICc}=\\text{AIC}+\\frac{2k(k+1)}{n-k-1}$  \n",
    "Im mniejszy $\\text{AICc}$ tym lepszy model. Warto dodać, że $\\text{AIC}$ może służyć jedynie do porównywania jakości różnych modeli dla danego problemu, nie można go wykorzystywać do bezwzględnej oceny jakości modeli."
   ]
  },
  {
   "cell_type": "code",
   "execution_count": 13,
   "id": "ce9ef6f4-9d39-44c9-afb5-a34e2031e89c",
   "metadata": {
    "tags": []
   },
   "outputs": [
    {
     "name": "stdout",
     "output_type": "stream",
     "text": [
      "Best AICc is 279.453, for polynomial of degree 2\n"
     ]
    }
   ],
   "source": [
    "best_AICc = min(akaikes)\n",
    "best_degree = akaikes.index(best_AICc)\n",
    "print(f\"Best AICc is %.3f, for polynomial of degree {best_degree}\" % best_AICc)"
   ]
  },
  {
   "cell_type": "markdown",
   "id": "7c736e90-7b36-4332-860c-64748e64d712",
   "metadata": {},
   "source": [
    "Najlepsze $\\text{AICc}$ wynosi $279.453$ dla $n=2$"
   ]
  },
  {
   "cell_type": "markdown",
   "id": "44ab9455-9e6a-46e3-8816-69ecff41c33e",
   "metadata": {},
   "source": [
    "## Wnioski"
   ]
  },
  {
   "cell_type": "markdown",
   "id": "16ec47bd-0bb5-44d8-8a20-4c2668c5ce77",
   "metadata": {},
   "source": [
    "Zarówno błąd względny ekstrapolacji do roku 1990 jak i $\\text{AICc}$ wykazały, że najlepszym wielomianem aproksymującym dane jest wielomian stopnia $n=2$. Wielomian ten jest w stanie oddać zmiennośc danych, ale jednocześnie ma wystarczająco niski stopień aby zredukować szum oraz błędy w danych."
   ]
  },
  {
   "cell_type": "markdown",
   "id": "0aab5564-596b-47a7-b2e4-07d0287ecf3f",
   "metadata": {},
   "source": [
    "# Zadanie 2"
   ]
  },
  {
   "cell_type": "markdown",
   "id": "6e70cb2f-d8f7-4063-aa2c-b9a4b98a226b",
   "metadata": {},
   "source": [
    "## Biblioteki"
   ]
  },
  {
   "cell_type": "code",
   "execution_count": 14,
   "id": "46d1ee39-771a-42e8-81e8-86c5b395bc3e",
   "metadata": {},
   "outputs": [],
   "source": [
    "import scipy.integrate as spi\n",
    "import scipy.special as sps\n",
    "from numpy.polynomial.chebyshev import Chebyshev"
   ]
  },
  {
   "cell_type": "markdown",
   "id": "1f9d4a73-8f54-49aa-8365-cd76ddd1a60c",
   "metadata": {},
   "source": [
    "Poza bibliotekami wykorzystanymi w zadaniu 1 dodatkowo użyte zostały:"
   ]
  },
  {
   "cell_type": "markdown",
   "id": "ecb4b87e-cfa0-49fa-b781-14e757babc5d",
   "metadata": {},
   "source": [
    "- `scipy.integrate` - funkcja `quad` z tej biblioteki została użyta do policzenia całek\n",
    "- `scipy.special` - funkcja `chebyt` została użyta to wyznaczenia kolejnych wielomianów Czebyszewa\n",
    "- klasa `Chebyshev` z biblioteki `numpy` służąca do ewaluacji szerego Czebyszewa (sumy kolejnych wielomianów)"
   ]
  },
  {
   "cell_type": "markdown",
   "id": "1be79fe1-94d7-4a3a-a05f-ae15c4630521",
   "metadata": {},
   "source": [
    "## Funkcje"
   ]
  },
  {
   "cell_type": "code",
   "execution_count": 15,
   "id": "7f0c7bb5-037d-4c0b-bda8-6f0dc98af54f",
   "metadata": {},
   "outputs": [],
   "source": [
    "def f(x):\n",
    "    return np.sqrt(x)\n",
    "\n",
    "def w(t):\n",
    "    if t*t == 1:\n",
    "        return 0\n",
    "    return (1 - t*t)**(-1/2)\n",
    "def t(x):\n",
    "    return x-1"
   ]
  },
  {
   "cell_type": "markdown",
   "id": "7786a9a9-85c7-4cf7-8f18-db90f52f6b58",
   "metadata": {},
   "source": [
    "- `f` - $f(x)=\\sqrt{x}$ - funkcja aproksymowana\n",
    "- `w` - $w(t)=(1-t^2)^{-\\frac{1}{2}}$ - funkcja wagi dla wyliczania wielomianów ortogonalnych\n",
    "- `t` - $t(x)=x-1$ - funkcja transformująca punkty z przedziału $[0,2]$ do przedziału $[-1,1]$"
   ]
  },
  {
   "cell_type": "markdown",
   "id": "98e5c7cb-85c5-48be-a900-1df07f65f58d",
   "metadata": {},
   "source": [
    "## Aproksymacja"
   ]
  },
  {
   "cell_type": "markdown",
   "id": "379cec6c-86fc-4a39-bf96-0d8f4e6df918",
   "metadata": {},
   "source": [
    "Funkcja $f$ będzie aproksymowana za pomocą wielomianu $p$ 2-go stopnia."
   ]
  },
  {
   "cell_type": "code",
   "execution_count": 16,
   "id": "dc307f2f-1032-4e7b-aad6-d81018775c99",
   "metadata": {},
   "outputs": [],
   "source": [
    "c = []\n",
    "for i in range(3):\n",
    "    cb = sps.chebyt(i)\n",
    "    f1 = lambda x: cb(t(x))*w(t(x))*f(x)\n",
    "    numerator = spi.quad(f1, 0, 2)[0]\n",
    "    denominator = np.pi if i == 0 else np.pi/2\n",
    "    c.append(numerator/denominator)"
   ]
  },
  {
   "cell_type": "markdown",
   "id": "71b4bec8-ac17-464e-b0b2-e382daa51d22",
   "metadata": {},
   "source": [
    "Współczynniki $c_i$ można wyliczyć ze wzoru\n",
    "$$c_k=\\frac{\\left<f,T_k\\right>}{\\left<T_k,T_k\\right>}$$\n",
    "Gdzie $T_k$ to wielomian Czebyszewa $k$-tego stopnia, dodatkowo\n",
    "$$\\left<f,g\\right>=\\int_{a}^{b}w(x)f(x)g(x)dx$$\n",
    "gdzie $w(x)$ to funkcja wagi."
   ]
  },
  {
   "cell_type": "markdown",
   "id": "898c0be4-7f30-40e2-aed9-2b480bf7b6e5",
   "metadata": {},
   "source": [
    "W celu uproszczenia obliczeń można skorzystać z zależności\n",
    "$$ \\left<T_k,T_k\\right>=\\left\\{\n",
    "\\begin{array}{ll}\n",
    "\\pi & k=0\\\\\n",
    "\\frac{\\pi}{2} & k>0\\\\\n",
    "\\end{array} \n",
    "\\right.  $$\n"
   ]
  },
  {
   "cell_type": "code",
   "execution_count": 17,
   "id": "26fcd8b7-bcb1-4de4-88a5-b0c7d7d7ca4d",
   "metadata": {},
   "outputs": [],
   "source": [
    "p = Chebyshev(c, domain=(0,2))\n",
    "xs = np.arange(start=0, stop=2.01, step=0.01)\n",
    "ys = f(xs)\n",
    "ys_approx = p(xs)"
   ]
  },
  {
   "cell_type": "markdown",
   "id": "e61ffc0f-7aa5-4693-87d6-a2c9c385ea60",
   "metadata": {},
   "source": [
    "Za pomocą klasy `Chebyshev` można przeprowadzić ewaluację wielomianiu Czebyszewa. Parametr `domain` mówi o tym, z jakiej dziedziny punkty będą transformowane na punkty z przedziału $[-1,1]$"
   ]
  },
  {
   "cell_type": "code",
   "execution_count": 18,
   "id": "18a6c06b-61b2-44a9-9f33-6405e1700d3b",
   "metadata": {},
   "outputs": [
    {
     "data": {
      "image/png": "[encoded data removed]",
      "text/plain": [
       "<Figure size 640x480 with 1 Axes>"
      ]
     },
     "metadata": {},
     "output_type": "display_data"
    }
   ],
   "source": [
    "plt.plot(xs, ys, color=\"green\", label=\"f(x)\")\n",
    "plt.plot(xs, ys_approx, zorder=2, color=\"blue\", label=\"p(x)\")\n",
    "plt.legend()\n",
    "plt.show()"
   ]
  },
  {
   "cell_type": "markdown",
   "id": "b7d04feb-4517-4295-a8f5-ad4f24d8c384",
   "metadata": {},
   "source": [
    "**Wyk. 5** - funkcja $f$ oraz wielomian aproksymujący drugiego stopnia $p$"
   ]
  },
  {
   "cell_type": "code",
   "execution_count": 19,
   "id": "3152f9bc-a61b-415f-a177-0163b493d396",
   "metadata": {},
   "outputs": [
    {
     "name": "stdout",
     "output_type": "stream",
     "text": [
      "Approximating Chebyshev series:\n",
      "0.90031632 + 0.60021088 T_1(x) - 0.12004218 T_2(x)\n"
     ]
    }
   ],
   "source": [
    "print(\"Approximating Chebyshev series:\")\n",
    "print(p)"
   ]
  },
  {
   "cell_type": "markdown",
   "id": "3e1223ee-a3e9-4424-b505-13d5f571ec97",
   "metadata": {},
   "source": [
    "Wielomian aproksymacyjny: $p(x)\\approx0.9+0.6T_1(x)-0.12T_2(x)$"
   ]
  }
 ],
 "metadata": {
  "kernelspec": {
   "display_name": "Python 3 (ipykernel)",
   "language": "python",
   "name": "python3"
  },
  "language_info": {
   "codemirror_mode": {
    "name": "ipython",
    "version": 3
   },
   "file_extension": ".py",
   "mimetype": "text/x-python",
   "name": "python",
   "nbconvert_exporter": "python",
   "pygments_lexer": "ipython3",
   "version": "3.11.7"
  }
 },
 "nbformat": 4,
 "nbformat_minor": 5
}
