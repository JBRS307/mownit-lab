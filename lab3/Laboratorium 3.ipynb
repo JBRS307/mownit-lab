{
 "cells": [
  {
   "cell_type": "markdown",
   "id": "24bb4a97-46a9-4937-a7d4-c149381e0ead",
   "metadata": {},
   "source": [
    "# Zadanie"
   ]
  },
  {
   "cell_type": "markdown",
   "id": "e429176d-6634-4ba7-a904-1fc8f253a654",
   "metadata": {},
   "source": [
    "Celem zadania jest wykonanie wielomianu interpolacyjnego różnymi sposobami dla zestawu danych reprezentującego zmianę populacji USA w latach 1900 - 1980 w odstępach co 10 lat."
   ]
  },
  {
   "cell_type": "markdown",
   "id": "4f147ba7-dd91-438f-a8f0-6460810e684b",
   "metadata": {},
   "source": [
    "Wielomiany współczynniki wielomianów interpolacyjnych wylicza się z równania $(1)$: $$Ax=y$$\n",
    "gdzie $A$ to macierz Vandermonde'a dla zadanych funkcji bazowych, a $y$ to odcięte węzłów interpolacji."
   ]
  },
  {
   "cell_type": "markdown",
   "id": "db5e39e2-6284-47f9-af6e-fbfbf1acbbf9",
   "metadata": {},
   "source": [
    "## Przygotowanie danych"
   ]
  },
  {
   "cell_type": "markdown",
   "id": "851e595f-2c2b-4e4e-b539-37df9ebb043f",
   "metadata": {},
   "source": [
    "### Biblioteki"
   ]
  },
  {
   "cell_type": "code",
   "execution_count": 1,
   "id": "c86364e7-1a95-4cc1-af97-282a937aaf6c",
   "metadata": {},
   "outputs": [],
   "source": [
    "import pandas as pd\n",
    "import numpy as np\n",
    "import matplotlib.pyplot as plt"
   ]
  },
  {
   "cell_type": "markdown",
   "id": "f17dbdc7-2680-4016-8f80-1ada10940cbe",
   "metadata": {},
   "source": [
    "- `pandas` - biblioteka wykorzystana do przetwarzania danych\n",
    "- `numpy` - biblioteka wykorzystana do obliczeń\n",
    "- `matplotlib.pyplot` - biblioteka wykorzystana do sporządzenia wykresów"
   ]
  },
  {
   "cell_type": "code",
   "execution_count": 2,
   "id": "982727f3-cddc-4ba2-8f31-e5d0daae3812",
   "metadata": {
    "tags": []
   },
   "outputs": [
    {
     "data": {
      "text/html": [
       "<div>\n",
       "<style scoped>\n",
       "    .dataframe tbody tr th:only-of-type {\n",
       "        vertical-align: middle;\n",
       "    }\n",
       "\n",
       "    .dataframe tbody tr th {\n",
       "        vertical-align: top;\n",
       "    }\n",
       "\n",
       "    .dataframe thead th {\n",
       "        text-align: right;\n",
       "    }\n",
       "</style>\n",
       "<table border=\"1\" class=\"dataframe\">\n",
       "  <thead>\n",
       "    <tr style=\"text-align: right;\">\n",
       "      <th></th>\n",
       "      <th>year</th>\n",
       "      <th>population</th>\n",
       "    </tr>\n",
       "  </thead>\n",
       "  <tbody>\n",
       "    <tr>\n",
       "      <th>0</th>\n",
       "      <td>1900</td>\n",
       "      <td>76212168</td>\n",
       "    </tr>\n",
       "    <tr>\n",
       "      <th>1</th>\n",
       "      <td>1910</td>\n",
       "      <td>92228496</td>\n",
       "    </tr>\n",
       "    <tr>\n",
       "      <th>2</th>\n",
       "      <td>1920</td>\n",
       "      <td>106021537</td>\n",
       "    </tr>\n",
       "    <tr>\n",
       "      <th>3</th>\n",
       "      <td>1930</td>\n",
       "      <td>123202624</td>\n",
       "    </tr>\n",
       "    <tr>\n",
       "      <th>4</th>\n",
       "      <td>1940</td>\n",
       "      <td>132164569</td>\n",
       "    </tr>\n",
       "    <tr>\n",
       "      <th>5</th>\n",
       "      <td>1950</td>\n",
       "      <td>151325798</td>\n",
       "    </tr>\n",
       "    <tr>\n",
       "      <th>6</th>\n",
       "      <td>1960</td>\n",
       "      <td>179323175</td>\n",
       "    </tr>\n",
       "    <tr>\n",
       "      <th>7</th>\n",
       "      <td>1970</td>\n",
       "      <td>203302031</td>\n",
       "    </tr>\n",
       "    <tr>\n",
       "      <th>8</th>\n",
       "      <td>1980</td>\n",
       "      <td>226542199</td>\n",
       "    </tr>\n",
       "  </tbody>\n",
       "</table>\n",
       "</div>"
      ],
      "text/plain": [
       "   year  population\n",
       "0  1900    76212168\n",
       "1  1910    92228496\n",
       "2  1920   106021537\n",
       "3  1930   123202624\n",
       "4  1940   132164569\n",
       "5  1950   151325798\n",
       "6  1960   179323175\n",
       "7  1970   203302031\n",
       "8  1980   226542199"
      ]
     },
     "execution_count": 2,
     "metadata": {},
     "output_type": "execute_result"
    }
   ],
   "source": [
    "data = np.array([[1900, 76_212_168],\n",
    "                 [1910, 92_228_496],\n",
    "                 [1920, 106_021_537],\n",
    "                 [1930, 123_202_624],\n",
    "                 [1940, 132_164_569],\n",
    "                 [1950, 151_325_798],\n",
    "                 [1960, 179_323_175],\n",
    "                 [1970, 203_302_031],\n",
    "                 [1980, 226_542_199]\n",
    "                ], dtype=np.int64)\n",
    "df = pd.DataFrame(data, columns=[\"year\",\"population\"])\n",
    "df"
   ]
  },
  {
   "cell_type": "markdown",
   "id": "6a31f414-4b2e-47d1-9cbb-e9a4d605a140",
   "metadata": {},
   "source": [
    "**Tab. 1** - populacja USA w zależności od roku"
   ]
  },
  {
   "cell_type": "code",
   "execution_count": 3,
   "id": "b451ac1a-66c6-43d4-8eac-dc8f3503fd51",
   "metadata": {
    "tags": []
   },
   "outputs": [
    {
     "data": {
      "image/png": "[encoded data removed]",
      "text/plain": [
       "<Figure size 640x480 with 1 Axes>"
      ]
     },
     "metadata": {},
     "output_type": "display_data"
    }
   ],
   "source": [
    "plt.xlabel(\"Year\") \n",
    "plt.ylabel(\"Population\")\n",
    "plt.scatter(df[\"year\"], df[\"population\"], color =\"green\")\n",
    "plt.show()"
   ]
  },
  {
   "cell_type": "markdown",
   "id": "d91acba2-648a-4e80-96bc-df2347d59892",
   "metadata": {},
   "source": [
    "**Wyk. 1** - wykres punktowy przedstawiający dane z **Tab. 1**"
   ]
  },
  {
   "cell_type": "code",
   "execution_count": 4,
   "id": "d1ef3b64-dd64-4179-83d1-6fe5e898380b",
   "metadata": {
    "tags": []
   },
   "outputs": [],
   "source": [
    "points = df[\"year\"]\n",
    "annual_points = np.linspace(1900, 1990, num=91).astype(int)\n",
    "y = df[\"population\"]"
   ]
  },
  {
   "cell_type": "markdown",
   "id": "0ac44b28-ea04-4b9e-9d5d-26d238b16252",
   "metadata": {},
   "source": [
    "## Bazy jednomianowe"
   ]
  },
  {
   "cell_type": "code",
   "execution_count": 5,
   "id": "2e38f384-2604-45bd-8f0c-75e13e608563",
   "metadata": {},
   "outputs": [],
   "source": [
    "def gen_base_1(j):\n",
    "    return lambda t: t ** (j-1)\n",
    "\n",
    "def gen_base_2(j):\n",
    "    return lambda t: (t - 1900) ** (j-1)\n",
    "\n",
    "def gen_base_3(j):\n",
    "    return lambda t: (t - 1940) ** (j-1)\n",
    "\n",
    "def gen_base_4(j):\n",
    "    return lambda t: ((t - 1940)/40) ** (j-1)"
   ]
  },
  {
   "cell_type": "markdown",
   "id": "3387ad11-5dbd-477a-bd96-d79cdde9f0e2",
   "metadata": {},
   "source": [
    "Funkcje generujące kolejne funkcje bazowe dla macierzy Vandermonde'a: $$\\phi_j(t)=t^{j-1}$$ $$\\phi_j(t)=(t-1900)^{j-1}$$ $$\\phi_j(t)=(t-1940)^{j-1}$$ $$\\phi_j(t)=\\left(\\frac{t-1940}{40}\\right)^{j-1}$$"
   ]
  },
  {
   "cell_type": "code",
   "execution_count": 6,
   "id": "47ef4356-0a76-4f0e-bb12-4596ed18ef30",
   "metadata": {
    "tags": []
   },
   "outputs": [],
   "source": [
    "matrix_1 = np.zeros(shape=(9, 9))\n",
    "for i in range(9):\n",
    "    for j in range(9):\n",
    "        matrix_1[i][j] = gen_base_1(j+1)(points[i])\n",
    "matrix_1 = np.matrix(matrix_1)"
   ]
  },
  {
   "cell_type": "code",
   "execution_count": 7,
   "id": "4d264d28-2da1-421e-865e-1c325c833194",
   "metadata": {
    "tags": []
   },
   "outputs": [],
   "source": [
    "matrix_2 = np.zeros(shape=(9, 9))\n",
    "for i in range(9):\n",
    "    for j in range(9):\n",
    "        matrix_2[i][j] = gen_base_2(j+1)(points[i])\n",
    "matrix_2 = np.matrix(matrix_2)"
   ]
  },
  {
   "cell_type": "code",
   "execution_count": 8,
   "id": "6928d8bd-0d8e-40b9-9bdd-29e2bd3fdb88",
   "metadata": {
    "tags": []
   },
   "outputs": [],
   "source": [
    "matrix_3 = np.zeros(shape=(9, 9))\n",
    "for i in range(9):\n",
    "    for j in range(9):\n",
    "        matrix_3[i][j] = gen_base_3(j+1)(points[i])\n",
    "matrix_3 = np.matrix(matrix_3)"
   ]
  },
  {
   "cell_type": "code",
   "execution_count": 9,
   "id": "9c9d2257-7aac-4108-b65f-cb663b74e372",
   "metadata": {
    "tags": []
   },
   "outputs": [],
   "source": [
    "matrix_4 = np.zeros(shape=(9, 9))\n",
    "for i in range(9):\n",
    "    for j in range(9):\n",
    "        matrix_4[i][j] = gen_base_4(j+1)(points[i])\n",
    "matrix_4 = np.matrix(matrix_4)"
   ]
  },
  {
   "cell_type": "markdown",
   "id": "956888c8-372e-4f9c-97c9-af58f5d767ad",
   "metadata": {},
   "source": [
    "Macierze wygenerowane za pomocą kolejnych funkcji bazowych."
   ]
  },
  {
   "cell_type": "code",
   "execution_count": 10,
   "id": "3337d9c7-6069-460d-bd05-9564edbd3072",
   "metadata": {
    "tags": []
   },
   "outputs": [
    {
     "name": "stdout",
     "output_type": "stream",
     "text": [
      "Condition numbers for matrices:\n",
      "Matrix 1: 1.1393798408458244e+26\n",
      "Matrix 2: 6110183760727540.0\n",
      "Matrix 3: 9315536046807.896\n",
      "Matrix 4: 1605.4437004786923\n"
     ]
    }
   ],
   "source": [
    "cond_1 = np.linalg.cond(matrix_1)\n",
    "cond_2 = np.linalg.cond(matrix_2)\n",
    "cond_3 = np.linalg.cond(matrix_3)\n",
    "cond_4 = np.linalg.cond(matrix_4)\n",
    "print(\"Condition numbers for matrices:\")\n",
    "print(\"Matrix 1:\", cond_1)\n",
    "print(\"Matrix 2:\", cond_2)\n",
    "print(\"Matrix 3:\", cond_3)\n",
    "print(\"Matrix 4:\", cond_4)"
   ]
  },
  {
   "cell_type": "markdown",
   "id": "1e3a03a6-de73-44fe-847f-6395118c478c",
   "metadata": {},
   "source": [
    "Współczynniki uwarunkowania $\\text{cond}(A)$ kolejnych macierzy.  \n",
    "Najlepiej uwarunkowana macierz czwarta, zostanie wykorzystana do obliczeń."
   ]
  },
  {
   "cell_type": "code",
   "execution_count": 11,
   "id": "da414ed9-5998-4401-9b75-1578e413cf7f",
   "metadata": {},
   "outputs": [],
   "source": [
    "coef_mono = np.linalg.solve(matrix_4, y)"
   ]
  },
  {
   "cell_type": "markdown",
   "id": "ab3d8d6b-cd8c-4a82-90ea-922e7597d31d",
   "metadata": {},
   "source": [
    "Współczynniki wielomianu interpolacji $p(t)$ wyliczone z równania $(1)$."
   ]
  },
  {
   "cell_type": "code",
   "execution_count": 12,
   "id": "12fa53dd-223b-4b9b-9080-03fc1960ab7e",
   "metadata": {
    "tags": []
   },
   "outputs": [],
   "source": [
    "def p_monomial(t, coef, degree=0):\n",
    "    if degree == len(coef) - 2:\n",
    "        return coef[degree] + coef[degree+1] * ((t-1940)/40)\n",
    "    return coef[degree] + ((t-1940)/40) * p_monomial(t, coef, degree+1)"
   ]
  },
  {
   "cell_type": "code",
   "execution_count": 13,
   "id": "29a9f2d0-a40f-479c-b3e4-7a34d612e4d0",
   "metadata": {
    "tags": []
   },
   "outputs": [
    {
     "name": "stdout",
     "output_type": "stream",
     "text": [
      "Population calculated from interpolation polynomial:\n",
      "1900: 76212168.0\n",
      "1901: 84044921.23697999\n",
      "1902: 89046323.5252864\n",
      "1903: 91959312.94110827\n",
      "1904: 93393579.33850625\n",
      "1905: 93842317.18527225\n",
      "1906: 93697541.86011392\n",
      "1907: 93264046.00757447\n",
      "1908: 92772070.60800256\n",
      "1909: 92388763.4807904\n",
      "1910: 92228496.0\n",
      "1911: 92362106.86240079\n",
      "1912: 92825139.8088448\n",
      "1913: 93625140.26080853\n",
      "1914: 94748073.89483266\n",
      "1915: 96163928.23849489\n",
      "1916: 97831556.43245313\n",
      "1917: 99702820.36399923\n",
      "1918: 101726088.43846656\n",
      "1919: 103849141.31573759\n",
      "1920: 106021537.0\n",
      "1921: 108196484.73180345\n",
      "1922: 110332275.19237119\n",
      "1923: 112393312.59102443\n",
      "1924: 114350792.26747903\n",
      "1925: 116183065.50167847\n",
      "1926: 117875731.28472832\n",
      "1927: 119421492.86540164\n",
      "1928: 120819814.94758657\n",
      "1929: 122076415.4749507\n",
      "1930: 123202624.0\n",
      "1931: 124214636.69561179\n",
      "1932: 125132696.1280256\n",
      "1933: 125980221.97117728\n",
      "1934: 126782916.90316544\n",
      "1935: 127567869.98654175\n",
      "1936: 128362677.89501952\n",
      "1937: 129194602.41009802\n",
      "1938: 130089780.67200255\n",
      "1939: 131072502.73024352\n",
      "1940: 132164569.0\n",
      "1941: 133384738.29143709\n",
      "1942: 134748275.139968\n",
      "1943: 136266603.22637582\n",
      "1944: 137947069.73661184\n",
      "1945: 139792823.57199097\n",
      "1946: 141802808.38140672\n",
      "1947: 143971869.44809207\n",
      "1948: 146290971.52435455\n",
      "1949: 148747522.76861724\n",
      "1950: 151325798.0\n",
      "1951: 154007452.54657808\n",
      "1952: 156772116.0243584\n",
      "1953: 159598053.44491628\n",
      "1954: 162462879.11053824\n",
      "1955: 165344306.81661987\n",
      "1956: 168220917.94196993\n",
      "1957: 171072927.06857508\n",
      "1958: 173882922.8332826\n",
      "1959: 176636559.77476072\n",
      "1960: 179323175.00000006\n",
      "1961: 181936301.555521\n",
      "1962: 184474048.44935685\n",
      "1963: 186939315.33078247\n",
      "1964: 189339807.8956647\n",
      "1965: 191687818.14620978\n",
      "1966: 193999731.69478917\n",
      "1967: 196295222.36242577\n",
      "1968: 198596092.38342658\n",
      "1969: 200924714.58855006\n",
      "1970: 203302031.0\n",
      "1971: 205745060.33243954\n",
      "1972: 208263864.9551232\n",
      "1973: 210857925.93114546\n",
      "1974: 213511872.81071097\n",
      "1975: 216190512.9162292\n",
      "1976: 218833102.91794425\n",
      "1977: 221346803.55971032\n",
      "1978: 223599256.45542645\n",
      "1979: 225410219.93754905\n",
      "1980: 226542199.0\n",
      "1981: 226690002.43869522\n",
      "1982: 225469158.3538178\n",
      "1983: 222403117.23886466\n",
      "1984: 216909169.94239786\n",
      "1985: 208283005.84933543\n",
      "1986: 195681834.68951663\n",
      "1987: 178105993.4421841\n",
      "1988: 154378957.8659246\n",
      "1989: 123125676.24451187\n",
      "1990: 82749141.00000338\n"
     ]
    }
   ],
   "source": [
    "result = p_monomial(annual_points, coef_mono).tolist()\n",
    "print(\"Population calculated from interpolation polynomial:\")\n",
    "print(*(f\"{annual_points[i]}: {result[i]}\" for i in range(len(annual_points))), sep=\"\\n\")"
   ]
  },
  {
   "cell_type": "markdown",
   "id": "b07487f7-b4fb-4044-84ad-e78268d07c8e",
   "metadata": {},
   "source": [
    "**Tab. 2** - Populacja w latach 1900 - 1990 wyliczona na podstawie wielomianu interpolacyjnego z bazami jednomianowymi"
   ]
  },
  {
   "cell_type": "markdown",
   "id": "bbb730fd-bcec-4982-8836-4e5055f586b2",
   "metadata": {},
   "source": [
    "Punkty 1981 - 1990 są punktami ekstrapolowanymi, wyliczonymi jedynie na podstawie wielomianu interpolacyjnego."
   ]
  },
  {
   "cell_type": "code",
   "execution_count": 14,
   "id": "99abd927-064f-4544-89d8-6b76c8daa038",
   "metadata": {
    "jupyter": {
     "source_hidden": true
    },
    "tags": []
   },
   "outputs": [
    {
     "data": {
      "image/png": "[encoded data removed]",
      "text/plain": [
       "<Figure size 640x480 with 1 Axes>"
      ]
     },
     "metadata": {},
     "output_type": "display_data"
    }
   ],
   "source": [
    "plt.xlabel(\"Year\")\n",
    "plt.ylabel(\"Population\")\n",
    "plt.plot(annual_points, result, color=\"red\", zorder=1)\n",
    "plt.scatter(points, df[\"population\"], color=\"green\", zorder=2)\n",
    "plt.show()"
   ]
  },
  {
   "cell_type": "markdown",
   "id": "dc83f761-d0a7-427f-ab53-e16e536b9b49",
   "metadata": {},
   "source": [
    "**Wyk. 2** - wielomian interpolacyjny wyliczony na podstawie baz jednomianowych z zaznaczonymi węzłami interpolacji"
   ]
  },
  {
   "cell_type": "markdown",
   "id": "545c68f8-e105-4210-b9c4-1217f00e6c66",
   "metadata": {},
   "source": [
    "### Ekstrapolacja populacji w 1990 na podstawie otrzymanego wielomianu interpolacyjnego"
   ]
  },
  {
   "cell_type": "code",
   "execution_count": 15,
   "id": "185dd0a5-db01-46bc-9bff-7b65ff293efe",
   "metadata": {},
   "outputs": [
    {
     "name": "stdout",
     "output_type": "stream",
     "text": [
      "Extrapolated population in 1990: 82749141.00000338\n",
      "Actual population in 1990: 248709873\n"
     ]
    }
   ],
   "source": [
    "extrapolated_population = result[-1]\n",
    "actual_population = 248_709_873\n",
    "print(\"Extrapolated population in 1990:\", extrapolated_population)\n",
    "print(\"Actual population in 1990:\", actual_population)"
   ]
  },
  {
   "cell_type": "code",
   "execution_count": 16,
   "id": "b6086e70-343c-4cd9-89a5-8d4bc0bcb0fa",
   "metadata": {},
   "outputs": [
    {
     "name": "stdout",
     "output_type": "stream",
     "text": [
      "Relative error of extrapolated population: 66.72864651416415\n"
     ]
    }
   ],
   "source": [
    "relative_population_error = (abs(actual_population - extrapolated_population) / actual_population) * 100\n",
    "print(\"Relative error of extrapolated population:\", relative_population_error)"
   ]
  },
  {
   "cell_type": "markdown",
   "id": "b3050814-e23e-4e56-b90b-a70f73872077",
   "metadata": {},
   "source": [
    "Ekstrapolowana populacja w roku 1990 na podstawie wielomianu interpolacyjnego: $82749141$  \n",
    "Rzeczywista populacja w roku 1990: $248709873$  \n",
    "Błąd względny ekstrapolacji wynosi $63.73\\%$"
   ]
  },
  {
   "cell_type": "markdown",
   "id": "78d4e5db-f615-434c-83a2-2709b89fa952",
   "metadata": {},
   "source": [
    "## Bazy Lagrange'a"
   ]
  },
  {
   "cell_type": "code",
   "execution_count": 17,
   "id": "3f285a2e-0469-44d8-beb0-48c2a10dc2cf",
   "metadata": {
    "tags": []
   },
   "outputs": [],
   "source": [
    "def l(j, t):\n",
    "    global points\n",
    "    \n",
    "    numerator = 1\n",
    "    denominator = 1\n",
    "    for k in range(len(points)):\n",
    "        if j != k:\n",
    "            numerator *= t - points[k]\n",
    "            denominator *= points[j] - points[k]\n",
    "    return numerator/denominator\n",
    "\n",
    "def p_lagrange(t):\n",
    "    global y\n",
    "    \n",
    "    res = 0\n",
    "    for j in range(len(y)):\n",
    "        res += y[j] * l(j, t)\n",
    "    return res"
   ]
  },
  {
   "cell_type": "markdown",
   "id": "753d63f9-24ce-486d-957d-6603940f2f8b",
   "metadata": {},
   "source": [
    "Funkcje obliczające funkcje bazowe Lagrange'a $\\ell_j(t)$ oraz wielomian interpolacyjny $p(t)$."
   ]
  },
  {
   "cell_type": "markdown",
   "id": "6b6adbb1-0d20-48fa-987e-bd1d033624a1",
   "metadata": {},
   "source": [
    "$$\\ell_j(t)=\\prod_{k=1,k\\not=j}^{n}\\frac{t-t_k}{t_j-t_k}$$\n",
    "$$p(t)=\\sum_{j=1}^{n}y_j\\ell_j(t)$$"
   ]
  },
  {
   "cell_type": "code",
   "execution_count": 18,
   "id": "6f03b7f9-4ff3-404d-996e-0fe096d1c59d",
   "metadata": {
    "tags": []
   },
   "outputs": [
    {
     "name": "stdout",
     "output_type": "stream",
     "text": [
      "Population calculated from interpolation polynomial:\n",
      "1900: 76212168.0\n",
      "1901: 84044921.23698002\n",
      "1902: 89046323.52528639\n",
      "1903: 91959312.94110835\n",
      "1904: 93393579.33850625\n",
      "1905: 93842317.18527222\n",
      "1906: 93697541.86011393\n",
      "1907: 93264046.00757451\n",
      "1908: 92772070.60800256\n",
      "1909: 92388763.48079039\n",
      "1910: 92228496.0\n",
      "1911: 92362106.86240074\n",
      "1912: 92825139.8088448\n",
      "1913: 93625140.2608085\n",
      "1914: 94748073.89483266\n",
      "1915: 96163928.23849487\n",
      "1916: 97831556.43245313\n",
      "1917: 99702820.36399923\n",
      "1918: 101726088.43846653\n",
      "1919: 103849141.31573759\n",
      "1920: 106021537.0\n",
      "1921: 108196484.73180343\n",
      "1922: 110332275.1923712\n",
      "1923: 112393312.59102443\n",
      "1924: 114350792.26747905\n",
      "1925: 116183065.50167847\n",
      "1926: 117875731.2847283\n",
      "1927: 119421492.86540164\n",
      "1928: 120819814.94758655\n",
      "1929: 122076415.47495069\n",
      "1930: 123202624.0\n",
      "1931: 124214636.69561177\n",
      "1932: 125132696.12802559\n",
      "1933: 125980221.97117728\n",
      "1934: 126782916.90316544\n",
      "1935: 127567869.98654175\n",
      "1936: 128362677.8950195\n",
      "1937: 129194602.410098\n",
      "1938: 130089780.67200254\n",
      "1939: 131072502.73024352\n",
      "1940: 132164569.0\n",
      "1941: 133384738.29143707\n",
      "1942: 134748275.139968\n",
      "1943: 136266603.22637582\n",
      "1944: 137947069.73661187\n",
      "1945: 139792823.57199097\n",
      "1946: 141802808.38140672\n",
      "1947: 143971869.44809207\n",
      "1948: 146290971.52435455\n",
      "1949: 148747522.76861727\n",
      "1950: 151325798.0\n",
      "1951: 154007452.54657805\n",
      "1952: 156772116.0243584\n",
      "1953: 159598053.44491625\n",
      "1954: 162462879.11053827\n",
      "1955: 165344306.81661987\n",
      "1956: 168220917.9419699\n",
      "1957: 171072927.06857508\n",
      "1958: 173882922.83328256\n",
      "1959: 176636559.77476072\n",
      "1960: 179323175.0\n",
      "1961: 181936301.55552098\n",
      "1962: 184474048.4493568\n",
      "1963: 186939315.3307824\n",
      "1964: 189339807.8956646\n",
      "1965: 191687818.14620972\n",
      "1966: 193999731.6947891\n",
      "1967: 196295222.3624257\n",
      "1968: 198596092.38342652\n",
      "1969: 200924714.58855006\n",
      "1970: 203302031.0\n",
      "1971: 205745060.33243957\n",
      "1972: 208263864.95512322\n",
      "1973: 210857925.93114555\n",
      "1974: 213511872.81071097\n",
      "1975: 216190512.91622925\n",
      "1976: 218833102.91794425\n",
      "1977: 221346803.55971044\n",
      "1978: 223599256.45542657\n",
      "1979: 225410219.9375491\n",
      "1980: 226542199.0\n",
      "1981: 226690002.43869513\n",
      "1982: 225469158.35381764\n",
      "1983: 222403117.23886406\n",
      "1984: 216909169.9423976\n",
      "1985: 208283005.84933472\n",
      "1986: 195681834.68951654\n",
      "1987: 178105993.44218445\n",
      "1988: 154378957.8659203\n",
      "1989: 123125676.24451017\n",
      "1990: 82749141.0\n"
     ]
    }
   ],
   "source": [
    "result = [p_lagrange(annual_points[i]) for i in range(len(annual_points))]\n",
    "print(\"Population calculated from interpolation polynomial:\")\n",
    "print(*(f\"{annual_points[i]}: {result[i]}\" for i in range(len(annual_points))), sep=\"\\n\")"
   ]
  },
  {
   "cell_type": "markdown",
   "id": "06a3fac1-b424-4f84-896a-37b539ec9da1",
   "metadata": {},
   "source": [
    "**Tab. 3** - Populacja w latach 1900 - 1990 wyliczona na podstawie wielomianu interpolacyjnego z bazami Lagrange'a"
   ]
  },
  {
   "cell_type": "code",
   "execution_count": 19,
   "id": "c6301f5b-cce0-4529-9a57-49df80c7bbed",
   "metadata": {
    "jupyter": {
     "source_hidden": true
    },
    "tags": []
   },
   "outputs": [
    {
     "data": {
      "image/png": "[encoded data removed]",
      "text/plain": [
       "<Figure size 640x480 with 1 Axes>"
      ]
     },
     "metadata": {},
     "output_type": "display_data"
    }
   ],
   "source": [
    "plt.xlabel(\"Year\")\n",
    "plt.ylabel(\"Population\")\n",
    "plt.plot(annual_points, result, color=\"red\", zorder=1)\n",
    "plt.scatter(points, y, color=\"green\", zorder=2)\n",
    "plt.show()"
   ]
  },
  {
   "cell_type": "markdown",
   "id": "713dd4ba-fded-4391-bdab-52c44c02aaf6",
   "metadata": {},
   "source": [
    "**Wyk. 3** - wielomian interpolacyjny wyliczony na podstawie baz Lagrange'a z zaznaczonymi węzłami interpolacji"
   ]
  },
  {
   "cell_type": "markdown",
   "id": "0b413db2-7d62-4986-85c1-d266ed467ffa",
   "metadata": {},
   "source": [
    "## Interpolacja Newtona"
   ]
  },
  {
   "cell_type": "code",
   "execution_count": 20,
   "id": "89b3a022-25d1-4c7c-9103-7de02336c6b7",
   "metadata": {},
   "outputs": [],
   "source": [
    "from functools import cache\n",
    "\n",
    "@cache\n",
    "def pi(j, t):\n",
    "    global points\n",
    "    \n",
    "    if j == 1:\n",
    "        return t - points[j-1]\n",
    "    if j < 1:\n",
    "        return 1\n",
    "    return (t - points[j-1]) * pi(j-1, t)"
   ]
  },
  {
   "cell_type": "markdown",
   "id": "a84005fe-c33f-4911-93ab-8127becec7da",
   "metadata": {},
   "source": [
    "Funkcja wyliczająca $\\pi_j(t)$. Dzięki wykorzystaniu adnotacji `@cache` z biblioteki `functools` każda wartość wyliczana jest tylko raz, więc wyliczenie wszystkich $\\pi_j$ działa w czasie $O(n)$. Wzór rekurencyjny wykorzystany do ewaluacji:\n",
    "$$\\pi_j(t) = (t-t_{j-1})\\cdot\\pi_{j-1}(t)$$\n",
    "$$\\pi_1(t)=1$$"
   ]
  },
  {
   "cell_type": "code",
   "execution_count": 21,
   "id": "d7b40a77-51a5-45fb-b3e8-5a9d40072f34",
   "metadata": {
    "tags": []
   },
   "outputs": [],
   "source": [
    "A = np.zeros(shape=(len(points), len(points)))\n",
    "for i in range(len(points)):\n",
    "    for j in range(i+1):\n",
    "        A[i][j] = pi(j, points[i])"
   ]
  },
  {
   "cell_type": "markdown",
   "id": "83e14da8-8ad8-459f-9a06-0a7972c3e4dc",
   "metadata": {},
   "source": [
    "Tworzenie macierzy trójkątnej dolnej $A$."
   ]
  },
  {
   "cell_type": "code",
   "execution_count": 22,
   "id": "52bc8d7b-c12f-44c2-8910-ce75cad9bbba",
   "metadata": {
    "tags": []
   },
   "outputs": [],
   "source": [
    "coef_newton = np.linalg.solve(A, y)"
   ]
  },
  {
   "cell_type": "markdown",
   "id": "4b7c204e-91cc-4006-a5cd-ae155ddb33e6",
   "metadata": {},
   "source": [
    "Wyliczenie współczynników wielomianiu interpolacyjnego ze wzoru $(1)$."
   ]
  },
  {
   "cell_type": "code",
   "execution_count": 23,
   "id": "8b4a6e4b-a6c2-4b8c-9b0f-55fb8681566b",
   "metadata": {
    "tags": []
   },
   "outputs": [],
   "source": [
    "def p_newton(t):\n",
    "    global coef_newton\n",
    "    \n",
    "    res = 0\n",
    "    for j in range(len(y)):\n",
    "        res += pi(j, t) * coef_newton[j]\n",
    "    return res"
   ]
  },
  {
   "cell_type": "markdown",
   "id": "0b1ff97e-d802-46f7-972f-c3fc14f8806f",
   "metadata": {},
   "source": [
    "Wielomian interpolacyjny $p(t)$. Ewaluacja wielomianu zajmuje czas $O(n)$."
   ]
  },
  {
   "cell_type": "code",
   "execution_count": 24,
   "id": "1b451f6c-beed-46ef-80f4-474a75640a4b",
   "metadata": {
    "tags": []
   },
   "outputs": [
    {
     "name": "stdout",
     "output_type": "stream",
     "text": [
      "Population calculated from interpolation polynomial:\n",
      "1900: 76212168.0\n",
      "1901: 84044921.23698005\n",
      "1902: 89046323.52528642\n",
      "1903: 91959312.94110832\n",
      "1904: 93393579.33850624\n",
      "1905: 93842317.18527223\n",
      "1906: 93697541.86011395\n",
      "1907: 93264046.0075745\n",
      "1908: 92772070.60800259\n",
      "1909: 92388763.48079042\n",
      "1910: 92228496.00000003\n",
      "1911: 92362106.86240079\n",
      "1912: 92825139.80884483\n",
      "1913: 93625140.26080854\n",
      "1914: 94748073.89483267\n",
      "1915: 96163928.2384949\n",
      "1916: 97831556.43245316\n",
      "1917: 99702820.36399923\n",
      "1918: 101726088.4384666\n",
      "1919: 103849141.31573762\n",
      "1920: 106021537.00000003\n",
      "1921: 108196484.73180348\n",
      "1922: 110332275.19237125\n",
      "1923: 112393312.59102446\n",
      "1924: 114350792.26747908\n",
      "1925: 116183065.50167851\n",
      "1926: 117875731.28472836\n",
      "1927: 119421492.86540169\n",
      "1928: 120819814.94758661\n",
      "1929: 122076415.47495076\n",
      "1930: 123202624.00000004\n",
      "1931: 124214636.69561185\n",
      "1932: 125132696.12802565\n",
      "1933: 125980221.97117732\n",
      "1934: 126782916.9031655\n",
      "1935: 127567869.98654181\n",
      "1936: 128362677.89501958\n",
      "1937: 129194602.41009808\n",
      "1938: 130089780.67200263\n",
      "1939: 131072502.73024352\n",
      "1940: 132164569.00000003\n",
      "1941: 133384738.29143709\n",
      "1942: 134748275.139968\n",
      "1943: 136266603.22637585\n",
      "1944: 137947069.73661187\n",
      "1945: 139792823.57199097\n",
      "1946: 141802808.38140672\n",
      "1947: 143971869.44809204\n",
      "1948: 146290971.52435458\n",
      "1949: 148747522.7686172\n",
      "1950: 151325798.0\n",
      "1951: 154007452.54657805\n",
      "1952: 156772116.02435833\n",
      "1953: 159598053.44491625\n",
      "1954: 162462879.11053818\n",
      "1955: 165344306.81661978\n",
      "1956: 168220917.94196984\n",
      "1957: 171072927.06857502\n",
      "1958: 173882922.83328253\n",
      "1959: 176636559.7747606\n",
      "1960: 179323174.99999988\n",
      "1961: 181936301.55552092\n",
      "1962: 184474048.4493567\n",
      "1963: 186939315.33078232\n",
      "1964: 189339807.89566454\n",
      "1965: 191687818.14620954\n",
      "1966: 193999731.694789\n",
      "1967: 196295222.36242566\n",
      "1968: 198596092.38342643\n",
      "1969: 200924714.58854994\n",
      "1970: 203302030.99999976\n",
      "1971: 205745060.33243942\n",
      "1972: 208263864.9551228\n",
      "1973: 210857925.93114534\n",
      "1974: 213511872.81071085\n",
      "1975: 216190512.9162291\n",
      "1976: 218833102.91794407\n",
      "1977: 221346803.55970994\n",
      "1978: 223599256.4554264\n",
      "1979: 225410219.93754843\n",
      "1980: 226542198.99999994\n",
      "1981: 226690002.43869522\n",
      "1982: 225469158.3538174\n",
      "1983: 222403117.23886472\n",
      "1984: 216909169.94239777\n",
      "1985: 208283005.84933567\n",
      "1986: 195681834.6895162\n",
      "1987: 178105993.44218302\n",
      "1988: 154378957.86592364\n",
      "1989: 123125676.24450946\n",
      "1990: 82749141.0000019\n"
     ]
    }
   ],
   "source": [
    "result = [p_newton(t) for t in annual_points]\n",
    "print(\"Population calculated from interpolation polynomial:\")\n",
    "print(*(f\"{annual_points[i]}: {result[i]}\" for i in range(len(annual_points))), sep=\"\\n\")"
   ]
  },
  {
   "cell_type": "markdown",
   "id": "df22f817-4045-4224-ba36-5872166159c6",
   "metadata": {},
   "source": [
    "**Tab. 4** - Populacja w latach 1900 - 1990 wyliczona na podstawie wielomianu interpolacyjnego z bazami Newtona."
   ]
  },
  {
   "cell_type": "code",
   "execution_count": 25,
   "id": "d1330a63-c1cc-4e48-b2ca-7d97fec3db8e",
   "metadata": {
    "tags": []
   },
   "outputs": [
    {
     "data": {
      "image/png": "[encoded data removed]",
      "text/plain": [
       "<Figure size 640x480 with 1 Axes>"
      ]
     },
     "metadata": {},
     "output_type": "display_data"
    }
   ],
   "source": [
    "plt.xlabel(\"Year\")\n",
    "plt.ylabel(\"Population\")\n",
    "plt.plot(annual_points, result, color=\"red\", zorder=1)\n",
    "plt.scatter(points, y, color=\"green\", zorder=2)\n",
    "plt.show()"
   ]
  },
  {
   "cell_type": "markdown",
   "id": "a3114154-9492-4f5a-b679-fd7cb64236d3",
   "metadata": {},
   "source": [
    "**Wyk. 4** - wielomian interpolacyjny wyliczony na podstawie baz Newtona z zaznaczonymi węzłami interpolacji"
   ]
  },
  {
   "cell_type": "markdown",
   "id": "1304b13f-c84f-4ee4-ae0c-98c4667eb889",
   "metadata": {},
   "source": [
    "## Zaokrąglenie do miliona"
   ]
  },
  {
   "cell_type": "markdown",
   "id": "163c9cb8-af38-488f-a2d8-2fc91c50eedd",
   "metadata": {},
   "source": [
    "Ponownie wykorzystanie baz jednomianowych, jednak tym razem wartości populacji zostały zaokrąglone do milionów."
   ]
  },
  {
   "cell_type": "code",
   "execution_count": 26,
   "id": "27aca87f-5c1d-4fb8-a7d2-026c02f0e8cf",
   "metadata": {},
   "outputs": [
    {
     "name": "stdout",
     "output_type": "stream",
     "text": [
      "Population rounded to millions:\n",
      "1900: 76000000\n",
      "1910: 92000000\n",
      "1920: 106000000\n",
      "1930: 123000000\n",
      "1940: 132000000\n",
      "1950: 151000000\n",
      "1960: 179000000\n",
      "1970: 203000000\n",
      "1980: 227000000\n"
     ]
    }
   ],
   "source": [
    "rounded = round(y, -6)\n",
    "print(\"Population rounded to millions:\")\n",
    "print(*(f\"{points[i]}: {rounded[i]}\" for i in range(len(points))), sep=\"\\n\")"
   ]
  },
  {
   "cell_type": "markdown",
   "id": "076dc7bf-2688-4d24-9056-6bb7b9832d33",
   "metadata": {},
   "source": [
    "**Tab. 5** - wartości populacji zaokrąglone do miliona w latach 1900 - 1980."
   ]
  },
  {
   "cell_type": "code",
   "execution_count": 27,
   "id": "fd70da09-b4c8-4e82-ac88-a065aa0b3502",
   "metadata": {},
   "outputs": [],
   "source": [
    "coef_round = np.linalg.solve(matrix_4, rounded)"
   ]
  },
  {
   "cell_type": "markdown",
   "id": "ab9a7e36-28fb-44a3-b064-3ac4c2065205",
   "metadata": {},
   "source": [
    "Wyliczenie wielomianu interpolacji z równania $(1)$ z pomocą macierzy o najlepszym uwarunkowaniu, funkcja zdefiniowana w sekcji **Bazy jednomianowe**."
   ]
  },
  {
   "cell_type": "code",
   "execution_count": 28,
   "id": "f941dd07-9f9f-472c-b1b0-408d9d04a4f6",
   "metadata": {},
   "outputs": [
    {
     "name": "stdout",
     "output_type": "stream",
     "text": [
      "Population calculated from interpolation polynomial:\n",
      "1900: 76000000.0\n",
      "1901: 83486152.61332807\n",
      "1902: 88295928.83200002\n",
      "1903: 91131993.71207802\n",
      "1904: 92571044.35199997\n",
      "1905: 93079620.36132808\n",
      "1906: 93028562.43199995\n",
      "1907: 92706190.8270781\n",
      "1908: 92330273.79199997\n",
      "1909: 92058854.08332808\n",
      "1910: 91999999.99999997\n",
      "1911: 92220545.4920781\n",
      "1912: 92753882.11199997\n",
      "1913: 93606863.7633281\n",
      "1914: 94765883.39199999\n",
      "1915: 96202178.95507812\n",
      "1916: 97876424.192\n",
      "1917: 99742657.91332811\n",
      "1918: 101751603.71199998\n",
      "1919: 103853430.19207811\n",
      "1920: 105999999.99999999\n",
      "1921: 108146654.13332811\n",
      "1922: 110253576.19199999\n",
      "1923: 112286779.42707811\n",
      "1924: 114218757.63199998\n",
      "1925: 116028839.11132811\n",
      "1926: 117703281.152\n",
      "1927: 119235140.61207812\n",
      "1928: 120623954.43199998\n",
      "1929: 121875262.06332812\n",
      "1930: 122999999.99999999\n",
      "1931: 124013796.78707811\n",
      "1932: 124936195.07199998\n",
      "1933: 125789825.45332812\n",
      "1934: 126599555.07199998\n",
      "1935: 127391632.08007811\n",
      "1936: 128192845.31199998\n",
      "1937: 129029716.6733281\n",
      "1938: 129927741.95199998\n",
      "1939: 130910693.9470781\n",
      "1940: 131999999.99999997\n",
      "1941: 133214204.20332809\n",
      "1942: 134568522.75199997\n",
      "1943: 136074499.0920781\n",
      "1944: 137739763.71199995\n",
      "1945: 139567901.61132807\n",
      "1946: 141558428.67199996\n",
      "1947: 143706876.34707806\n",
      "1948: 146004982.27199996\n",
      "1949: 148440982.59332806\n",
      "1950: 150999999.99999994\n",
      "1951: 153664519.63207805\n",
      "1952: 156414943.23199993\n",
      "1953: 159230210.09332806\n",
      "1954: 162088471.55199993\n",
      "1955: 164967803.95507807\n",
      "1956: 167846943.23199996\n",
      "1957: 170706022.38332808\n",
      "1958: 173527291.39199996\n",
      "1959: 176295797.25207806\n",
      "1960: 178999999.99999994\n",
      "1961: 181632298.82332808\n",
      "1962: 184189440.51199996\n",
      "1963: 186672780.70707807\n",
      "1964: 189088366.59199995\n",
      "1965: 191446807.8613281\n",
      "1966: 193762900.99199995\n",
      "1967: 196054970.0320781\n",
      "1968: 198343885.31199995\n",
      "1969: 200651719.67332804\n",
      "1970: 202999999.99999994\n",
      "1971: 205407510.02707803\n",
      "1972: 207887598.59199992\n",
      "1973: 210444945.68332803\n",
      "1974: 213071736.8319999\n",
      "1975: 215743194.580078\n",
      "1976: 218412413.95199987\n",
      "1977: 221004447.04332805\n",
      "1978: 223409580.03199992\n",
      "1979: 225475744.10707802\n",
      "1980: 226999999.99999994\n",
      "1981: 227719033.9933282\n",
      "1982: 227298601.47200012\n",
      "1983: 225321852.2720785\n",
      "1984: 221276470.2720005\n",
      "1985: 214540557.8613289\n",
      "1986: 204367194.11200112\n",
      "1987: 189867593.66707945\n",
      "1988: 169992791.55200177\n",
      "1989: 143513777.30333033\n",
      "1990: 109000000.0000034\n"
     ]
    }
   ],
   "source": [
    "result = [p_monomial(t, coef_round) for t in annual_points]\n",
    "print(\"Population calculated from interpolation polynomial:\")\n",
    "print(*(f\"{annual_points[i]}: {result[i]}\" for i in range(len(annual_points))), sep=\"\\n\")"
   ]
  },
  {
   "cell_type": "markdown",
   "id": "ff48ca6c-13b7-4d91-92cc-b9f7294ce523",
   "metadata": {},
   "source": [
    "**Tab. 6** - Populacja w latach 1900 - 1990 wyliczona na podstawie wielomianu interpolacyjnego z bazami jednomianowymi po zaokrągleniu odciętych węzłów interpolacji do miliona."
   ]
  },
  {
   "cell_type": "code",
   "execution_count": 29,
   "id": "3495587e-bd6d-4dd5-b77d-61f8907535d5",
   "metadata": {},
   "outputs": [
    {
     "data": {
      "image/png": "[encoded data removed]",
      "text/plain": [
       "<Figure size 640x480 with 1 Axes>"
      ]
     },
     "metadata": {},
     "output_type": "display_data"
    }
   ],
   "source": [
    "plt.xlabel(\"Year\")\n",
    "plt.ylabel(\"Population\")\n",
    "plt.plot(annual_points, result, color=\"red\", zorder=1)\n",
    "plt.scatter(points, y, color=\"green\", zorder=2)\n",
    "plt.show()"
   ]
  },
  {
   "cell_type": "markdown",
   "id": "f21ee32e-785d-4dc7-9001-25e41d3c7eec",
   "metadata": {},
   "source": [
    "**Wyk. 5** - wielomian interpolacyjny wyliczony na podstawie baz jednomianowych po zaokrągleniu odciętych do miliona z zaznaczonymi węzłami interpolacji"
   ]
  },
  {
   "cell_type": "code",
   "execution_count": 30,
   "id": "bfd2ef37-e624-424b-b455-09873941726f",
   "metadata": {},
   "outputs": [
    {
     "name": "stdout",
     "output_type": "stream",
     "text": [
      "Coefficient for monomial basis:\n",
      "x^0: 132164569.0\n",
      "x^1: 46130765.57619044\n",
      "x^2: 102716314.78571421\n",
      "x^3: 182527130.1777784\n",
      "x^4: -374614714.8888876\n",
      "x^5: -342668455.8222238\n",
      "x^6: 606291249.7777747\n",
      "x^7: 189175575.56825495\n",
      "x^8: -315180235.1746013\n"
     ]
    }
   ],
   "source": [
    "print(\"Coefficient for monomial basis:\")\n",
    "print(*(f\"x^{i}: {coef_mono[i]}\" for i in range(len(points))), sep=\"\\n\")"
   ]
  },
  {
   "cell_type": "markdown",
   "id": "15e488d4-c9de-4df4-9181-b68edc014831",
   "metadata": {},
   "source": [
    "**Tab. 7** - wartości współczynników dla baz jednomianowych."
   ]
  },
  {
   "cell_type": "code",
   "execution_count": 31,
   "id": "a15824c1-0409-4601-b0ae-2be0b5b53935",
   "metadata": {},
   "outputs": [
    {
     "name": "stdout",
     "output_type": "stream",
     "text": [
      "Coefficient for rounded monomial basis:\n",
      "x^0: 131999999.99999997\n",
      "x^1: 45957142.85714272\n",
      "x^2: 100141269.84126967\n",
      "x^3: 181111111.11111188\n",
      "x^4: -356755555.5555542\n",
      "x^5: -338488888.88889045\n",
      "x^6: 570311111.1111082\n",
      "x^7: 186920634.92063585\n",
      "x^8: -294196825.39682364\n"
     ]
    }
   ],
   "source": [
    "print(\"Coefficient for rounded monomial basis:\")\n",
    "print(*(f\"x^{i}: {coef_round[i]}\" for i in range(len(points))), sep=\"\\n\")"
   ]
  },
  {
   "cell_type": "markdown",
   "id": "e6fde66c-0a59-4502-83a4-31d6c0f4a5ec",
   "metadata": {},
   "source": [
    "**Tab. 8** - wartości współczynników dla baz jednomianowych z zaokrągleniem wartości populacji do miliona."
   ]
  },
  {
   "cell_type": "code",
   "execution_count": 32,
   "id": "60e41004-9c46-40a6-847d-3643b8d0eccd",
   "metadata": {},
   "outputs": [
    {
     "name": "stdout",
     "output_type": "stream",
     "text": [
      "Rounded coefficient relative difference:\n",
      "x^0: 0.125\n",
      "x^1: 0.376\n",
      "x^2: 2.507\n",
      "x^3: 0.776\n",
      "x^4: 4.767\n",
      "x^5: 1.22\n",
      "x^6: 5.934\n",
      "x^7: 1.192\n",
      "x^8: 6.658\n"
     ]
    }
   ],
   "source": [
    "coef_diff = abs((coef_mono - coef_round) / coef_mono) * 100\n",
    "print(\"Rounded coefficient relative difference:\")\n",
    "print(*(f\"x^{i}: {round(coef_diff[i], 3)}\" for i in range(len(points))), sep=\"\\n\")"
   ]
  },
  {
   "cell_type": "markdown",
   "id": "c802a102-6960-4ba0-8290-24d9af7b0d5c",
   "metadata": {},
   "source": [
    "**Tab. 9** - procentowy różnice między współczynnikami z **Tab. 7** oraz **Tab. 8**"
   ]
  },
  {
   "cell_type": "markdown",
   "id": "6920ed5f-0b2c-48cf-9257-5a41839e6db1",
   "metadata": {},
   "source": [
    "Współczynniki uzyskane po zaokrągleniu wartości mają mniejszy moduł niż współczynniki uzyskane za pomocą dokładnych wartości. Dane są bardziej ogólny, przez co wielomian interpolacyjny jest mniej dokładny."
   ]
  },
  {
   "cell_type": "markdown",
   "id": "d24bd58f-0249-46d3-ae90-50038a1fc941",
   "metadata": {},
   "source": [
    "### Ekstrapolacja do roku 1990"
   ]
  },
  {
   "cell_type": "code",
   "execution_count": 33,
   "id": "4ccd219d-6283-4a8f-956e-9ae65656fc1d",
   "metadata": {},
   "outputs": [
    {
     "name": "stdout",
     "output_type": "stream",
     "text": [
      "Relative error of extrapolated population: 56.17383472347983\n"
     ]
    }
   ],
   "source": [
    "extrapolated_population = result[-1]\n",
    "relative_population_error = (abs(actual_population - extrapolated_population) / actual_population) * 100\n",
    "print(\"Relative error of extrapolated population:\", relative_population_error)"
   ]
  },
  {
   "cell_type": "markdown",
   "id": "e94b57c1-af42-4e86-a123-0f40f5f444c4",
   "metadata": {},
   "source": [
    "Ekstrapolowana populacja w roku 1990 na podstawie wielomianu interpolacyjnego: $109000000$  \n",
    "Rzeczywista populacja w roku 1990: $248709873$  \n",
    "Błąd względny ekstrapolacji wynosi $53.17\\%$"
   ]
  },
  {
   "cell_type": "markdown",
   "id": "cd0fd63a-b20a-455a-9773-26937597937e",
   "metadata": {},
   "source": [
    "# Wnioski"
   ]
  },
  {
   "cell_type": "markdown",
   "id": "9ccea3be-363d-4a7b-a016-8c45f09578bf",
   "metadata": {},
   "source": [
    "- Wszystkie 3 metody interpolacji dały wielomiany o bardzo zbliżonych wartościach.\n",
    "- W przypadku mekstrapolacji roku 1990 z wielomianu wystąpił bardzo duży błąd wynoszący $63.73\\%$, co może świadczyć o tym, że wielomiany interpolacyjne nie nadają się do przewidywania wartości dla punktów spoza zakrezu węzłów.\n",
    "- Po zaokrągleniu danych populacji do miliona współczynniki wielomianu interpolacyjnego miały mniejsze moduły. Wielomian na zaokrąglonych danych jest mniej dokładny, co można zauważyć też na wykresie.\n",
    "- Błąd ekstrapolacji na rok 1990 po zaokrągleniu do miliona wynosi $53.17\\%$, co podtrzymuje tezę, że wielomiany interpolacyjne nie nadają się do ekstrapolacji."
   ]
  }
 ],
 "metadata": {
  "kernelspec": {
   "display_name": "Python 3 (ipykernel)",
   "language": "python",
   "name": "python3"
  },
  "language_info": {
   "codemirror_mode": {
    "name": "ipython",
    "version": 3
   },
   "file_extension": ".py",
   "mimetype": "text/x-python",
   "name": "python",
   "nbconvert_exporter": "python",
   "pygments_lexer": "ipython3",
   "version": "3.11.7"
  }
 },
 "nbformat": 4,
 "nbformat_minor": 5
}
