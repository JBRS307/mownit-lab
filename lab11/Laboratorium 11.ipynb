{
 "cells": [
  {
   "cell_type": "markdown",
   "id": "85220ce2-90c8-49e3-a446-736cbc4d812d",
   "metadata": {},
   "source": [
    "# Zadanie 1"
   ]
  },
  {
   "cell_type": "markdown",
   "id": "9fc240c7-cb98-48f8-a7fb-012a2d637fbb",
   "metadata": {},
   "source": [
    "## $f(x,y)=x^2-4xy+y^2$"
   ]
  },
  {
   "cell_type": "markdown",
   "id": "d05838b1-077d-4f18-8725-13c33733e0d4",
   "metadata": {},
   "source": [
    "Pochodne cząstkowe tej funkcji wynoszą\n",
    "$$\\frac{\\partial{f}}{\\partial{x}}=2x-4y$$\n",
    "$$\\frac{\\partial{f}}{\\partial{y}}=2y-4x$$"
   ]
  },
  {
   "cell_type": "markdown",
   "id": "da3dfcee-2bcd-4f22-9648-2be7e23b29a3",
   "metadata": {},
   "source": [
    "Punkty krytyczne można znaleźć rozwiązując liniowy układ równań"
   ]
  },
  {
   "cell_type": "markdown",
   "id": "62895b39-00d0-4bd0-803b-f97979bf6732",
   "metadata": {},
   "source": [
    "$$\n",
    "\\begin{bmatrix}\n",
    "2 & -4 \\\\\n",
    "-4 & 2 \\\\\n",
    "\\end{bmatrix}\n",
    "\\begin{bmatrix}\n",
    "x \\\\\n",
    "y \\\\\n",
    "\\end{bmatrix}=\n",
    "\\begin{bmatrix}\n",
    "0 \\\\\n",
    "0 \\\\\n",
    "\\end{bmatrix}\n",
    "$$"
   ]
  },
  {
   "cell_type": "code",
   "execution_count": 1,
   "id": "5c45f3ea-0e99-4fa6-b624-657a5a7f7dfb",
   "metadata": {},
   "outputs": [],
   "source": [
    "import numpy as np"
   ]
  },
  {
   "cell_type": "code",
   "execution_count": 2,
   "id": "f209ed17-2873-430a-8953-d2d4b85792e6",
   "metadata": {},
   "outputs": [
    {
     "name": "stdout",
     "output_type": "stream",
     "text": [
      "x = -0.0, y = -0.0\n"
     ]
    }
   ],
   "source": [
    "A = np.array([[2, -4], [-4, 2]])\n",
    "b = np.array([0, 0])\n",
    "x, y = np.linalg.solve(A, b)\n",
    "print(f\"x = {x}, y = {y}\")"
   ]
  },
  {
   "cell_type": "markdown",
   "id": "99ffbaed-5434-4090-9361-5d5203f69c73",
   "metadata": {},
   "source": [
    "W wyniku czego otrzymujemy\n",
    "$$\n",
    "\\begin{bmatrix}\n",
    "x \\\\\n",
    "y \\\\\n",
    "\\end{bmatrix}=\n",
    "\\begin{bmatrix}\n",
    "0 \\\\\n",
    "0 \\\\\n",
    "\\end{bmatrix}\n",
    "$$"
   ]
  },
  {
   "cell_type": "markdown",
   "id": "53c069ae-5196-4cf3-9df4-a86bed75f1b1",
   "metadata": {},
   "source": [
    "Macierz Hessego $\\boldsymbol{H}$ wygląda następująco\n",
    "$$\n",
    "\\boldsymbol{H}=\n",
    "\\begin{bmatrix}\n",
    "2 & -4 \\\\\n",
    "-4 & 2 \\\\\n",
    "\\end{bmatrix}\n",
    "$$"
   ]
  },
  {
   "cell_type": "markdown",
   "id": "4a00054f-5dd0-4882-93ad-67fb2718f9eb",
   "metadata": {},
   "source": [
    "Minory tej macierzy mają następujące wyznaczniki\n",
    "$$\n",
    "\\begin{cases}\n",
    "\\boldsymbol{H}_1=2 \\\\\n",
    "\\boldsymbol{H}_2=4-16=-12\n",
    "\\end{cases}\n",
    "$$"
   ]
  },
  {
   "cell_type": "markdown",
   "id": "59810e09-92d9-4a08-bb9a-c024ca9ceeda",
   "metadata": {},
   "source": [
    "Macierz jest nieokreślona, zatem punkt $(x,y)=(0,0)$ jest punktem siodłowym."
   ]
  },
  {
   "cell_type": "markdown",
   "id": "4f2cf3b2-bc93-411e-96a2-802ede9859c3",
   "metadata": {},
   "source": [
    "Funkcja jest nieograniczona, zatem nie posiada minimum ani maksimum globalnego."
   ]
  },
  {
   "cell_type": "markdown",
   "id": "963c08bd-470d-47b7-b454-3b4f1502f65a",
   "metadata": {},
   "source": [
    "## $f(x,y)=x^4-4xy+y^4$"
   ]
  },
  {
   "cell_type": "markdown",
   "id": "a84bf695-407e-4711-bf16-3233ea1e3505",
   "metadata": {},
   "source": [
    "Pochodne cząstkowe\n",
    "$$\\frac{\\partial{f}}{\\partial{x}}=4x^3-4y$$\n",
    "$$\\frac{\\partial{f}}{\\partial{y}}=4y^3-4x$$"
   ]
  },
  {
   "cell_type": "markdown",
   "id": "d948bddf-780e-4324-9d3f-35dc6269a970",
   "metadata": {},
   "source": [
    "Aby znaleźć punkty krytyczne należy rozwiązać nieliniowy układ równań\n",
    "$$\n",
    "\\begin{cases}\n",
    "4x^3-4y=0 \\\\\n",
    "4y^3-4x=0 \\\\\n",
    "\\end{cases}\n",
    "$$"
   ]
  },
  {
   "cell_type": "code",
   "execution_count": 3,
   "id": "16db27df-0bec-4cfa-8265-dca87a7952b8",
   "metadata": {},
   "outputs": [],
   "source": [
    "import scipy.optimize as spo"
   ]
  },
  {
   "cell_type": "code",
   "execution_count": 4,
   "id": "bbe3463a-f6ad-4454-8054-2c7688ddd42b",
   "metadata": {},
   "outputs": [],
   "source": [
    "def fprime(args):\n",
    "    x = args[0]\n",
    "    y = args[1]\n",
    "    return [\n",
    "        4*x**3 - 4*y,\n",
    "        4*y**3 - 4*x\n",
    "    ]"
   ]
  },
  {
   "cell_type": "markdown",
   "id": "4ac84b25-b175-4d4c-b9aa-e50937c08236",
   "metadata": {},
   "source": [
    "Potencjalne rozwiązania układu można łatwo oszacować analitycznie."
   ]
  },
  {
   "cell_type": "code",
   "execution_count": 5,
   "id": "18250d74-5e70-4237-9562-a2d01a2558f1",
   "metadata": {},
   "outputs": [],
   "source": [
    "x1, y1 = spo.fsolve(fprime, (0, 0))\n",
    "x2, y2 = spo.fsolve(fprime, (1, 1))\n",
    "x3, y3 = spo.fsolve(fprime, (-1, -1))"
   ]
  },
  {
   "cell_type": "code",
   "execution_count": 6,
   "id": "c7850f83-ecae-48e5-8b9f-2d7cf073d7e3",
   "metadata": {},
   "outputs": [
    {
     "name": "stdout",
     "output_type": "stream",
     "text": [
      "(x1, y1) = (0.0, 0.0), (x2, y2) = (1.0, 1.0), (x3, y3) = (-1.0, -1.0)\n"
     ]
    }
   ],
   "source": [
    "print(f\"(x1, y1) = ({x1}, {y1}), (x2, y2) = ({x2}, {y2}), (x3, y3) = ({x3}, {y3})\")"
   ]
  },
  {
   "cell_type": "markdown",
   "id": "28263d72-4a05-4d98-a0c9-7420f7ebb782",
   "metadata": {},
   "source": [
    "Otrzymaliśmy 3 punkty krytyczne\n",
    "$$\n",
    "\\begin{cases}\n",
    "P_1=(0,0) \\\\\n",
    "P_2=(1,1) \\\\\n",
    "P_3=(-1,-1) \\\\\n",
    "\\end{cases}\n",
    "$$"
   ]
  },
  {
   "cell_type": "markdown",
   "id": "c6be2ec3-6629-4d66-ba49-3489fd30a02d",
   "metadata": {},
   "source": [
    "Macierz Hessego\n",
    "$$\n",
    "\\boldsymbol{H}(x,y)=\n",
    "\\begin{bmatrix}\n",
    "12x^2 & -4 \\\\\n",
    "-4 & 12y^2 \\\\\n",
    "\\end{bmatrix}\n",
    "$$"
   ]
  },
  {
   "cell_type": "code",
   "execution_count": 7,
   "id": "ae58392c-dce6-4eb2-a7a7-a2f885a69c0f",
   "metadata": {},
   "outputs": [],
   "source": [
    "def make_hessian(P):\n",
    "    x = P[0]\n",
    "    y = P[1]\n",
    "    return np.array([\n",
    "        [12*x**2, -4],\n",
    "        [-4, 12*y**2]\n",
    "    ])"
   ]
  },
  {
   "cell_type": "code",
   "execution_count": 8,
   "id": "9abfb236-721e-45b4-b232-5ade781c9e0b",
   "metadata": {},
   "outputs": [],
   "source": [
    "P1 = (x1, y1)\n",
    "P2 = (x2, y2)\n",
    "P3 = (x3, y3)"
   ]
  },
  {
   "cell_type": "code",
   "execution_count": 9,
   "id": "29785fac-8ff0-4002-92f5-239f20d09d59",
   "metadata": {},
   "outputs": [
    {
     "name": "stdout",
     "output_type": "stream",
     "text": [
      "H1 is NOT positive definite!\n"
     ]
    }
   ],
   "source": [
    "H1 = make_hessian(P1)\n",
    "try:\n",
    "    np.linalg.cholesky(H1)\n",
    "except np.linalg.LinAlgError:\n",
    "    print(\"H1 is NOT positive definite!\")\n",
    "else:\n",
    "    print(\"H1 is positive definite!\")"
   ]
  },
  {
   "cell_type": "markdown",
   "id": "637b7427-f0d7-4dab-81ff-5b18585f7710",
   "metadata": {},
   "source": [
    "Macierz nie jest dodatnio określona, niestety trzeba teraz ręcznie sprawdzić, czy jest ujemnie określona"
   ]
  },
  {
   "cell_type": "markdown",
   "id": "ebfc697d-54f4-4b1f-b6e2-2022667a22d0",
   "metadata": {},
   "source": [
    "$$\n",
    "\\boldsymbol{H}(0,0)=\n",
    "\\begin{bmatrix}\n",
    "0 & -4 \\\\\n",
    "-4 & 0 \\\\\n",
    "\\end{bmatrix}\n",
    "$$"
   ]
  },
  {
   "cell_type": "markdown",
   "id": "499722a7-6289-4053-b76f-48cd8c72f3ed",
   "metadata": {},
   "source": [
    "$$\n",
    "\\begin{cases}\n",
    "\\boldsymbol{H}_1=0 \\\\\n",
    "\\boldsymbol{H}_2=-16 \\\\\n",
    "\\end{cases}\n",
    "$$"
   ]
  },
  {
   "cell_type": "markdown",
   "id": "f9c8a6b8-a32c-46a4-ae9d-74edbdeb3fa8",
   "metadata": {},
   "source": [
    "Macierz jest nieokreślona, zatem punkt $(0,0)$ jest punktem siodłowym."
   ]
  },
  {
   "cell_type": "code",
   "execution_count": 10,
   "id": "84b6030e-6669-44e9-803a-3aea52fc9dd1",
   "metadata": {},
   "outputs": [
    {
     "name": "stdout",
     "output_type": "stream",
     "text": [
      "H1 is positive definite!\n"
     ]
    }
   ],
   "source": [
    "H2 = make_hessian(P2)\n",
    "try:\n",
    "    np.linalg.cholesky(H2)\n",
    "except np.linalg.LinAlgError:\n",
    "    print(\"H1 is NOT positive definite!\")\n",
    "else:\n",
    "    print(\"H1 is positive definite!\")"
   ]
  },
  {
   "cell_type": "markdown",
   "id": "01490989-5b60-4f1e-80a2-27ceb2c0ea29",
   "metadata": {},
   "source": [
    "Macierz $\\boldsymbol{H}(1,1)$ jest dodatnio określona, zatem w punkcie $(1,1)$ funkcja przyjmuje minimum."
   ]
  },
  {
   "cell_type": "code",
   "execution_count": 11,
   "id": "588eb001-5384-4f32-8611-838fd88063b3",
   "metadata": {},
   "outputs": [
    {
     "name": "stdout",
     "output_type": "stream",
     "text": [
      "H1 is positive definite!\n"
     ]
    }
   ],
   "source": [
    "H3 = make_hessian(P3)\n",
    "try:\n",
    "    np.linalg.cholesky(H3)\n",
    "except np.linalg.LinAlgError:\n",
    "    print(\"H1 is NOT positive definite!\")\n",
    "else:\n",
    "    print(\"H1 is positive definite!\")"
   ]
  },
  {
   "cell_type": "markdown",
   "id": "ea71ebc2-2de2-45bf-87ce-56ae3b1e6c23",
   "metadata": {},
   "source": [
    "Macierz $\\boldsymbol{H}(1,1)$ również jest dodatnio określona, zatem w punkcie $(1,1)$ funkcja przyjmuje minimum."
   ]
  },
  {
   "cell_type": "code",
   "execution_count": 12,
   "id": "5b6df0dd-39aa-4764-8a02-fc463dcbe86d",
   "metadata": {},
   "outputs": [
    {
     "name": "stdout",
     "output_type": "stream",
     "text": [
      "-2.0 -2.0\n"
     ]
    }
   ],
   "source": [
    "f = lambda x, y: x**4 - 4*x*y + y**4\n",
    "val2 = f(x2, y2)\n",
    "val3 = f(x3, y3)\n",
    "print(val2, val3)"
   ]
  },
  {
   "cell_type": "markdown",
   "id": "4588ce3b-73cb-4ac0-a1fd-6ff7dbcc5d11",
   "metadata": {},
   "source": [
    "Funkcja przyjmuje takie same wartości w punktach $P_1$ i $P_2$, punkty te są minimami globalnymi"
   ]
  },
  {
   "cell_type": "markdown",
   "id": "324850df-ff3b-43c0-a30d-73591082a064",
   "metadata": {},
   "source": [
    "## $f(x,y)=2x^3-3x^2-6xy(x-y-1)$"
   ]
  },
  {
   "cell_type": "markdown",
   "id": "b69b94b2-3ad9-48a1-a650-6d6a1c252b20",
   "metadata": {},
   "source": [
    "Pochodne cząstkowe wynoszą\n",
    "$$\\frac{\\partial{f}}{\\partial{x}}=6(x^2-2xy-x+y^2+y)$$\n",
    "$$\\frac{\\partial{f}}{\\partial{y}}=-6x(x-2y-1)$$"
   ]
  },
  {
   "cell_type": "markdown",
   "id": "fcae31a8-80d6-43a4-8ccc-40d8736644f3",
   "metadata": {},
   "source": [
    "$$\n",
    "\\begin{cases}\n",
    "x^2-2xy-x+y^2+y=0 \\\\\n",
    "x^2-2yx-x=0 \\\\\n",
    "\\end{cases}\n",
    "$$"
   ]
  },
  {
   "cell_type": "code",
   "execution_count": 13,
   "id": "8d692210-2e3a-4c74-a5f4-43bd842cadaa",
   "metadata": {},
   "outputs": [],
   "source": [
    "def fprime(P):\n",
    "    x = P[0]\n",
    "    y = P[1]\n",
    "    return [\n",
    "        x**2 - 2*x*y - x + y**2 + y,\n",
    "        x**2 - 2*x*y - x\n",
    "    ]"
   ]
  },
  {
   "cell_type": "code",
   "execution_count": 14,
   "id": "0fc911e1-2d38-4f32-9ef8-12437c5eac45",
   "metadata": {},
   "outputs": [
    {
     "name": "stdout",
     "output_type": "stream",
     "text": [
      "(1.0, 0.0)\n",
      "(0.0, -1.0)\n",
      "(-1.0, -1.0)\n",
      "(0.0, 0.0)\n"
     ]
    }
   ],
   "source": [
    "solution_set = set()\n",
    "for x in range(-1, 2):\n",
    "    for y in range(-1, 2):\n",
    "        sol_x, sol_y = spo.fsolve(fprime, (x, y))\n",
    "        solution_set.add((round(sol_x, 5), round(sol_y, 5)))\n",
    "print(*solution_set, sep=\"\\n\")"
   ]
  },
  {
   "cell_type": "markdown",
   "id": "1ead1dd9-0949-4989-bf1a-56d53ed99989",
   "metadata": {},
   "source": [
    "Funkcja ma 4 punkty krytyczne\n",
    "$$\n",
    "\\begin{cases}\n",
    "P_1=(-1,-1) \\\\\n",
    "P_2=(0,0) \\\\\n",
    "P_3=(1,0) \\\\\n",
    "P_4=(0,-1) \\\\\n",
    "\\end{cases}\n",
    "$$"
   ]
  },
  {
   "cell_type": "markdown",
   "id": "77747638-386a-451a-8ed3-90a3aa453b9e",
   "metadata": {},
   "source": [
    "Macierz Hessego\n",
    "$$\n",
    "\\boldsymbol{H}(x,y)=\n",
    "\\begin{bmatrix}\n",
    "12x-12y-6 & -6(x-y-1)-6x+6y \\\\\n",
    "-6(x-y-1)-6x+6y & 12x \\\\\n",
    "\\end{bmatrix}\n",
    "$$"
   ]
  },
  {
   "cell_type": "code",
   "execution_count": 15,
   "id": "93787844-1a3d-4eca-bc78-b26959c9cd28",
   "metadata": {},
   "outputs": [],
   "source": [
    "def make_hessian(P):\n",
    "    x = P[0]\n",
    "    y = P[1]\n",
    "    return np.array([\n",
    "        [12*x-12*y-6, -6*(x-y-1) - 6*x + 6*y],\n",
    "        [-6*(x-y-1) - 6*x + 6*y, 12*x]\n",
    "    ])"
   ]
  },
  {
   "cell_type": "code",
   "execution_count": 16,
   "id": "593dd212-f5cc-49de-aaa7-4fa84cc5498a",
   "metadata": {},
   "outputs": [],
   "source": [
    "# returns 1 if negative definite, -1 if semi definite and 0 if indefinite\n",
    "def check_negative_definite(H):\n",
    "    flag = True\n",
    "    if H[0][0] > 0:\n",
    "        return 0\n",
    "    elif H[0][0] == 0:\n",
    "        flag = False\n",
    "\n",
    "    det = np.linalg.det(H)\n",
    "    if det < 0:\n",
    "        return 0\n",
    "    elif det == 0:\n",
    "        flag = False\n",
    "\n",
    "    return 1 if flag else -1"
   ]
  },
  {
   "cell_type": "code",
   "execution_count": 17,
   "id": "acae31b5-dc08-491b-90c2-8aa01c65648b",
   "metadata": {},
   "outputs": [
    {
     "name": "stdout",
     "output_type": "stream",
     "text": [
      "H1 is NOT positive definite!\n"
     ]
    }
   ],
   "source": [
    "H1 = make_hessian((-1, -1))\n",
    "try:\n",
    "    np.linalg.cholesky(H1)\n",
    "except np.linalg.LinAlgError:\n",
    "    print(\"H1 is NOT positive definite!\")\n",
    "else:\n",
    "    print(\"H1 is positive definite!\")"
   ]
  },
  {
   "cell_type": "markdown",
   "id": "7a27199a-5028-4d31-bd66-28d076d8f6f4",
   "metadata": {},
   "source": [
    "Macierz nie jest dodatnio określona, trzeba ją sprawdzić ręcznie."
   ]
  },
  {
   "cell_type": "code",
   "execution_count": 18,
   "id": "6dfd79b9-c0ac-4ac3-abdb-28a5e650ccc0",
   "metadata": {},
   "outputs": [
    {
     "data": {
      "text/plain": [
       "1"
      ]
     },
     "execution_count": 18,
     "metadata": {},
     "output_type": "execute_result"
    }
   ],
   "source": [
    "check_negative_definite(H1)"
   ]
  },
  {
   "cell_type": "markdown",
   "id": "857aa2da-36df-4bc8-b9e8-674bb6842cb0",
   "metadata": {},
   "source": [
    "Funkcja zwróciła 1, co oznacza, że macierz jest ujemnie określona, zatem w punkcie $(-1,-1)$ występuje maksimum."
   ]
  },
  {
   "cell_type": "code",
   "execution_count": 19,
   "id": "e0b0ee2a-2898-44f8-88a8-70f617f7be5b",
   "metadata": {},
   "outputs": [
    {
     "name": "stdout",
     "output_type": "stream",
     "text": [
      "H1 is NOT positive definite!\n"
     ]
    }
   ],
   "source": [
    "H2 = make_hessian((0, 0))\n",
    "try:\n",
    "    np.linalg.cholesky(H2)\n",
    "except np.linalg.LinAlgError:\n",
    "    print(\"H1 is NOT positive definite!\")\n",
    "else:\n",
    "    print(\"H1 is positive definite!\")"
   ]
  },
  {
   "cell_type": "code",
   "execution_count": 20,
   "id": "cb12b62e-27da-4037-acbd-09675b22b9df",
   "metadata": {},
   "outputs": [
    {
     "data": {
      "text/plain": [
       "0"
      ]
     },
     "execution_count": 20,
     "metadata": {},
     "output_type": "execute_result"
    }
   ],
   "source": [
    "check_negative_definite(H2)"
   ]
  },
  {
   "cell_type": "markdown",
   "id": "3fb551f0-ae0b-4599-b19f-074b2642317b",
   "metadata": {},
   "source": [
    "Macierz jest nieokreślona, co oznacza, że punkt $(0,0)$ jest punktem siodłowym."
   ]
  },
  {
   "cell_type": "code",
   "execution_count": 21,
   "id": "3865e3e4-bee2-46bd-8375-38db1841f93d",
   "metadata": {},
   "outputs": [
    {
     "name": "stdout",
     "output_type": "stream",
     "text": [
      "H1 is positive definite!\n"
     ]
    }
   ],
   "source": [
    "H3 = make_hessian((1, 0))\n",
    "try:\n",
    "    np.linalg.cholesky(H3)\n",
    "except np.linalg.LinAlgError:\n",
    "    print(\"H1 is NOT positive definite!\")\n",
    "else:\n",
    "    print(\"H1 is positive definite!\")"
   ]
  },
  {
   "cell_type": "markdown",
   "id": "6c9cf6a8-15f9-4469-abf1-b6eaca75fc10",
   "metadata": {},
   "source": [
    "Macierz jest dodatnio określona, w punkcie $(1,0)$ jest minimum."
   ]
  },
  {
   "cell_type": "code",
   "execution_count": 22,
   "id": "607f6b50-9a2f-43db-9c57-d038e06f4349",
   "metadata": {},
   "outputs": [
    {
     "name": "stdout",
     "output_type": "stream",
     "text": [
      "H1 is NOT positive definite!\n"
     ]
    }
   ],
   "source": [
    "H4 = make_hessian((0, -1))\n",
    "try:\n",
    "    np.linalg.cholesky(H4)\n",
    "except np.linalg.LinAlgError:\n",
    "    print(\"H1 is NOT positive definite!\")\n",
    "else:\n",
    "    print(\"H1 is positive definite!\")"
   ]
  },
  {
   "cell_type": "code",
   "execution_count": 23,
   "id": "8a18ac13-7e44-498f-bae4-d9ba31afdb37",
   "metadata": {},
   "outputs": [
    {
     "data": {
      "text/plain": [
       "0"
      ]
     },
     "execution_count": 23,
     "metadata": {},
     "output_type": "execute_result"
    }
   ],
   "source": [
    "check_negative_definite(H4)"
   ]
  },
  {
   "cell_type": "markdown",
   "id": "91a7feb9-9828-4fdb-a704-4d8727c876c5",
   "metadata": {},
   "source": [
    "Macierz jest nieokreślona, punkt $(0,-1)$ jest punktem siodłowym"
   ]
  },
  {
   "cell_type": "markdown",
   "id": "39117b24-892d-4eba-95fd-5935c25585b9",
   "metadata": {},
   "source": [
    "Funkcja nie posiada maksimum ani minimum globalnego."
   ]
  },
  {
   "cell_type": "markdown",
   "id": "9b75bb68-1973-4859-9236-ef35de4bd035",
   "metadata": {},
   "source": [
    "## $f(x,y)=(x-y)^4+x^2-y^2-2x+2y+1$"
   ]
  },
  {
   "cell_type": "markdown",
   "id": "037242fb-1e8e-4d85-b033-fbd6ca501fb5",
   "metadata": {},
   "source": [
    "$$\\frac{\\partial{f}}{\\partial{x}}=4(x-y)^3+2x-1$$\n",
    "$$\\frac{\\partial{f}}{\\partial{y}}=-4(x-y)^3-2y+2$$"
   ]
  },
  {
   "cell_type": "code",
   "execution_count": 24,
   "id": "f84052d5-5fab-4adc-bb83-971ecf2aa144",
   "metadata": {},
   "outputs": [],
   "source": [
    "def fprime(P):\n",
    "    x = P[0]\n",
    "    y = P[1]\n",
    "    return [\n",
    "        4*(x-y)**3 + 2*x - 1,\n",
    "        -4*(x-y)**3 - 2*y + 2\n",
    "    ]"
   ]
  },
  {
   "cell_type": "code",
   "execution_count": 25,
   "id": "dd700103-9079-49e7-9c09-e4ee6f5af523",
   "metadata": {},
   "outputs": [
    {
     "name": "stdout",
     "output_type": "stream",
     "text": [
      "(0.75, 1.25)\n"
     ]
    }
   ],
   "source": [
    "solution_set = set()\n",
    "for x in range(-2, 3):\n",
    "    for y in range(-2, 3):\n",
    "        sol_x, sol_y = spo.fsolve(fprime, (x, y))\n",
    "        solution_set.add((round(sol_x, 5), round(sol_y, 5)))\n",
    "print(*solution_set, sep=\"\\n\")"
   ]
  },
  {
   "cell_type": "markdown",
   "id": "e3cef97e-d84a-4b27-8541-fae753b2712a",
   "metadata": {},
   "source": [
    "Funkcja ma tylko 1 punkt krytyczny $P=(0.75,1.25)$"
   ]
  },
  {
   "cell_type": "markdown",
   "id": "58def2cf-a6e1-4133-b1e4-486c1658839f",
   "metadata": {},
   "source": [
    "Macierz Hessego dla punktu $P$\n",
    "$$\n",
    "\\boldsymbol{H}=\n",
    "\\begin{bmatrix}\n",
    "5 & -3 \\\\\n",
    "-3 & 1 \\\\\n",
    "\\end{bmatrix}\n",
    "$$"
   ]
  },
  {
   "cell_type": "markdown",
   "id": "ee9db61f-a895-4ef5-a063-aa795b0b1832",
   "metadata": {},
   "source": [
    "$$\n",
    "\\begin{cases}\n",
    "\\boldsymbol{H}_1=5 \\\\\n",
    "\\boldsymbol{H}_2=5-9=-4 \\\\\n",
    "\\end{cases}\n",
    "$$"
   ]
  },
  {
   "cell_type": "markdown",
   "id": "b1fb04a3-057f-4037-83ef-c17a2d8787f8",
   "metadata": {},
   "source": [
    "Macierz jest nieokreślona, punkt $(0.75,1.25)$ jest punktem siodłowym, funkcja nie ma minimum ani maksimum globalnego."
   ]
  },
  {
   "cell_type": "markdown",
   "id": "0a1a8dd0-ee13-4ff7-b0a6-28f08bd7b250",
   "metadata": {},
   "source": [
    "# Zadanie 2"
   ]
  },
  {
   "cell_type": "markdown",
   "id": "a7f1cda9-6b03-4072-b820-ab21f8389f3c",
   "metadata": {},
   "source": [
    "$$F(\\textbf{x})=\\lambda_1\\sum_{i=0}^n\\sum_{j=0}^{k-1}\\frac{1}{\\epsilon+||x_i-r_j||_2^2}+\\lambda_2\\sum_{i=0}^{n-1}||x_{i+1}-x_i||_2^2$$\n",
    "$$F:\\mathbb{R}^{n\\times2}\\rightarrow\\mathbb{R}$$"
   ]
  },
  {
   "cell_type": "markdown",
   "id": "9c3c01bb-843c-4abd-9efe-6c407d9d6246",
   "metadata": {},
   "source": [
    "Funkcja największego spadku dla $\\textbf{x}$."
   ]
  },
  {
   "cell_type": "markdown",
   "id": "95536ba9-d3f5-423c-9f66-f1fea4b4e564",
   "metadata": {},
   "source": [
    "$$\\nabla{}F(\\textbf{x})=\\frac{\\partial{F}}{\\partial{\\textbf{x}}}=-\\lambda_1\\sum_{j=0}^{k-1}\\left[\\frac{2(x_i-r_j)}{(\\epsilon+||x_i-r_j||_2^2)^2}\\right]+\\lambda_2(-2(x_{i+1}-x_i)+2(x_i-x_{i-1}))$$\n",
    "$$\\nabla{}F:\\mathbb{R}^{n\\times2}\\rightarrow\\mathbb{R}^{n\\times2}$$"
   ]
  },
  {
   "cell_type": "markdown",
   "id": "ca0e8434-e154-42ad-9dd1-ced2dec4513a",
   "metadata": {},
   "source": [
    "Algorytm najmniejszego spadku wykorzystuje poczkątkowe ustawienie punktów $\\textbf{x}_0$, następnie na ich podstawie wyliczane są następne ustawienia, dla których funkcja osiąga coraz mniejsze wartości.\n",
    "$$\\textbf{x}_{k+1}=\\textbf{x}_k-\\alpha_k\\nabla{}F(\\textbf{x}_k)$$\n",
    "Gdzie $\\alpha$ szukane jest poprzez minimalizację\n",
    "$$\\min_{\\alpha}F(\\textbf{x}_k-\\alpha\\nabla{}F(\\textbf{x}_k))$$\n",
    "Minimalizacja jest minimalizacją jednej zmiennej $\\alpha$, więc można zastosować algorytm *golden section search*.  \n",
    "Do minimalizacji *golden section search* jako przedział podstawowy został wybrany przedział $[0,441]$, ze względu na wymiary planszy robota $21\\times21$"
   ]
  },
  {
   "cell_type": "code",
   "execution_count": 26,
   "id": "c148ea7f-4d26-42c1-b829-a17463cd9ac4",
   "metadata": {},
   "outputs": [],
   "source": [
    "import random\n",
    "from copy import deepcopy\n",
    "import matplotlib.pyplot as plt"
   ]
  },
  {
   "cell_type": "code",
   "execution_count": 27,
   "id": "ac26f734-1963-43f5-90a5-9394f0fd1eda",
   "metadata": {},
   "outputs": [],
   "source": [
    "def F(x, r):\n",
    "    lambda1 = lambda2 = 1\n",
    "    n = len(x)\n",
    "    k = len(r)\n",
    "    epsilon = 1e-13\n",
    "\n",
    "    res1 = 0\n",
    "    for i in range(n):\n",
    "        for j in range(k):\n",
    "            res1 += 1 / (epsilon + np.linalg.norm(x[i] - r[j])**2)\n",
    "\n",
    "    res1 *= lambda1\n",
    "\n",
    "    res2 = 0\n",
    "    for i in range(n-1):\n",
    "        res2 += np.linalg.norm(x[i+1] - x[i])**2\n",
    "\n",
    "    res2 *= lambda2\n",
    "\n",
    "    return res1 + res2\n",
    "        \n",
    "\n",
    "def gradient(x, r):\n",
    "    lambda1 = lambda2 = 1\n",
    "    n = len(x)\n",
    "    k = len(r)\n",
    "    epsilon = 1e-13\n",
    "\n",
    "    res = [None for _ in range(n)]\n",
    "    for i in range(1, n-1):\n",
    "        res[i] = -lambda1 * np.sum([(2 * (x[i] - r[j])) / (epsilon + np.linalg.norm(x[i] - r[j])**2)**2 for j in range(k)], axis=0) + lambda2*(-2*(x[i+1] - x[i]) + 2*(x[i] - x[i] - 1))\n",
    "\n",
    "    res[0] = np.array([0, 0])\n",
    "    res[-1] = np.array([0, 0])\n",
    "    return np.array(res)"
   ]
  },
  {
   "cell_type": "code",
   "execution_count": 28,
   "id": "e2b94750-0d32-4460-bd2e-bb41b6cfd889",
   "metadata": {},
   "outputs": [],
   "source": [
    "def golden_search(f, x, r):\n",
    "    a = 0\n",
    "    b = 441\n",
    "    t = (np.sqrt(5)-1) / 2\n",
    "    x1 = a + (1 - t) * (b - a)\n",
    "    f1 = f(x1, x, r)\n",
    "    x2 = a + t*(b-a)\n",
    "    f2 = f(x2, x, r)\n",
    "    tol = 1e-5\n",
    "    while (b-a) > tol:\n",
    "        if f1 > f2:\n",
    "            a = x1\n",
    "            x1 = x2\n",
    "            f1 = f2\n",
    "            x2 = a + t*(b-a)\n",
    "            f2 = f(x2, x, r)\n",
    "        else:\n",
    "            b = x2\n",
    "            x2 = x1\n",
    "            f2 = f1\n",
    "            x1 = a + (1 - t) * (b - a)\n",
    "            f1 = f(x1, x, r)\n",
    "\n",
    "    return (a+b)/2\n",
    "\n",
    "def F_min(alfa, x0, r):\n",
    "    return F(x0 - alfa * gradient(x0, r), r)\n",
    "\n",
    "def minimize(x, r):\n",
    "    x0 = deepcopy(x)\n",
    "    for _ in range(400):\n",
    "        alfa = golden_search(F_min, x0, r)\n",
    "        x0 = x0 - alfa * gradient(x0, r)\n",
    "    return x0\n",
    "    "
   ]
  },
  {
   "cell_type": "code",
   "execution_count": 29,
   "id": "968467c1-ec1d-44a3-8e00-2c7515746223",
   "metadata": {},
   "outputs": [],
   "source": [
    "rng = random.Random(2137)"
   ]
  },
  {
   "cell_type": "markdown",
   "id": "9927acad-b998-4d85-b971-c94c2bd3de17",
   "metadata": {},
   "source": [
    "## Próba 1"
   ]
  },
  {
   "cell_type": "code",
   "execution_count": 30,
   "id": "63f44094-0bc8-4094-b221-176eaa4decc2",
   "metadata": {},
   "outputs": [],
   "source": [
    "points = [np.array([rng.randrange(0, 21), rng.randrange(0,21)]) for _ in range(21)]\n",
    "points[0] = np.array([0, 0])\n",
    "points[-1] = np.array([20, 20])\n",
    "obstacles = [np.array([rng.randrange(1, 20), rng.randrange(1, 20)]) for _ in range(50)]\n",
    "points_xs = [points[i][0] for i in range(21)]\n",
    "points_ys = [points[i][1] for i in range(21)]\n",
    "obstacles_xs = [obstacles[i][0] for i in range(50)]\n",
    "obstacles_ys = [obstacles[i][1] for i in range(50)]"
   ]
  },
  {
   "cell_type": "code",
   "execution_count": 31,
   "id": "0bc14cd7-e0b7-4731-bdf7-185a6573ae86",
   "metadata": {},
   "outputs": [
    {
     "data": {
      "image/png": "[encoded data removed]",
      "text/plain": [
       "<Figure size 640x480 with 1 Axes>"
      ]
     },
     "metadata": {},
     "output_type": "display_data"
    }
   ],
   "source": [
    "plt.scatter(points_xs, points_ys, color=\"blue\", label=\"points\")\n",
    "plt.scatter(obstacles_xs, obstacles_ys, color=\"red\", label=\"obstacles\")\n",
    "plt.legend()\n",
    "plt.show()"
   ]
  },
  {
   "cell_type": "code",
   "execution_count": 32,
   "id": "098d8ff0-e60c-4174-97bf-52b2ce3cb879",
   "metadata": {},
   "outputs": [],
   "source": [
    "shortest = minimize(points, obstacles)"
   ]
  },
  {
   "cell_type": "code",
   "execution_count": 33,
   "id": "59f95317-735f-42ee-a525-004a8482c66f",
   "metadata": {},
   "outputs": [
    {
     "name": "stdout",
     "output_type": "stream",
     "text": [
      "Function result: 40000000004863.68\n"
     ]
    }
   ],
   "source": [
    "print(f\"Function result: {F(points, obstacles)}\")"
   ]
  },
  {
   "cell_type": "code",
   "execution_count": 34,
   "id": "cc759c31-f800-480e-8b7f-198758913914",
   "metadata": {},
   "outputs": [],
   "source": [
    "shortest_xs = [shortest[i][0] for i in range(21)]\n",
    "shortest_ys = [shortest[i][1] for i in range(21)]"
   ]
  },
  {
   "cell_type": "code",
   "execution_count": 35,
   "id": "e4648582-6a85-4130-931a-cd966917f125",
   "metadata": {},
   "outputs": [
    {
     "data": {
      "image/png": "[encoded data removed]",
      "text/plain": [
       "<Figure size 640x480 with 1 Axes>"
      ]
     },
     "metadata": {},
     "output_type": "display_data"
    }
   ],
   "source": [
    "plt.scatter(shortest_xs, shortest_ys, color=\"blue\", label=\"points\")\n",
    "plt.scatter(obstacles_xs, obstacles_ys, color=\"red\", label=\"obstacles\")\n",
    "plt.legend()\n",
    "plt.show()"
   ]
  },
  {
   "cell_type": "markdown",
   "id": "28ea34b0-7d81-4db3-a0da-ff102fcd025d",
   "metadata": {},
   "source": [
    "## Próba 2"
   ]
  },
  {
   "cell_type": "code",
   "execution_count": 36,
   "id": "f020bc9c-bd70-4e6f-82f8-3c7af3af139b",
   "metadata": {},
   "outputs": [],
   "source": [
    "points = [np.array([rng.randrange(0, 21), rng.randrange(0,21)]) for _ in range(21)]\n",
    "points[0] = np.array([0, 0])\n",
    "points[-1] = np.array([20, 20])\n",
    "obstacles = [np.array([rng.randrange(1, 20), rng.randrange(1, 20)]) for _ in range(50)]\n",
    "points_xs = [points[i][0] for i in range(21)]\n",
    "points_ys = [points[i][1] for i in range(21)]\n",
    "obstacles_xs = [obstacles[i][0] for i in range(50)]\n",
    "obstacles_ys = [obstacles[i][1] for i in range(50)]"
   ]
  },
  {
   "cell_type": "code",
   "execution_count": 37,
   "id": "9702a584-9dc8-45af-b552-584a0836153e",
   "metadata": {},
   "outputs": [
    {
     "data": {
      "image/png": "[encoded data removed]",
      "text/plain": [
       "<Figure size 640x480 with 1 Axes>"
      ]
     },
     "metadata": {},
     "output_type": "display_data"
    }
   ],
   "source": [
    "plt.scatter(points_xs, points_ys, color=\"blue\", label=\"points\")\n",
    "plt.scatter(obstacles_xs, obstacles_ys, color=\"red\", label=\"obstacles\")\n",
    "plt.legend()\n",
    "plt.show()"
   ]
  },
  {
   "cell_type": "code",
   "execution_count": 38,
   "id": "e793b0bb-1193-4e14-9139-0963efb003db",
   "metadata": {},
   "outputs": [],
   "source": [
    "shortest = minimize(points, obstacles)"
   ]
  },
  {
   "cell_type": "code",
   "execution_count": 39,
   "id": "835d5fe3-545e-44f4-8b0b-7f65fb41eb99",
   "metadata": {},
   "outputs": [
    {
     "name": "stdout",
     "output_type": "stream",
     "text": [
      "Function result: 2540.1306437524804\n"
     ]
    }
   ],
   "source": [
    "print(f\"Function result: {F(points, obstacles)}\")"
   ]
  },
  {
   "cell_type": "code",
   "execution_count": 40,
   "id": "8e1c3b47-90e6-446a-a702-69bc3c39b9c2",
   "metadata": {},
   "outputs": [],
   "source": [
    "shortest_xs = [shortest[i][0] for i in range(21)]\n",
    "shortest_ys = [shortest[i][1] for i in range(21)]"
   ]
  },
  {
   "cell_type": "code",
   "execution_count": 41,
   "id": "a594c84f-d306-4a27-b722-21ffba06cd9c",
   "metadata": {},
   "outputs": [
    {
     "data": {
      "image/png": "[encoded data removed]",
      "text/plain": [
       "<Figure size 640x480 with 1 Axes>"
      ]
     },
     "metadata": {},
     "output_type": "display_data"
    }
   ],
   "source": [
    "plt.scatter(shortest_xs, shortest_ys, color=\"blue\", label=\"points\")\n",
    "plt.scatter(obstacles_xs, obstacles_ys, color=\"red\", label=\"obstacles\")\n",
    "plt.legend()\n",
    "plt.show()"
   ]
  },
  {
   "cell_type": "markdown",
   "id": "54ec795c-0e06-48c9-93ca-b16f02416185",
   "metadata": {},
   "source": [
    "## Próba 3"
   ]
  },
  {
   "cell_type": "code",
   "execution_count": 42,
   "id": "a59813a1-b454-4432-9e4b-36a6ca765f11",
   "metadata": {},
   "outputs": [],
   "source": [
    "points = [np.array([rng.randrange(0, 21), rng.randrange(0,21)]) for _ in range(21)]\n",
    "points[0] = np.array([0, 0])\n",
    "points[-1] = np.array([20, 20])\n",
    "obstacles = [np.array([rng.randrange(1, 20), rng.randrange(1, 20)]) for _ in range(50)]\n",
    "points_xs = [points[i][0] for i in range(21)]\n",
    "points_ys = [points[i][1] for i in range(21)]\n",
    "obstacles_xs = [obstacles[i][0] for i in range(50)]\n",
    "obstacles_ys = [obstacles[i][1] for i in range(50)]"
   ]
  },
  {
   "cell_type": "code",
   "execution_count": 43,
   "id": "e850130a-824f-462f-8700-4ea39279d7d5",
   "metadata": {},
   "outputs": [
    {
     "data": {
      "image/png": "[encoded data removed]",
      "text/plain": [
       "<Figure size 640x480 with 1 Axes>"
      ]
     },
     "metadata": {},
     "output_type": "display_data"
    }
   ],
   "source": [
    "plt.scatter(points_xs, points_ys, color=\"blue\", label=\"points\")\n",
    "plt.scatter(obstacles_xs, obstacles_ys, color=\"red\", label=\"obstacles\")\n",
    "plt.legend()\n",
    "plt.show()"
   ]
  },
  {
   "cell_type": "code",
   "execution_count": 44,
   "id": "95be562e-0f56-4c4c-acae-63f2c4b3b4f2",
   "metadata": {},
   "outputs": [],
   "source": [
    "shortest = minimize(points, obstacles)"
   ]
  },
  {
   "cell_type": "code",
   "execution_count": 45,
   "id": "64d76d8c-15a3-424f-a810-13da7a7dc066",
   "metadata": {},
   "outputs": [
    {
     "name": "stdout",
     "output_type": "stream",
     "text": [
      "Function result: 20000000003079.777\n"
     ]
    }
   ],
   "source": [
    "print(f\"Function result: {F(points, obstacles)}\")"
   ]
  },
  {
   "cell_type": "code",
   "execution_count": 46,
   "id": "0d0abd24-df5e-4cff-9a3c-23af89da494a",
   "metadata": {},
   "outputs": [],
   "source": [
    "shortest_xs = [shortest[i][0] for i in range(21)]\n",
    "shortest_ys = [shortest[i][1] for i in range(21)]"
   ]
  },
  {
   "cell_type": "code",
   "execution_count": 47,
   "id": "64b5d222-25b8-41f0-a5a7-7e91416ab6ba",
   "metadata": {},
   "outputs": [
    {
     "data": {
      "image/png": "[encoded data removed]",
      "text/plain": [
       "<Figure size 640x480 with 1 Axes>"
      ]
     },
     "metadata": {},
     "output_type": "display_data"
    }
   ],
   "source": [
    "plt.scatter(shortest_xs, shortest_ys, color=\"blue\", label=\"points\")\n",
    "plt.scatter(obstacles_xs, obstacles_ys, color=\"red\", label=\"obstacles\")\n",
    "plt.legend()\n",
    "plt.show()"
   ]
  },
  {
   "cell_type": "markdown",
   "id": "4e1e5dae-7f55-46d3-8da0-d73d84e1e10b",
   "metadata": {},
   "source": [
    "## Próba 4"
   ]
  },
  {
   "cell_type": "code",
   "execution_count": 48,
   "id": "5adfb4c0-e426-4675-a539-0af3696e62fc",
   "metadata": {},
   "outputs": [],
   "source": [
    "points = [np.array([rng.randrange(0, 21), rng.randrange(0,21)]) for _ in range(21)]\n",
    "points[0] = np.array([0, 0])\n",
    "points[-1] = np.array([20, 20])\n",
    "obstacles = [np.array([rng.randrange(1, 20), rng.randrange(1, 20)]) for _ in range(50)]\n",
    "points_xs = [points[i][0] for i in range(21)]\n",
    "points_ys = [points[i][1] for i in range(21)]\n",
    "obstacles_xs = [obstacles[i][0] for i in range(50)]\n",
    "obstacles_ys = [obstacles[i][1] for i in range(50)]"
   ]
  },
  {
   "cell_type": "code",
   "execution_count": 49,
   "id": "eace6c99-e3b1-4190-aefd-c8023c66aabe",
   "metadata": {},
   "outputs": [
    {
     "data": {
      "image/png": "[encoded data removed]",
      "text/plain": [
       "<Figure size 640x480 with 1 Axes>"
      ]
     },
     "metadata": {},
     "output_type": "display_data"
    }
   ],
   "source": [
    "plt.scatter(points_xs, points_ys, color=\"blue\", label=\"points\")\n",
    "plt.scatter(obstacles_xs, obstacles_ys, color=\"red\", label=\"obstacles\")\n",
    "plt.legend()\n",
    "plt.show()"
   ]
  },
  {
   "cell_type": "code",
   "execution_count": 50,
   "id": "f15f8873-9dac-4894-9a61-5103c62b2a72",
   "metadata": {},
   "outputs": [],
   "source": [
    "shortest = minimize(points, obstacles)"
   ]
  },
  {
   "cell_type": "code",
   "execution_count": 51,
   "id": "e4dc837c-83af-4a06-82b4-77748c3c2569",
   "metadata": {},
   "outputs": [
    {
     "name": "stdout",
     "output_type": "stream",
     "text": [
      "Function result: 30000000003386.863\n"
     ]
    }
   ],
   "source": [
    "print(f\"Function result: {F(points, obstacles)}\")"
   ]
  },
  {
   "cell_type": "code",
   "execution_count": 52,
   "id": "64453a1a-364f-4e8b-a40a-8803cbdfb2ff",
   "metadata": {},
   "outputs": [],
   "source": [
    "shortest_xs = [shortest[i][0] for i in range(21)]\n",
    "shortest_ys = [shortest[i][1] for i in range(21)]"
   ]
  },
  {
   "cell_type": "code",
   "execution_count": 53,
   "id": "52876c50-ca78-4371-a4dc-45ea1dc3f4ec",
   "metadata": {},
   "outputs": [
    {
     "data": {
      "image/png": "[encoded data removed]",
      "text/plain": [
       "<Figure size 640x480 with 1 Axes>"
      ]
     },
     "metadata": {},
     "output_type": "display_data"
    }
   ],
   "source": [
    "plt.scatter(shortest_xs, shortest_ys, color=\"blue\", label=\"points\")\n",
    "plt.scatter(obstacles_xs, obstacles_ys, color=\"red\", label=\"obstacles\")\n",
    "plt.legend()\n",
    "plt.show()"
   ]
  },
  {
   "cell_type": "markdown",
   "id": "5f869db6-40b8-48e4-a67e-ff95f0b6b963",
   "metadata": {},
   "source": [
    "## Próba 5"
   ]
  },
  {
   "cell_type": "code",
   "execution_count": 54,
   "id": "9a0d6e13-8933-4dbd-8ef4-ec0376076655",
   "metadata": {},
   "outputs": [],
   "source": [
    "points = [np.array([rng.randrange(0, 21), rng.randrange(0,21)]) for _ in range(21)]\n",
    "points[0] = np.array([0, 0])\n",
    "points[-1] = np.array([20, 20])\n",
    "obstacles = [np.array([rng.randrange(1, 20), rng.randrange(1, 20)]) for _ in range(50)]\n",
    "points_xs = [points[i][0] for i in range(21)]\n",
    "points_ys = [points[i][1] for i in range(21)]\n",
    "obstacles_xs = [obstacles[i][0] for i in range(50)]\n",
    "obstacles_ys = [obstacles[i][1] for i in range(50)]"
   ]
  },
  {
   "cell_type": "code",
   "execution_count": 55,
   "id": "efe94705-7e96-4c7e-83b2-e7c1ca1f2224",
   "metadata": {},
   "outputs": [
    {
     "data": {
      "image/png": "[encoded data removed]",
      "text/plain": [
       "<Figure size 640x480 with 1 Axes>"
      ]
     },
     "metadata": {},
     "output_type": "display_data"
    }
   ],
   "source": [
    "plt.scatter(points_xs, points_ys, color=\"blue\", label=\"points\")\n",
    "plt.scatter(obstacles_xs, obstacles_ys, color=\"red\", label=\"obstacles\")\n",
    "plt.legend()\n",
    "plt.show()"
   ]
  },
  {
   "cell_type": "code",
   "execution_count": 56,
   "id": "e8f51527-eaa2-4719-81e7-3a255575d435",
   "metadata": {},
   "outputs": [],
   "source": [
    "shortest = minimize(points, obstacles)"
   ]
  },
  {
   "cell_type": "code",
   "execution_count": 57,
   "id": "762f0eba-87d6-4910-87e1-fca1565be06e",
   "metadata": {},
   "outputs": [
    {
     "name": "stdout",
     "output_type": "stream",
     "text": [
      "Function result: 30000000002305.12\n"
     ]
    }
   ],
   "source": [
    "print(f\"Function result: {F(points, obstacles)}\")"
   ]
  },
  {
   "cell_type": "code",
   "execution_count": 58,
   "id": "73a82a85-e4d4-4615-8282-92fb644d6d22",
   "metadata": {},
   "outputs": [],
   "source": [
    "shortest_xs = [shortest[i][0] for i in range(21)]\n",
    "shortest_ys = [shortest[i][1] for i in range(21)]"
   ]
  },
  {
   "cell_type": "code",
   "execution_count": 59,
   "id": "de7c80ec-ed8b-4aa7-94e2-56677df75a89",
   "metadata": {},
   "outputs": [
    {
     "data": {
      "image/png": "[encoded data removed]",
      "text/plain": [
       "<Figure size 640x480 with 1 Axes>"
      ]
     },
     "metadata": {},
     "output_type": "display_data"
    }
   ],
   "source": [
    "plt.scatter(shortest_xs, shortest_ys, color=\"blue\", label=\"points\")\n",
    "plt.scatter(obstacles_xs, obstacles_ys, color=\"red\", label=\"obstacles\")\n",
    "plt.legend()\n",
    "plt.show()"
   ]
  },
  {
   "cell_type": "markdown",
   "id": "c01bcdd2-6b92-41c0-9075-6d11e076c3f0",
   "metadata": {},
   "source": [
    "## Wnioski"
   ]
  },
  {
   "cell_type": "markdown",
   "id": "42044b1e-40f4-41f7-8b7c-77c0a0659b76",
   "metadata": {},
   "source": [
    "Można zauważyć pewną prawidłowość w wyliczaniu ścieżki robota. Pierwszy przystanek jest w znacznej odległości od pola startowego. Wszystkie pozostałe przystanki są znacznie bliżej siebie."
   ]
  }
 ],
 "metadata": {
  "kernelspec": {
   "display_name": "Python 3 (ipykernel)",
   "language": "python",
   "name": "python3"
  },
  "language_info": {
   "codemirror_mode": {
    "name": "ipython",
    "version": 3
   },
   "file_extension": ".py",
   "mimetype": "text/x-python",
   "name": "python",
   "nbconvert_exporter": "python",
   "pygments_lexer": "ipython3",
   "version": "3.11.7"
  }
 },
 "nbformat": 4,
 "nbformat_minor": 5
}
