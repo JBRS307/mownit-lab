{
 "cells": [
  {
   "cell_type": "markdown",
   "id": "b80f8a57-8e89-4c7a-be0b-bcbe36944922",
   "metadata": {},
   "source": [
    "# Zadanie 1"
   ]
  },
  {
   "cell_type": "markdown",
   "id": "39476da9-722a-4449-a100-e588e9393e91",
   "metadata": {},
   "source": [
    "Zamiana ODE $n$-tego rzędu na równania pierwszego rzędu."
   ]
  },
  {
   "cell_type": "markdown",
   "id": "08a066be-7b30-4919-bbad-16bf13accb99",
   "metadata": {},
   "source": [
    "## $y''=y'-y^2y'-y$"
   ]
  },
  {
   "cell_type": "markdown",
   "id": "f766cf56-162a-46ac-bd81-3faa070eafd5",
   "metadata": {
    "tags": []
   },
   "source": [
    "Niech \n",
    "$$y_1(t)=y$$\n",
    "$$y_2(t)=y'$$\n",
    "wtedy\n",
    "$$\n",
    "\\begin{bmatrix}\n",
    "y_1'\\\\\n",
    "y_2'\n",
    "\\end{bmatrix}\n",
    "=\n",
    "\\begin{bmatrix}\n",
    "y_2\\\\\n",
    "y_2-y_1^2y_2-y_1\n",
    "\\end{bmatrix}\n",
    "$$"
   ]
  },
  {
   "cell_type": "markdown",
   "id": "ff472a29-ba65-4e48-b578-e18f5bf27fc2",
   "metadata": {},
   "source": [
    "## $y'''=-yy''$"
   ]
  },
  {
   "cell_type": "markdown",
   "id": "f5c62f9d-a4bc-4d88-97e8-af6ae339b6e0",
   "metadata": {},
   "source": [
    "Niech  \n",
    "$$y_1(t)=y$$  \n",
    "$$y_2(t)=y'$$  \n",
    "$$y_3(t)=y''$$\n",
    "wtedy\n",
    "$$\n",
    "\\begin{bmatrix}\n",
    "y_1'\\\\\n",
    "y_2'\\\\\n",
    "y_3'\n",
    "\\end{bmatrix}\n",
    "=\n",
    "\\begin{bmatrix}\n",
    "y_2\\\\\n",
    "y_3\\\\\n",
    "-y_1y_3\n",
    "\\end{bmatrix}\n",
    "$$"
   ]
  },
  {
   "cell_type": "markdown",
   "id": "fb3a927a-b53f-48d0-b6af-ffa5a7694959",
   "metadata": {},
   "source": [
    "## Układ 3"
   ]
  },
  {
   "cell_type": "markdown",
   "id": "b94599ce-4b06-4b1c-bc9e-0e3d9eb414fe",
   "metadata": {},
   "source": [
    "Niech\n",
    "$$y_a=y_1$$\n",
    "$$y_b=y_1'$$\n",
    "$$y_c=y_2$$\n",
    "$$y_d=y_2'$$\n",
    "wtedy\n",
    "$$\n",
    "\\begin{bmatrix}\n",
    "y_a'\\\\\n",
    "y_b'\\\\\n",
    "y_c'\\\\\n",
    "y_d'\\\\\n",
    "\\end{bmatrix}\n",
    "=\n",
    "\\begin{bmatrix}\n",
    "y_b\\\\\n",
    "-GMy_a\\left(y_a^2+y_c^2\\right)^{3/2}\\\\\n",
    "y_d\\\\\n",
    "-GMy_c\\left(y_a^2+y_c^2\\right)^{3/2}\n",
    "\\end{bmatrix}\n",
    "$$"
   ]
  },
  {
   "cell_type": "markdown",
   "id": "d6d0b4ab-0103-4524-ae4f-0155d82b15ce",
   "metadata": {},
   "source": [
    "# Zadanie 2"
   ]
  },
  {
   "cell_type": "code",
   "execution_count": 1,
   "id": "16dbf5a5-07cc-403d-bc5b-bc182155e4da",
   "metadata": {
    "tags": []
   },
   "outputs": [],
   "source": [
    "def explicit_euler_step(t0, y0, h):\n",
    "    y = y0 + h * (-5 * y0)\n",
    "    t = t0 + h\n",
    "    \n",
    "    return t, y"
   ]
  },
  {
   "cell_type": "markdown",
   "id": "8a57292d-73f5-4142-a86a-cae922aa7315",
   "metadata": {},
   "source": [
    "Równanie\n",
    "$$y'=-5y$$\n",
    "ma rozwiązanie ogólne w postaci\n",
    "$$y=ce^{-5t}$$\n",
    "Rozwiązaniem szczególnym dla $t_0=0$ i $y_0=1$ jest\n",
    "$$y=e^{-5t}$$"
   ]
  },
  {
   "cell_type": "markdown",
   "id": "870a59d6-e9f5-4a24-916a-519dcf25391d",
   "metadata": {},
   "source": [
    "## Analityczna stabilność"
   ]
  },
  {
   "cell_type": "markdown",
   "id": "645a1b0a-ae75-41c0-9080-d17a3af12af5",
   "metadata": {},
   "source": [
    "Niech\n",
    "$$y=c_1e^{-5t}$$\n",
    "oraz\n",
    "$$\\hat{y}=c_2e^{-5t}$$\n",
    "wtedy\n",
    "$$||y-\\hat{y}||=||(c_1-c_2)e^{-5t}||\\rightarrow0$$\n",
    "więc rozwiązanie jest asymptotycznie stabilne, zatem jest stabilne."
   ]
  },
  {
   "cell_type": "markdown",
   "id": "abda5f7f-6ee2-409a-8e1b-4e6a2f6d9e52",
   "metadata": {},
   "source": [
    "## Numeryczna stabilność"
   ]
  },
  {
   "cell_type": "markdown",
   "id": "8ef32ec8-87a9-41b5-834c-f2c068ee5d1c",
   "metadata": {
    "tags": []
   },
   "source": [
    "Jeśli równanie jest postaci\n",
    "$$y'=\\lambda{y}$$\n",
    "to jest stabilne jeśli\n",
    "$$|1+\\lambda{h}| < 1$$\n",
    "W naszym wypadku $\\lambda=-5$, natomiast $h=0.5$\n"
   ]
  },
  {
   "cell_type": "markdown",
   "id": "b8b3af82-36d2-479c-b275-30bd3382f345",
   "metadata": {},
   "source": [
    "Równanie nie jest stabilne, ponieważ\n",
    "$$|1-5\\cdot0.5|=|1-2.5|=|-1.5|>1$$"
   ]
  },
  {
   "cell_type": "markdown",
   "id": "1545fef6-14d0-4114-af4c-2e96c21d91c4",
   "metadata": {},
   "source": [
    "## Przybliżenie jawną metodą Eulera"
   ]
  },
  {
   "cell_type": "code",
   "execution_count": 2,
   "id": "af6097b5-2d1d-406c-a063-0e05bae95050",
   "metadata": {
    "tags": []
   },
   "outputs": [
    {
     "name": "stdout",
     "output_type": "stream",
     "text": [
      "For t = 0.5, approximation by Euler method is y = -1.5\n"
     ]
    }
   ],
   "source": [
    "y0 = 1\n",
    "t0 = 0\n",
    "h = 0.5\n",
    "n = 1\n",
    "t, y = explicit_euler_step(t0, y0, h)\n",
    "print(f\"For t = 0.5, approximation by Euler method is y = {y}\")"
   ]
  },
  {
   "cell_type": "code",
   "execution_count": 3,
   "id": "3395cb0b-5ea4-44df-90d2-729cda832798",
   "metadata": {
    "tags": []
   },
   "outputs": [
    {
     "name": "stdout",
     "output_type": "stream",
     "text": [
      "Relative error of explicit Euler method is 1929%\n"
     ]
    }
   ],
   "source": [
    "y_real = 0.082\n",
    "relative_err = (abs(y - y_real) / y_real) * 100\n",
    "print(f\"Relative error of explicit Euler method is {round(relative_err)}%\")"
   ]
  },
  {
   "cell_type": "markdown",
   "id": "b10792b3-6d3a-414c-ad4b-006b4140bbe2",
   "metadata": {},
   "source": [
    "Przybliżone rozwiązanie wynosi $y=-1.5$. Przy realnym rozwiązaniu równym $y^*\\approx0.082$ błąd względny wynosi $E\\approx1929\\%$"
   ]
  },
  {
   "cell_type": "markdown",
   "id": "1c3c9413-641d-4db0-bca1-a2a1594eea97",
   "metadata": {
    "tags": []
   },
   "source": [
    "## Stabilnośc numeryczna niejawnej metody Eulera"
   ]
  },
  {
   "cell_type": "markdown",
   "id": "d4dff3cb-d657-4521-8956-e0e32557a8ac",
   "metadata": {
    "tags": []
   },
   "source": [
    "Jeśli równanie jest postaci\n",
    "$$y'=\\lambda{y}$$\n",
    "to jest stabilne jeśli\n",
    "$$\\left|\\frac{1}{1-\\lambda{h}}\\right| < 1$$\n",
    "W naszym wypadku $\\lambda=-5$, natomiast $h=0.5$\n"
   ]
  },
  {
   "cell_type": "markdown",
   "id": "af0df0d4-f7ef-4bf2-92a5-4f255366985d",
   "metadata": {},
   "source": [
    "Rozwiązanie jest stabilne ponieważ\n",
    "$$\\left|\\frac{1}{1+2.5}\\right|=\\left|\\frac{1}{3.5}\\right|<1$$"
   ]
  },
  {
   "cell_type": "markdown",
   "id": "1a4ecf71-be15-481d-8f50-48d26a93acc7",
   "metadata": {},
   "source": [
    "## Przybliżenie niejawną metodą Eulera"
   ]
  },
  {
   "cell_type": "code",
   "execution_count": 4,
   "id": "5414f202-cb76-47c3-bf51-17796fbc2550",
   "metadata": {
    "tags": []
   },
   "outputs": [],
   "source": [
    "def implicit_euler_step(t0, y0, h):\n",
    "    y1 = y0 / (1 + 5*h)\n",
    "    \n",
    "    return t0+h, y1"
   ]
  },
  {
   "cell_type": "code",
   "execution_count": 5,
   "id": "4faa9ed0-3ebe-4307-813e-e55281b96f49",
   "metadata": {
    "tags": []
   },
   "outputs": [
    {
     "name": "stdout",
     "output_type": "stream",
     "text": [
      "For t = 0.5, approximation by implicit Euler method is y = 0.2857142857142857\n"
     ]
    }
   ],
   "source": [
    "y0 = 1\n",
    "t0 = 0\n",
    "h = 0.5\n",
    "t, y = implicit_euler_step(t0, y0, h)\n",
    "print(f\"For t = 0.5, approximation by implicit Euler method is y = {y}\")"
   ]
  },
  {
   "cell_type": "code",
   "execution_count": 6,
   "id": "2baf3ef3-d553-4d4e-90f9-a3930747f700",
   "metadata": {
    "tags": []
   },
   "outputs": [
    {
     "name": "stdout",
     "output_type": "stream",
     "text": [
      "Relative error for implicit Euler method is 248.4%\n"
     ]
    }
   ],
   "source": [
    "relative_err = (abs(y_real - y) / y_real) * 100\n",
    "print(f\"Relative error for implicit Euler method is {round(relative_err, 1)}%\")"
   ]
  },
  {
   "cell_type": "markdown",
   "id": "f4893550-af27-4f5c-91fa-8511c305db18",
   "metadata": {},
   "source": [
    "Wynik dla niejawnej metody Eulera $y\\approx0.286$. Błąd względny $E\\approx248.5\\%$"
   ]
  },
  {
   "cell_type": "markdown",
   "id": "5a20487d-33da-4d5c-8f26-d24941445330",
   "metadata": {},
   "source": [
    "# Zadanie 3"
   ]
  },
  {
   "cell_type": "markdown",
   "id": "d725d9a5-fa4e-422c-ba7e-199bb9c7ef62",
   "metadata": {},
   "source": [
    "$$\n",
    "\\begin{cases}\n",
    "S'=-\\beta{I}S\\\\\n",
    "I'=\\beta{I}S-\\gamma{I}\\\\\n",
    "R'=\\gamma{I}\n",
    "\\end{cases}\n",
    "$$"
   ]
  },
  {
   "cell_type": "markdown",
   "id": "2b50a727-9b9b-468a-b6e3-51965285c81b",
   "metadata": {},
   "source": [
    "Należy rozwiązać powyższy układ równań od $t_0=0$ do $t_k=14$ z krokiem $h=0.2$, dla wartości początkowych\n",
    "$$\n",
    "\\begin{cases}\n",
    "S(t_0)=762\\\\\n",
    "I(t_0)=1\\\\\n",
    "R(t_0)=0\n",
    "\\end{cases}\n",
    "$$\n",
    "Z parametrami początkowymi $\\beta=1$ i $\\gamma=\\frac{1}{7}$"
   ]
  },
  {
   "cell_type": "code",
   "execution_count": 7,
   "id": "d888254d-4c82-4e68-9906-9edf6de67cdf",
   "metadata": {
    "tags": []
   },
   "outputs": [],
   "source": [
    "import matplotlib.pyplot as plt\n",
    "import numpy as np\n",
    "import scipy.optimize as spo"
   ]
  },
  {
   "cell_type": "code",
   "execution_count": 8,
   "id": "04b2f2ad-d0d3-46d7-8501-37e89d165443",
   "metadata": {
    "tags": []
   },
   "outputs": [],
   "source": [
    "t0 = 0\n",
    "h = 0.2\n",
    "S0 = 762\n",
    "I0 = 1\n",
    "R0 = 0\n",
    "beta = 1\n",
    "gamma = 1/7\n",
    "N = 763"
   ]
  },
  {
   "cell_type": "markdown",
   "id": "51c044ee-b4f9-4cc6-899a-f764ee7cd7f9",
   "metadata": {},
   "source": [
    "## Jawna metoda Eulera"
   ]
  },
  {
   "cell_type": "code",
   "execution_count": 9,
   "id": "e306a92c-6107-42a4-ba74-488bae3333cd",
   "metadata": {
    "tags": []
   },
   "outputs": [],
   "source": [
    "def explicit_euler(S0, I0, R0, h, beta, gamma):\n",
    "    global N\n",
    "    Ss = []\n",
    "    Is = []\n",
    "    Rs = []\n",
    "    Ss.append(S0)\n",
    "    Is.append(I0)\n",
    "    Rs.append(R0)\n",
    "    \n",
    "    for k in range(70):\n",
    "        S_k = Ss[-1] + h * ((-beta/N) * Is[-1] * Ss[-1])\n",
    "        I_k = Is[-1] + h * ((beta/N) * Is[-1] * Ss[-1] - gamma * Is[-1])\n",
    "        R_k = Rs[-1] + h * (gamma * Is[-1])\n",
    "        Ss.append(S_k)\n",
    "        Rs.append(R_k)\n",
    "        Is.append(I_k)\n",
    "\n",
    "    return np.array(Ss), np.array(Is), np.array(Rs)    "
   ]
  },
  {
   "cell_type": "code",
   "execution_count": 10,
   "id": "627bb3f7-0a2b-48a8-a8eb-addf47e92620",
   "metadata": {
    "tags": []
   },
   "outputs": [],
   "source": [
    "t = np.arange(start = 0, stop=14.02, step=0.2)"
   ]
  },
  {
   "cell_type": "code",
   "execution_count": 11,
   "id": "a0062144-2a45-497c-bd25-492af8bfd6da",
   "metadata": {
    "tags": []
   },
   "outputs": [],
   "source": [
    "S_exp, I_exp, R_exp = explicit_euler(S0, I0, R0, h, beta, gamma)"
   ]
  },
  {
   "cell_type": "code",
   "execution_count": 12,
   "id": "e9d29fed-575e-4506-aea6-891137815f28",
   "metadata": {
    "tags": []
   },
   "outputs": [
    {
     "data": {
      "image/png": "[encoded data removed]",
      "text/plain": [
       "<Figure size 640x480 with 1 Axes>"
      ]
     },
     "metadata": {},
     "output_type": "display_data"
    }
   ],
   "source": [
    "plt.plot(t, S_exp, label=\"S\", color=\"yellow\")\n",
    "plt.plot(t, I_exp, label=\"I\", color=\"blue\")\n",
    "plt.plot(t, R_exp, label=\"R\", color=\"red\")\n",
    "plt.xlabel(\"day\")\n",
    "plt.ylabel(\"population\")\n",
    "plt.legend()\n",
    "plt.show()"
   ]
  },
  {
   "cell_type": "markdown",
   "id": "1faa9b34-8f27-4d60-b6c6-c8bfbf1e04a7",
   "metadata": {},
   "source": [
    "**Wyk. 1** - układ równań rozwiązany jawną metodą Eulera"
   ]
  },
  {
   "cell_type": "code",
   "execution_count": 13,
   "id": "54b0f5a1-078a-4204-8cd9-34712e5e3d54",
   "metadata": {},
   "outputs": [],
   "source": [
    "const_counter = S_exp + I_exp + R_exp"
   ]
  },
  {
   "cell_type": "markdown",
   "id": "75aa58be-4d6e-4c28-b2bc-b7ee90874056",
   "metadata": {},
   "source": [
    "## Niejawna metoda Eulera"
   ]
  },
  {
   "cell_type": "markdown",
   "id": "490681d2-4850-49c7-a446-c9798caa0d03",
   "metadata": {},
   "source": [
    "$$\n",
    "\\begin{cases}\n",
    "S_{n+1}=S_n+h\\left(-\\beta{I_{n+1}}S_{n+1}\\right)\\\\\n",
    "I_{n+1}=I_n+h\\left(\\beta{I_{n+1}}S_{n+1}-\\gamma{I_{n+1}}\\right)\\\\\n",
    "R_{n+1}=R_n+h\\left(\\gamma{I_{n+1}}\\right)\n",
    "\\end{cases}\n",
    "$$"
   ]
  },
  {
   "cell_type": "markdown",
   "id": "48760e59-314a-409d-8c46-495d9ce16ce6",
   "metadata": {},
   "source": [
    "$$\n",
    "\\begin{cases}\n",
    "S_n-S_{n+1}+h\\left(-\\beta{I_{n+1}}S_{n+1}\\right)=0\\\\\n",
    "I_n-I_{n+1}+h\\left(\\beta{I_{n+1}}S_{n+1}-\\gamma{I_{n+1}}\\right)=0\\\\\n",
    "R_n-R_{n+1}+h\\left(\\gamma{I_{n+1}}\\right)=0\n",
    "\\end{cases}\n",
    "$$"
   ]
  },
  {
   "cell_type": "markdown",
   "id": "c02fd362-d83b-45f9-b9c0-ce1454fafe89",
   "metadata": {},
   "source": [
    "$$\n",
    "\\begin{cases}\n",
    "S_n-S_{n+1}-h\\beta{I_{n+1}}S_{n+1}=0\\\\\n",
    "I_n-I_{n+1}+h\\beta{I_{n+1}}S_{n+1}-h\\gamma{I_{n+1}}=0\\\\\n",
    "R_n-R_{n+1}+h\\gamma{I_{n+1}}=0\n",
    "\\end{cases}\n",
    "$$"
   ]
  },
  {
   "cell_type": "code",
   "execution_count": 14,
   "id": "05fc8885-b1ff-4eec-80b8-a0d9e468bdce",
   "metadata": {
    "tags": []
   },
   "outputs": [],
   "source": [
    "def calc_func(Sk, Ik, Rk, h, beta, gamma):\n",
    "    # S_k+1 = x[0], I_k+1 = x[1], R_k+1 = x[2]\n",
    "    def func(x):\n",
    "        res = [\n",
    "            Sk - x[0] - h * (beta/N) * x[1] * x[0],\n",
    "            Ik - x[1] + h * (beta/N) * x[1] * x[0] - h * gamma * x[1],\n",
    "            Rk - x[2] + h * gamma * x[1]\n",
    "        ]\n",
    "        return res\n",
    "    \n",
    "    return func\n",
    "\n",
    "def implicit_euler(S0, I0, R0, h, beta, gamma):\n",
    "    Ss = []\n",
    "    Is = []\n",
    "    Rs = []\n",
    "    Ss.append(S0)\n",
    "    Is.append(I0)\n",
    "    Rs.append(R0)\n",
    "\n",
    "    # Function generalized so it can be used in task 4\n",
    "    iterations = len(np.arange(start=0, stop=14+h, step=h)) - 1\n",
    "    \n",
    "    for k in range(iterations):\n",
    "        func = calc_func(Ss[-1], Is[-1], Rs[-1], h, beta, gamma)\n",
    "        S, I, R = spo.fsolve(func, (Ss[-1], Is[-1], Rs[-1]))\n",
    "        Ss.append(S)\n",
    "        Is.append(I)\n",
    "        Rs.append(R)\n",
    "\n",
    "    return np.array(Ss), np.array(Is), np.array(Rs)"
   ]
  },
  {
   "cell_type": "code",
   "execution_count": 15,
   "id": "650f7aca-31a2-4164-ae58-1c572cca0e9a",
   "metadata": {
    "tags": []
   },
   "outputs": [],
   "source": [
    "S_imp, I_imp, R_imp = implicit_euler(S0, I0, R0, h, beta, gamma)"
   ]
  },
  {
   "cell_type": "code",
   "execution_count": 16,
   "id": "3e56818a-e787-43b9-8b8f-0a2b5ac93c94",
   "metadata": {
    "tags": []
   },
   "outputs": [
    {
     "data": {
      "image/png": "[encoded data removed]",
      "text/plain": [
       "<Figure size 640x480 with 1 Axes>"
      ]
     },
     "metadata": {},
     "output_type": "display_data"
    }
   ],
   "source": [
    "plt.plot(t, S_imp, label=\"S\", color=\"yellow\")\n",
    "plt.plot(t, I_imp, label=\"I\", color=\"blue\")\n",
    "plt.plot(t, R_imp, label=\"R\", color=\"red\")\n",
    "plt.xlabel(\"day\")\n",
    "plt.ylabel(\"population\")\n",
    "plt.legend()\n",
    "plt.show()"
   ]
  },
  {
   "cell_type": "markdown",
   "id": "4b0a4de8-45e2-4d03-be72-0f061953d23d",
   "metadata": {},
   "source": [
    "**Wyk. 2** - układ rozwiązany niejawną metodą Eulera"
   ]
  },
  {
   "cell_type": "markdown",
   "id": "7e5cc821-bb7e-4b78-93ee-5d36c9de6496",
   "metadata": {},
   "source": [
    "## Metoda Rungego-Kutty 4 rzędu"
   ]
  },
  {
   "cell_type": "code",
   "execution_count": 17,
   "id": "e3f2d157-520b-4eaf-a29a-76fdd2b00fdd",
   "metadata": {},
   "outputs": [],
   "source": [
    "def RK4(S0, I0, R0):\n",
    "    global h, beta, gamma, N\n",
    "\n",
    "    Ss = [S0]\n",
    "    Is = [I0]\n",
    "    Rs = [R0]\n",
    "\n",
    "    for i in range(70):\n",
    "        kS1 = (-beta/N) * Is[-1] * Ss[-1]\n",
    "        kI1 = (beta/N) * Is[-1] * Ss[-1] - gamma * Is[-1]\n",
    "        kR1 = gamma * Is[-1]\n",
    "        \n",
    "        kS2 = (-beta/N) * (Is[-1] + 0.5 * h * kI1) * (Ss[-1] + 0.5 * h * kS1)\n",
    "        kI2 = (beta/N) * (Is[-1] + 0.5 * h * kI1) * (Ss[-1] + 0.5 * h * kS1) - gamma * (Is[-1] + 0.5 * h * kI1)\n",
    "        kR2 = gamma * (Is[-1] + 0.5 * h * kI1)\n",
    "        \n",
    "        kS3 = (-beta/N) * (Is[-1] + 0.5 * h * kI2) * (Ss[-1] + 0.5 * h * kS2)\n",
    "        kI3 = (beta/N) * (Is[-1] + 0.5 * h * kI2) * (Ss[-1] + 0.5 * h * kS2) - gamma * (Is[-1] + 0.5 * h * kI2)\n",
    "        kR3 = gamma * (Is[-1] + 0.5 * h * kI2)\n",
    "        \n",
    "        kS4 = (-beta/N) * (Is[-1] + h * kI3) * (Ss[-1] + h * kS3)\n",
    "        kI4 = (beta/N) * (Is[-1] + h * kI3) * (Ss[-1] + h * kS3) - gamma * (Is[-1] + h * kI3)\n",
    "        kR4 = gamma * (Is[-1] + h * kI3)\n",
    "\n",
    "        S = Ss[-1] + (h/6) * (kS1 + 2*kS2 + 2*kS3 + kS4)\n",
    "        I = Is[-1] + (h/6) * (kI1 + 2*kI2 + 2*kI3 + kI4)\n",
    "        R = Rs[-1] + (h/6) * (kR1 + 2*kR2 + 2*kR3 + kR4)\n",
    "\n",
    "        Ss.append(S)\n",
    "        Is.append(I)\n",
    "        Rs.append(R)\n",
    "\n",
    "\n",
    "    return np.array(Ss), np.array(Is), np.array(Rs)"
   ]
  },
  {
   "cell_type": "code",
   "execution_count": 18,
   "id": "18401e6f-46db-4237-bfac-027d9a927486",
   "metadata": {},
   "outputs": [],
   "source": [
    "S_rk, I_rk, R_rk = RK4(S0, I0, R0)"
   ]
  },
  {
   "cell_type": "code",
   "execution_count": 19,
   "id": "b48abce9-4829-41f7-9962-16ca0802bd13",
   "metadata": {},
   "outputs": [
    {
     "data": {
      "image/png": "[encoded data removed]",
      "text/plain": [
       "<Figure size 640x480 with 1 Axes>"
      ]
     },
     "metadata": {},
     "output_type": "display_data"
    }
   ],
   "source": [
    "plt.plot(t, S_rk, label=\"S\", color=\"yellow\")\n",
    "plt.plot(t, I_rk, label=\"I\", color=\"blue\")\n",
    "plt.plot(t, R_rk, label=\"R\", color=\"red\")\n",
    "plt.xlabel(\"day\")\n",
    "plt.ylabel(\"population\")\n",
    "plt.legend()\n",
    "plt.show()"
   ]
  },
  {
   "cell_type": "markdown",
   "id": "3a153d08-4f9e-4dba-b1f2-9ee3d83ebe12",
   "metadata": {},
   "source": [
    "**Wyk. 3** - układ rozwiązany metodą RK4"
   ]
  },
  {
   "cell_type": "markdown",
   "id": "3cc22f47-003c-45df-8cb5-54d4aa8c3b0d",
   "metadata": {},
   "source": [
    "## Wspólny wykres stałej populacji"
   ]
  },
  {
   "cell_type": "code",
   "execution_count": 20,
   "id": "4762e58c-ce86-4085-8563-cd4b3c6d9a1b",
   "metadata": {},
   "outputs": [
    {
     "data": {
      "text/plain": [
       "71"
      ]
     },
     "execution_count": 20,
     "metadata": {},
     "output_type": "execute_result"
    }
   ],
   "source": [
    "exp = S_exp + I_exp + R_exp\n",
    "imp = S_imp + I_imp + R_imp\n",
    "rk = S_rk + I_rk + R_rk\n",
    "len(imp)"
   ]
  },
  {
   "cell_type": "code",
   "execution_count": 21,
   "id": "49f52794-50a5-4598-81c6-82b1ad1ec8fd",
   "metadata": {},
   "outputs": [
    {
     "data": {
      "image/png": "[encoded data removed]",
      "text/plain": [
       "<Figure size 640x480 with 1 Axes>"
      ]
     },
     "metadata": {},
     "output_type": "display_data"
    }
   ],
   "source": [
    "plt.plot(t, exp, label=\"EXP\", color=\"yellow\")\n",
    "plt.plot(t, imp, label=\"IMP\", color=\"blue\")\n",
    "plt.plot(t, rk, label=\"RK\", color=\"red\")\n",
    "plt.xlabel(\"day\")\n",
    "plt.ylabel(\"summaric population\")\n",
    "plt.legend()\n",
    "plt.show()"
   ]
  },
  {
   "cell_type": "markdown",
   "id": "0b2d0175-ff3f-4bb0-b19a-2532f94aea55",
   "metadata": {},
   "source": [
    "**Wyk. 4** - $N(t)+I(t)+R(t)$ dla trzech metod"
   ]
  },
  {
   "cell_type": "markdown",
   "id": "4c4e3d2a-278b-4588-8914-276d007450ea",
   "metadata": {},
   "source": [
    "# Zadanie 4"
   ]
  },
  {
   "cell_type": "code",
   "execution_count": 22,
   "id": "66c8b0b9-ae2a-441f-bd96-5dc20f4e56ec",
   "metadata": {},
   "outputs": [],
   "source": [
    "days = np.linspace(start = 0, stop = 14, num = 15)\n",
    "infected = np.array([1, 3, 6, 25, 73, 222, 294, 258, 237, 191, 125, 69, 27, 11, 4])"
   ]
  },
  {
   "cell_type": "markdown",
   "id": "ae509c8d-41a1-41dc-a227-72c4cdd1d3cf",
   "metadata": {},
   "source": [
    "## Funkcja 1"
   ]
  },
  {
   "cell_type": "code",
   "execution_count": 23,
   "id": "687eca72-d0eb-4861-a25e-a709070b0756",
   "metadata": {},
   "outputs": [],
   "source": [
    "def rss(theta, h, S0, I0, R0):\n",
    "    global infected\n",
    "    beta, gamma = theta\n",
    "    _, infected_calc, _ = implicit_euler(S0, I0, R0, h, beta, gamma)\n",
    "    return np.sum((infected - infected_calc)**2)"
   ]
  },
  {
   "cell_type": "code",
   "execution_count": 24,
   "id": "0f72a7ab-e815-4ee5-9b7e-142a5900aee2",
   "metadata": {},
   "outputs": [],
   "source": [
    "%%capture\n",
    "theta_guess = (beta, gamma)\n",
    "res = spo.minimize(rss, theta_guess, args=(1, S0, I0, R0), method = \"Nelder-Mead\")\n",
    "beta_calc = res.x[0]\n",
    "gamma_calc = res.x[1]\n",
    "print(f\"Estimated beta = {beta_calc}, estimated gamma = {gamma_calc}\")\n",
    "print(f\"Reproduction rate: {beta_calc/gamma_calc}\")"
   ]
  },
  {
   "cell_type": "markdown",
   "id": "3dee7e44-ac70-4205-b2e0-de9070dca6af",
   "metadata": {},
   "source": [
    "Obliczone wartości parametrów wynoszą $\\beta\\approx1.212$, $\\gamma\\approx0.374$.  \n",
    "Współczynnik reprodukcji $R_0=\\frac{\\beta}{\\gamma}\\approx3.239$"
   ]
  },
  {
   "cell_type": "markdown",
   "id": "db89b731-513b-4395-9dd9-f98fb2329ade",
   "metadata": {},
   "source": [
    "## Funkcja 2"
   ]
  },
  {
   "cell_type": "code",
   "execution_count": 25,
   "id": "2ed5ab24-bb77-442f-9396-2484b49bfc86",
   "metadata": {},
   "outputs": [],
   "source": [
    "def ll(theta, h, S0, I0, R0):\n",
    "    global infected\n",
    "    beta, gamma = theta\n",
    "    _, infected_calc, _ = implicit_euler(S0, I0, R0, h, beta, gamma)\n",
    "    return -np.sum(infected * np.log(infected_calc)) + np.sum(infected_calc)"
   ]
  },
  {
   "cell_type": "code",
   "execution_count": 26,
   "id": "a2e46f33-3df0-42a9-98aa-b17ab72bbf94",
   "metadata": {},
   "outputs": [
    {
     "name": "stdout",
     "output_type": "stream",
     "text": [
      "Estimated beta = 1.2492457208752223, estimated gamma = 0.42846048654358776\n",
      "Reproduction rate: 2.915661443959396\n"
     ]
    }
   ],
   "source": [
    "theta_guess = (beta, gamma)\n",
    "res = spo.minimize(ll, theta_guess, args=(1, S0, I0, R0), method = \"Nelder-Mead\")\n",
    "beta_calc = res.x[0]\n",
    "gamma_calc = res.x[1]\n",
    "print(f\"Estimated beta = {beta_calc}, estimated gamma = {gamma_calc}\")\n",
    "print(f\"Reproduction rate: {beta_calc/gamma_calc}\")"
   ]
  },
  {
   "cell_type": "markdown",
   "id": "377cb8eb-831e-4fa3-be17-1fd262baa825",
   "metadata": {},
   "source": [
    "Obliczone wartości parametrów wynoszą $\\beta\\approx1.249$, $\\gamma\\approx0.428$.  \n",
    "Współczynnik reprodukcji $R_0=\\frac{\\beta}{\\gamma}\\approx2.916$"
   ]
  }
 ],
 "metadata": {
  "kernelspec": {
   "display_name": "Python 3 (ipykernel)",
   "language": "python",
   "name": "python3"
  },
  "language_info": {
   "codemirror_mode": {
    "name": "ipython",
    "version": 3
   },
   "file_extension": ".py",
   "mimetype": "text/x-python",
   "name": "python",
   "nbconvert_exporter": "python",
   "pygments_lexer": "ipython3",
   "version": "3.11.5"
  }
 },
 "nbformat": 4,
 "nbformat_minor": 5
}
